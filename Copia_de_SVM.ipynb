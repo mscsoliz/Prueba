{
  "nbformat": 4,
  "nbformat_minor": 0,
  "metadata": {
    "colab": {
      "provenance": [],
      "include_colab_link": true
    },
    "kernelspec": {
      "name": "python3",
      "display_name": "Python 3"
    },
    "language_info": {
      "name": "python"
    }
  },
  "cells": [
    {
      "cell_type": "markdown",
      "metadata": {
        "id": "view-in-github",
        "colab_type": "text"
      },
      "source": [
        "<a href=\"https://colab.research.google.com/github/mscsoliz/Prueba/blob/main/Copia_de_SVM.ipynb\" target=\"_parent\"><img src=\"https://colab.research.google.com/assets/colab-badge.svg\" alt=\"Open In Colab\"/></a>"
      ]
    },
    {
      "cell_type": "markdown",
      "source": [
        "**SUPPORT VECTOR MACHINE (SVM)**\n",
        "\n",
        "Se usa ampliamente en una variedad de aplicaciones de clasificación y regresión en machine learning\n",
        "\n",
        "Usos Comunes de SVM\n",
        "\n",
        "**Clasificación de Texto:**\n",
        "\n",
        "Spam Detection: Clasificación de correos electrónicos en spam o no spam.\n",
        "Document Classification: Clasificación de documentos en diferentes categorías.\n",
        "\n",
        "**Reconocimiento de Imágenes:**\n",
        "\n",
        "Detección de Objetos: Identificación de objetos en imágenes.\n",
        "Reconocimiento Facial: Identificación o verificación de identidades en imágenes faciales.\n",
        "\n",
        "**Bioinformática:**\n",
        "\n",
        "Clasificación de Proteínas: Clasificación de proteínas en diferentes clases basadas en sus secuencias.\n",
        "Predicción de Enfermedades: Diagnóstico de enfermedades a partir de datos genómicos.\n",
        "\n",
        "**Análisis de Sentimientos:**\n",
        "\n",
        "Opiniones y Comentarios: Clasificación de comentarios en positivos, negativos o neutros.\n",
        "\n",
        "**Finanzas:**\n",
        "\n",
        "Detección de Fraude: Identificación de transacciones fraudulentas en sistemas financieros.\n",
        "\n",
        "**Medicina:**\n",
        "\n",
        "Diagnóstico: Clasificación de imágenes médicas para ayudar en el diagnóstico de enfermedades.\n",
        "\n",
        "**METRICAS PARA EVALUAR SVM**\n",
        "\n",
        "Las métricas para evaluar un modelo SVM dependen del tipo de problema (clasificación o regresión) y pueden variar. Aquí te muestro algunas métricas comunes para clasificación:\n",
        "\n",
        "**Precisión (Accuracy):**\n",
        "\n",
        "Definición: Proporción de predicciones correctas entre el total de predicciones.\n",
        "\n",
        "Uso: Es útil cuando el costo de los falsos positivos es alto.\n",
        "\n",
        "**Precisión (Precision):**\n",
        "\n",
        "Definición: Proporción de verdaderos positivos entre los positivos predichos.\n",
        "\n",
        "Uso: Es útil cuando el costo de los falsos positivos es alto.\n",
        "\n",
        "**Recall (Sensibilidad o Tasa de Verdaderos Positivos):**\n",
        "\n",
        "Definición: Proporción de verdaderos positivos entre los positivos reales.\n",
        "\n",
        "Uso: Es útil cuando el costo de los falsos negativos es alto.\n",
        "\n",
        "**F1-Score:**\n",
        "\n",
        "Definición: Media armónica de la precisión y el recall.\n",
        "\n",
        "Uso: Proporciona un balance entre precisión y recall, especialmente útil cuando hay un desequilibrio en las clases.\n",
        "\n",
        "**Matriz de Confusión:**\n",
        "\n",
        "Definición: Tabla que muestra los verdaderos positivos, falsos positivos, verdaderos negativos y falsos negativos.\n",
        "Uso: Ayuda a entender el desempeño del modelo en cada clase.\n",
        "\n",
        "**Área Bajo la Curva ROC (AUC-ROC):**\n",
        "\n",
        "Definición: Área bajo la curva de la característica operativa del receptor (ROC).\n",
        "Uso: Mide la capacidad del modelo para distinguir entre clases. Un valor de 1 indica un modelo perfecto, y un valor de 0.5 indica un modelo que no es mejor que un azar.\n",
        "\n",
        "**Área Bajo la Curva PR (AUC-PR):**\n",
        "\n",
        "Definición: Área bajo la curva de precisión-recall (PR).\n",
        "Uso: Es especialmente útil en escenarios con clases desequilibradas, donde la precisión y el recall son más importantes que la precisión general."
      ],
      "metadata": {
        "id": "r-mHHgOH9kPg"
      }
    },
    {
      "cell_type": "code",
      "execution_count": null,
      "metadata": {
        "colab": {
          "base_uri": "https://localhost:8080/"
        },
        "id": "eTERFN_d86F5",
        "outputId": "2e66ccec-3855-4def-a2a3-c7e1016f7731"
      },
      "outputs": [
        {
          "output_type": "stream",
          "name": "stdout",
          "text": [
            "Accuracy: 1.0\n",
            "Classification Report:\n",
            "               precision    recall  f1-score   support\n",
            "\n",
            "           0       1.00      1.00      1.00        19\n",
            "           1       1.00      1.00      1.00        13\n",
            "           2       1.00      1.00      1.00        13\n",
            "\n",
            "    accuracy                           1.00        45\n",
            "   macro avg       1.00      1.00      1.00        45\n",
            "weighted avg       1.00      1.00      1.00        45\n",
            "\n"
          ]
        }
      ],
      "source": [
        "# Importamos las bibliotecas necesarias\n",
        "from sklearn import datasets  # Para cargar el conjunto de datos\n",
        "from sklearn.model_selection import train_test_split  # Para dividir los datos en conjuntos de entrenamiento y prueba\n",
        "from sklearn import svm  # Para el clasificador SVM\n",
        "from sklearn.metrics import classification_report, accuracy_score  # Para evaluar el desempeño del modelo\n",
        "\n",
        "# Cargamos el conjunto de datos Iris\n",
        "iris = datasets.load_iris()\n",
        "\n",
        "# `iris.data` contiene las características del dataset (sepal length, sepal width, petal length, petal width)\n",
        "# `iris.target` contiene las etiquetas de clase (0, 1, 2)\n",
        "X = iris.data\n",
        "y = iris.target\n",
        "\n",
        "# Dividimos el dataset en conjunto de entrenamiento (70%) y conjunto de prueba (30%)\n",
        "X_train, X_test, y_train, y_test = train_test_split(X, y, test_size=0.3, random_state=42)\n",
        "\n",
        "# Creamos un clasificador SVM con un núcleo lineal\n",
        "# kernel='linear' indica que usaremos un núcleo lineal (una frontera de decisión lineal).\n",
        "# C=1.0 es un parámetro que controla la penalización por errores de clasificación.\n",
        "# Un valor pequeño de C hace que el margen sea más importante que clasificar todos los puntos correctamente.\n",
        "# Esto significa que el modelo puede permitir algunos errores en el conjunto de entrenamiento para obtener un margen más amplio.\n",
        "# En otras palabras, es más tolerante con los errores.\n",
        "# Puede llevar a un modelo menos complejo y menos sobreajustado (underfitting), pero también puede llevar a un desempeño deficiente si el margen es demasiado amplio.\n",
        "# Un valor grande de C penaliza más los errores de clasificación. Esto significa que el modelo se enfocará en clasificar correctamente todos los puntos de entrenamiento, incluso si eso resulta en un margen más pequeño.\n",
        "# Puede llevar a un modelo más complejo que se ajusta muy bien a los datos de entrenamiento (overfitting), capturando incluso el ruido en los datos\n",
        "\n",
        "clf = svm.SVC(kernel='linear', C=1.0)\n",
        "\n",
        "\n",
        "\n",
        "# Entrenamos el clasificador con el conjunto de entrenamiento\n",
        "clf.fit(X_train, y_train)\n",
        "\n",
        "# Usamos el clasificador para predecir las etiquetas del conjunto de prueba\n",
        "y_pred = clf.predict(X_test)\n",
        "\n",
        "# Evaluamos el rendimiento del clasificador\n",
        "print(\"Accuracy:\", accuracy_score(y_test, y_pred))\n",
        "print(\"Classification Report:\\n\", classification_report(y_test, y_pred))\n"
      ]
    },
    {
      "cell_type": "code",
      "source": [
        "# Datos de entrada de ejemplo (en este caso, características del iris)\n",
        "# Ejemplo: [sepal length, sepal width, petal length, petal width]\n",
        "example_data = [\n",
        "    [5.1, 3.5, 1.4, 0.2],  # Ejemplo de una flor Iris-setosa\n",
        "    [6.2, 2.8, 4.8, 1.8],  # Ejemplo de una flor Iris-versicolor\n",
        "    [7.9, 3.8, 6.4, 2.0]   # Ejemplo de una flor Iris-virginica\n",
        "]\n",
        "\n",
        "# Hacer predicciones con los datos de entrada de ejemplo\n",
        "# predict() usa el modelo entrenado para clasificar los datos de entrada de ejemplo.\n",
        "predictions = clf.predict(example_data)\n",
        "\n",
        "# Mapeo de las etiquetas a los nombres de las especies\n",
        "# iris.target_names contiene los nombres de las especies ('setosa', 'versicolor', 'virginica').\n",
        "species_names = iris.target_names\n",
        "\n",
        "# Mostrar las predicciones,\n",
        "# Itera sobre los datos de entrada de ejemplo y muestra la predicción correspondiente del modelo.\n",
        "for i, data in enumerate(example_data):\n",
        "    print(f\"Datos de entrada: {data}\")\n",
        "    print(f\"Predicción: {species_names[predictions[i]]}\")"
      ],
      "metadata": {
        "colab": {
          "base_uri": "https://localhost:8080/"
        },
        "id": "6lv-H2nrAo8N",
        "outputId": "5360cc45-aa16-43aa-ef58-2733d89eaf53"
      },
      "execution_count": null,
      "outputs": [
        {
          "output_type": "stream",
          "name": "stdout",
          "text": [
            "Datos de entrada: [5.1, 3.5, 1.4, 0.2]\n",
            "Predicción: setosa\n",
            "Datos de entrada: [6.2, 2.8, 4.8, 1.8]\n",
            "Predicción: virginica\n",
            "Datos de entrada: [7.9, 3.8, 6.4, 2.0]\n",
            "Predicción: virginica\n"
          ]
        }
      ]
    }
  ]
}