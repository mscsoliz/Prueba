{
  "cells": [
    {
      "cell_type": "markdown",
      "metadata": {
        "id": "view-in-github",
        "colab_type": "text"
      },
      "source": [
        "<a href=\"https://colab.research.google.com/github/mscsoliz/Prueba/blob/main/TP5_G3.ipynb\" target=\"_parent\"><img src=\"https://colab.research.google.com/assets/colab-badge.svg\" alt=\"Open In Colab\"/></a>"
      ]
    },
    {
      "cell_type": "markdown",
      "metadata": {
        "id": "YtBn5CL5UrY4"
      },
      "source": [
        "# DETERMINAR EL IMPACTO DE UNA NOTICIA PUBLICADA POR LOS PERIODISTAS EN MEDIOS DIGITALES"
      ]
    },
    {
      "cell_type": "markdown",
      "source": [
        "# 1. COMPRENSIÓN DEL NEGOCIO"
      ],
      "metadata": {
        "id": "f7xjLxKYXs9t"
      }
    },
    {
      "cell_type": "markdown",
      "source": [
        "## 1.1 Objetivo del Negocio"
      ],
      "metadata": {
        "id": "O5JwF4hoX3Dc"
      }
    },
    {
      "cell_type": "markdown",
      "metadata": {
        "id": "JM4uIM4FVEir"
      },
      "source": [
        "Se determinará el impacto de una noticia publicada por los periodistas mediante técnicas de Minería de Datos. Se requiere obtener la cantidad de notas que producen los periodistas en el portal digital (CMS Web), luego saber en qué sección de noticias se producen más, y finalmente los horarios más frecuentes de publicación."
      ]
    },
    {
      "cell_type": "markdown",
      "source": [
        "## 1.2 Recursos"
      ],
      "metadata": {
        "id": "rLLnuRzRX-z6"
      }
    },
    {
      "cell_type": "markdown",
      "source": [
        "Los periodistas escriben en el portal digital (CMS). Podemos acceder a este sistema a traves de reportes y estos datos serán exportados a archivos excel.\n",
        "\n",
        "En cuanto a las restricciones, en este portal solamente se pueden bajar 200 registros por ejecución, lo cual nos darán bastantes archivos para luego unirlos y es por ese motivo que se trabajará con la data del primer semestre de este año 2024 (1 de enero al 30 de junio).\n",
        "\n",
        "Las herramientas para este trabajo serán: Python y Excel.\n"
      ],
      "metadata": {
        "id": "MrYj6I4jYECX"
      }
    },
    {
      "cell_type": "markdown",
      "source": [
        "# 2. COMPRENSIÓN DE DATOS"
      ],
      "metadata": {
        "id": "icpbZpXhYLCb"
      }
    },
    {
      "cell_type": "markdown",
      "source": [
        "## 2.1 Descripción de los datos"
      ],
      "metadata": {
        "id": "2j6mJxMSYOSN"
      }
    },
    {
      "cell_type": "markdown",
      "source": [
        "La información recolectada se encuentra en el archivo Excel (alojados en el drive) con 17094 filas y 17 columnas.\n",
        "\n",
        "Cada registro contiene estas características:\n",
        "\"Status\": Estado (numérica)\n",
        "\"Title\": Título de la nota (texto)\n",
        "\"Secciones_Web\": Seccion de la nota (texto)\n",
        "\"Fecha_Publicacion\": Fecha y Hora de publicación (texto)\n",
        "\"Fecha_Creacion\": Fecha y Hora de creación (texto)\n",
        "\"Autor\": Firma (texto)\n",
        "\"Creador\": Periodista (texto)\n",
        "\"Link\": Hipervinculo de la nota (texto)\n",
        "\"Mes\": Mes de la nota (numérica)\n",
        "\"Dia\": Dia de la nota (numérica)\n",
        "\"Año\": Año de la nota (numérica)\n",
        "\"Hora\": Hora de la nota (texto)\n",
        "\"Hora_Publicacion\": Hora de Publicación (numérica)\n",
        "\"Seccion\": Sección de la nota (texto)\n",
        "\"Cod_Impacto\": Código de Impacto por nota (numérica)\n",
        "\"Impacto\": Impacto por nota (texto)\n",
        "\"Visitas\": Cantidad de visitas por nota (numérica)\n",
        "\n"
      ],
      "metadata": {
        "id": "jGY98Y9UYRo3"
      }
    },
    {
      "cell_type": "markdown",
      "source": [
        "## 2.2 Exploración de los datos"
      ],
      "metadata": {
        "id": "kJYZcAxdYVVz"
      }
    },
    {
      "cell_type": "code",
      "source": [
        "#CARGA DE LIBRERIAS\n",
        "import pandas as pd\n",
        "import numpy as np\n",
        "import requests\n",
        "import openpyxl\n",
        "from sklearn.impute import SimpleImputer\n",
        "from sklearn.feature_selection import SelectKBest, f_classif"
      ],
      "metadata": {
        "id": "Vzga5OEvc5Dr"
      },
      "execution_count": null,
      "outputs": []
    },
    {
      "cell_type": "code",
      "source": [
        "#MONTAR DRIVE Y LEER BD_DIGITAL\n",
        "from google.colab import drive\n",
        "# Montar el Drive\n",
        "drive.mount('/content/drive')\n",
        "\n",
        "ruta_archivo = \"/content/drive/MyDrive/BD/bd_digital.xlsx\"\n",
        "df_digital = pd.read_excel(ruta_archivo, sheet_name='Datos')\n",
        "df_digital.head()"
      ],
      "metadata": {
        "colab": {
          "base_uri": "https://localhost:8080/",
          "height": 538
        },
        "id": "058yKFOwdH1G",
        "outputId": "10da6e56-0729-4da7-d7ab-3d55455a8aea"
      },
      "execution_count": null,
      "outputs": [
        {
          "output_type": "stream",
          "name": "stdout",
          "text": [
            "Mounted at /content/drive\n"
          ]
        },
        {
          "output_type": "execute_result",
          "data": {
            "text/plain": [
              "      Status                                              Title  \\\n",
              "0  PUBLISHED  Bolivia pasará de país exportador  a transport...   \n",
              "1  PUBLISHED  La ANH garantiza abastecimiento de combustible...   \n",
              "2  PUBLISHED  Cainco: \"No dejemos que la política se siga co...   \n",
              "3  PUBLISHED  Bloquean ingreso de trenes a la ciudad y ponen...   \n",
              "4  PUBLISHED  Padrón de contribuyentes del SIN creció 4,2% e...   \n",
              "\n",
              "                       Secciones_Web        Fecha_Publicacion  \\\n",
              "0          ECONOMÍA, Edición Impresa  Jan 30, 2024 - 04:00 AM   \n",
              "1                           ECONOMÍA  Jan 29, 2024 - 12:17 PM   \n",
              "2                           ECONOMÍA  Jan 26, 2024 - 07:20 PM   \n",
              "3                           ECONOMÍA  Jan 24, 2024 - 09:02 AM   \n",
              "4  ECONOMÍA, Dinero, Edición Impresa  Jan 23, 2024 - 04:24 PM   \n",
              "\n",
              "            Fecha_Creacion                        Autor             Creador  \\\n",
              "0  Jan 29, 2024 - 11:07 PM  Ernesto Estremadoiro Flores    Ernesto Guevarra   \n",
              "1  Jan 29, 2024 - 12:01 PM  Ernesto Estremadoiro Flores    Ernesto Guevarra   \n",
              "2  Jan 26, 2024 - 06:39 PM           Lourdes Molina Rea  Lourdes Molina Rea   \n",
              "3  Jan 24, 2024 - 09:10 AM               Raúl Domínguez   rado_bo@yahoo.com   \n",
              "4  Jan 23, 2024 - 04:28 PM               Raúl Domínguez      Beatriz Pinzon   \n",
              "\n",
              "                                                Link  Mes  Dia   Año  \\\n",
              "0  https://eldeber.com.bo/355054_bolivia-pasara-d...  Jan   30  2024   \n",
              "1  https://eldeber.com.bo/354986_la-anh-garantiza...  Jan   29  2024   \n",
              "2  https://eldeber.com.bo/354746_cainco-no-dejemo...  Jan   26  2024   \n",
              "3  https://eldeber.com.bo/354409_bloquean-ingreso...  Jan   24  2024   \n",
              "4  https://eldeber.com.bo/354339_padron-de-contri...  Jan   23  2024   \n",
              "\n",
              "       Hora  Hora_Publicacion   Seccion  Cod_Impacto       Impacto  Visitas  \n",
              "0  04:00 AM                 4  ECONOMÍA            7  Gran Impacto    91295  \n",
              "1  12:17 PM                12  ECONOMÍA            7  Gran Impacto    85746  \n",
              "2  07:20 PM                19  ECONOMÍA            7  Gran Impacto    54910  \n",
              "3  09:02 AM                 9  ECONOMÍA            7  Gran Impacto    84434  \n",
              "4  04:24 PM                16  ECONOMÍA            7  Gran Impacto    98429  "
            ],
            "text/html": [
              "\n",
              "  <div id=\"df-6837c579-4887-4785-a2c3-2c625b15b5a5\" class=\"colab-df-container\">\n",
              "    <div>\n",
              "<style scoped>\n",
              "    .dataframe tbody tr th:only-of-type {\n",
              "        vertical-align: middle;\n",
              "    }\n",
              "\n",
              "    .dataframe tbody tr th {\n",
              "        vertical-align: top;\n",
              "    }\n",
              "\n",
              "    .dataframe thead th {\n",
              "        text-align: right;\n",
              "    }\n",
              "</style>\n",
              "<table border=\"1\" class=\"dataframe\">\n",
              "  <thead>\n",
              "    <tr style=\"text-align: right;\">\n",
              "      <th></th>\n",
              "      <th>Status</th>\n",
              "      <th>Title</th>\n",
              "      <th>Secciones_Web</th>\n",
              "      <th>Fecha_Publicacion</th>\n",
              "      <th>Fecha_Creacion</th>\n",
              "      <th>Autor</th>\n",
              "      <th>Creador</th>\n",
              "      <th>Link</th>\n",
              "      <th>Mes</th>\n",
              "      <th>Dia</th>\n",
              "      <th>Año</th>\n",
              "      <th>Hora</th>\n",
              "      <th>Hora_Publicacion</th>\n",
              "      <th>Seccion</th>\n",
              "      <th>Cod_Impacto</th>\n",
              "      <th>Impacto</th>\n",
              "      <th>Visitas</th>\n",
              "    </tr>\n",
              "  </thead>\n",
              "  <tbody>\n",
              "    <tr>\n",
              "      <th>0</th>\n",
              "      <td>PUBLISHED</td>\n",
              "      <td>Bolivia pasará de país exportador  a transport...</td>\n",
              "      <td>ECONOMÍA, Edición Impresa</td>\n",
              "      <td>Jan 30, 2024 - 04:00 AM</td>\n",
              "      <td>Jan 29, 2024 - 11:07 PM</td>\n",
              "      <td>Ernesto Estremadoiro Flores</td>\n",
              "      <td>Ernesto Guevarra</td>\n",
              "      <td>https://eldeber.com.bo/355054_bolivia-pasara-d...</td>\n",
              "      <td>Jan</td>\n",
              "      <td>30</td>\n",
              "      <td>2024</td>\n",
              "      <td>04:00 AM</td>\n",
              "      <td>4</td>\n",
              "      <td>ECONOMÍA</td>\n",
              "      <td>7</td>\n",
              "      <td>Gran Impacto</td>\n",
              "      <td>91295</td>\n",
              "    </tr>\n",
              "    <tr>\n",
              "      <th>1</th>\n",
              "      <td>PUBLISHED</td>\n",
              "      <td>La ANH garantiza abastecimiento de combustible...</td>\n",
              "      <td>ECONOMÍA</td>\n",
              "      <td>Jan 29, 2024 - 12:17 PM</td>\n",
              "      <td>Jan 29, 2024 - 12:01 PM</td>\n",
              "      <td>Ernesto Estremadoiro Flores</td>\n",
              "      <td>Ernesto Guevarra</td>\n",
              "      <td>https://eldeber.com.bo/354986_la-anh-garantiza...</td>\n",
              "      <td>Jan</td>\n",
              "      <td>29</td>\n",
              "      <td>2024</td>\n",
              "      <td>12:17 PM</td>\n",
              "      <td>12</td>\n",
              "      <td>ECONOMÍA</td>\n",
              "      <td>7</td>\n",
              "      <td>Gran Impacto</td>\n",
              "      <td>85746</td>\n",
              "    </tr>\n",
              "    <tr>\n",
              "      <th>2</th>\n",
              "      <td>PUBLISHED</td>\n",
              "      <td>Cainco: \"No dejemos que la política se siga co...</td>\n",
              "      <td>ECONOMÍA</td>\n",
              "      <td>Jan 26, 2024 - 07:20 PM</td>\n",
              "      <td>Jan 26, 2024 - 06:39 PM</td>\n",
              "      <td>Lourdes Molina Rea</td>\n",
              "      <td>Lourdes Molina Rea</td>\n",
              "      <td>https://eldeber.com.bo/354746_cainco-no-dejemo...</td>\n",
              "      <td>Jan</td>\n",
              "      <td>26</td>\n",
              "      <td>2024</td>\n",
              "      <td>07:20 PM</td>\n",
              "      <td>19</td>\n",
              "      <td>ECONOMÍA</td>\n",
              "      <td>7</td>\n",
              "      <td>Gran Impacto</td>\n",
              "      <td>54910</td>\n",
              "    </tr>\n",
              "    <tr>\n",
              "      <th>3</th>\n",
              "      <td>PUBLISHED</td>\n",
              "      <td>Bloquean ingreso de trenes a la ciudad y ponen...</td>\n",
              "      <td>ECONOMÍA</td>\n",
              "      <td>Jan 24, 2024 - 09:02 AM</td>\n",
              "      <td>Jan 24, 2024 - 09:10 AM</td>\n",
              "      <td>Raúl Domínguez</td>\n",
              "      <td>rado_bo@yahoo.com</td>\n",
              "      <td>https://eldeber.com.bo/354409_bloquean-ingreso...</td>\n",
              "      <td>Jan</td>\n",
              "      <td>24</td>\n",
              "      <td>2024</td>\n",
              "      <td>09:02 AM</td>\n",
              "      <td>9</td>\n",
              "      <td>ECONOMÍA</td>\n",
              "      <td>7</td>\n",
              "      <td>Gran Impacto</td>\n",
              "      <td>84434</td>\n",
              "    </tr>\n",
              "    <tr>\n",
              "      <th>4</th>\n",
              "      <td>PUBLISHED</td>\n",
              "      <td>Padrón de contribuyentes del SIN creció 4,2% e...</td>\n",
              "      <td>ECONOMÍA, Dinero, Edición Impresa</td>\n",
              "      <td>Jan 23, 2024 - 04:24 PM</td>\n",
              "      <td>Jan 23, 2024 - 04:28 PM</td>\n",
              "      <td>Raúl Domínguez</td>\n",
              "      <td>Beatriz Pinzon</td>\n",
              "      <td>https://eldeber.com.bo/354339_padron-de-contri...</td>\n",
              "      <td>Jan</td>\n",
              "      <td>23</td>\n",
              "      <td>2024</td>\n",
              "      <td>04:24 PM</td>\n",
              "      <td>16</td>\n",
              "      <td>ECONOMÍA</td>\n",
              "      <td>7</td>\n",
              "      <td>Gran Impacto</td>\n",
              "      <td>98429</td>\n",
              "    </tr>\n",
              "  </tbody>\n",
              "</table>\n",
              "</div>\n",
              "    <div class=\"colab-df-buttons\">\n",
              "\n",
              "  <div class=\"colab-df-container\">\n",
              "    <button class=\"colab-df-convert\" onclick=\"convertToInteractive('df-6837c579-4887-4785-a2c3-2c625b15b5a5')\"\n",
              "            title=\"Convert this dataframe to an interactive table.\"\n",
              "            style=\"display:none;\">\n",
              "\n",
              "  <svg xmlns=\"http://www.w3.org/2000/svg\" height=\"24px\" viewBox=\"0 -960 960 960\">\n",
              "    <path d=\"M120-120v-720h720v720H120Zm60-500h600v-160H180v160Zm220 220h160v-160H400v160Zm0 220h160v-160H400v160ZM180-400h160v-160H180v160Zm440 0h160v-160H620v160ZM180-180h160v-160H180v160Zm440 0h160v-160H620v160Z\"/>\n",
              "  </svg>\n",
              "    </button>\n",
              "\n",
              "  <style>\n",
              "    .colab-df-container {\n",
              "      display:flex;\n",
              "      gap: 12px;\n",
              "    }\n",
              "\n",
              "    .colab-df-convert {\n",
              "      background-color: #E8F0FE;\n",
              "      border: none;\n",
              "      border-radius: 50%;\n",
              "      cursor: pointer;\n",
              "      display: none;\n",
              "      fill: #1967D2;\n",
              "      height: 32px;\n",
              "      padding: 0 0 0 0;\n",
              "      width: 32px;\n",
              "    }\n",
              "\n",
              "    .colab-df-convert:hover {\n",
              "      background-color: #E2EBFA;\n",
              "      box-shadow: 0px 1px 2px rgba(60, 64, 67, 0.3), 0px 1px 3px 1px rgba(60, 64, 67, 0.15);\n",
              "      fill: #174EA6;\n",
              "    }\n",
              "\n",
              "    .colab-df-buttons div {\n",
              "      margin-bottom: 4px;\n",
              "    }\n",
              "\n",
              "    [theme=dark] .colab-df-convert {\n",
              "      background-color: #3B4455;\n",
              "      fill: #D2E3FC;\n",
              "    }\n",
              "\n",
              "    [theme=dark] .colab-df-convert:hover {\n",
              "      background-color: #434B5C;\n",
              "      box-shadow: 0px 1px 3px 1px rgba(0, 0, 0, 0.15);\n",
              "      filter: drop-shadow(0px 1px 2px rgba(0, 0, 0, 0.3));\n",
              "      fill: #FFFFFF;\n",
              "    }\n",
              "  </style>\n",
              "\n",
              "    <script>\n",
              "      const buttonEl =\n",
              "        document.querySelector('#df-6837c579-4887-4785-a2c3-2c625b15b5a5 button.colab-df-convert');\n",
              "      buttonEl.style.display =\n",
              "        google.colab.kernel.accessAllowed ? 'block' : 'none';\n",
              "\n",
              "      async function convertToInteractive(key) {\n",
              "        const element = document.querySelector('#df-6837c579-4887-4785-a2c3-2c625b15b5a5');\n",
              "        const dataTable =\n",
              "          await google.colab.kernel.invokeFunction('convertToInteractive',\n",
              "                                                    [key], {});\n",
              "        if (!dataTable) return;\n",
              "\n",
              "        const docLinkHtml = 'Like what you see? Visit the ' +\n",
              "          '<a target=\"_blank\" href=https://colab.research.google.com/notebooks/data_table.ipynb>data table notebook</a>'\n",
              "          + ' to learn more about interactive tables.';\n",
              "        element.innerHTML = '';\n",
              "        dataTable['output_type'] = 'display_data';\n",
              "        await google.colab.output.renderOutput(dataTable, element);\n",
              "        const docLink = document.createElement('div');\n",
              "        docLink.innerHTML = docLinkHtml;\n",
              "        element.appendChild(docLink);\n",
              "      }\n",
              "    </script>\n",
              "  </div>\n",
              "\n",
              "\n",
              "<div id=\"df-573cd7ce-520f-4512-99a6-e14b00ba5300\">\n",
              "  <button class=\"colab-df-quickchart\" onclick=\"quickchart('df-573cd7ce-520f-4512-99a6-e14b00ba5300')\"\n",
              "            title=\"Suggest charts\"\n",
              "            style=\"display:none;\">\n",
              "\n",
              "<svg xmlns=\"http://www.w3.org/2000/svg\" height=\"24px\"viewBox=\"0 0 24 24\"\n",
              "     width=\"24px\">\n",
              "    <g>\n",
              "        <path d=\"M19 3H5c-1.1 0-2 .9-2 2v14c0 1.1.9 2 2 2h14c1.1 0 2-.9 2-2V5c0-1.1-.9-2-2-2zM9 17H7v-7h2v7zm4 0h-2V7h2v10zm4 0h-2v-4h2v4z\"/>\n",
              "    </g>\n",
              "</svg>\n",
              "  </button>\n",
              "\n",
              "<style>\n",
              "  .colab-df-quickchart {\n",
              "      --bg-color: #E8F0FE;\n",
              "      --fill-color: #1967D2;\n",
              "      --hover-bg-color: #E2EBFA;\n",
              "      --hover-fill-color: #174EA6;\n",
              "      --disabled-fill-color: #AAA;\n",
              "      --disabled-bg-color: #DDD;\n",
              "  }\n",
              "\n",
              "  [theme=dark] .colab-df-quickchart {\n",
              "      --bg-color: #3B4455;\n",
              "      --fill-color: #D2E3FC;\n",
              "      --hover-bg-color: #434B5C;\n",
              "      --hover-fill-color: #FFFFFF;\n",
              "      --disabled-bg-color: #3B4455;\n",
              "      --disabled-fill-color: #666;\n",
              "  }\n",
              "\n",
              "  .colab-df-quickchart {\n",
              "    background-color: var(--bg-color);\n",
              "    border: none;\n",
              "    border-radius: 50%;\n",
              "    cursor: pointer;\n",
              "    display: none;\n",
              "    fill: var(--fill-color);\n",
              "    height: 32px;\n",
              "    padding: 0;\n",
              "    width: 32px;\n",
              "  }\n",
              "\n",
              "  .colab-df-quickchart:hover {\n",
              "    background-color: var(--hover-bg-color);\n",
              "    box-shadow: 0 1px 2px rgba(60, 64, 67, 0.3), 0 1px 3px 1px rgba(60, 64, 67, 0.15);\n",
              "    fill: var(--button-hover-fill-color);\n",
              "  }\n",
              "\n",
              "  .colab-df-quickchart-complete:disabled,\n",
              "  .colab-df-quickchart-complete:disabled:hover {\n",
              "    background-color: var(--disabled-bg-color);\n",
              "    fill: var(--disabled-fill-color);\n",
              "    box-shadow: none;\n",
              "  }\n",
              "\n",
              "  .colab-df-spinner {\n",
              "    border: 2px solid var(--fill-color);\n",
              "    border-color: transparent;\n",
              "    border-bottom-color: var(--fill-color);\n",
              "    animation:\n",
              "      spin 1s steps(1) infinite;\n",
              "  }\n",
              "\n",
              "  @keyframes spin {\n",
              "    0% {\n",
              "      border-color: transparent;\n",
              "      border-bottom-color: var(--fill-color);\n",
              "      border-left-color: var(--fill-color);\n",
              "    }\n",
              "    20% {\n",
              "      border-color: transparent;\n",
              "      border-left-color: var(--fill-color);\n",
              "      border-top-color: var(--fill-color);\n",
              "    }\n",
              "    30% {\n",
              "      border-color: transparent;\n",
              "      border-left-color: var(--fill-color);\n",
              "      border-top-color: var(--fill-color);\n",
              "      border-right-color: var(--fill-color);\n",
              "    }\n",
              "    40% {\n",
              "      border-color: transparent;\n",
              "      border-right-color: var(--fill-color);\n",
              "      border-top-color: var(--fill-color);\n",
              "    }\n",
              "    60% {\n",
              "      border-color: transparent;\n",
              "      border-right-color: var(--fill-color);\n",
              "    }\n",
              "    80% {\n",
              "      border-color: transparent;\n",
              "      border-right-color: var(--fill-color);\n",
              "      border-bottom-color: var(--fill-color);\n",
              "    }\n",
              "    90% {\n",
              "      border-color: transparent;\n",
              "      border-bottom-color: var(--fill-color);\n",
              "    }\n",
              "  }\n",
              "</style>\n",
              "\n",
              "  <script>\n",
              "    async function quickchart(key) {\n",
              "      const quickchartButtonEl =\n",
              "        document.querySelector('#' + key + ' button');\n",
              "      quickchartButtonEl.disabled = true;  // To prevent multiple clicks.\n",
              "      quickchartButtonEl.classList.add('colab-df-spinner');\n",
              "      try {\n",
              "        const charts = await google.colab.kernel.invokeFunction(\n",
              "            'suggestCharts', [key], {});\n",
              "      } catch (error) {\n",
              "        console.error('Error during call to suggestCharts:', error);\n",
              "      }\n",
              "      quickchartButtonEl.classList.remove('colab-df-spinner');\n",
              "      quickchartButtonEl.classList.add('colab-df-quickchart-complete');\n",
              "    }\n",
              "    (() => {\n",
              "      let quickchartButtonEl =\n",
              "        document.querySelector('#df-573cd7ce-520f-4512-99a6-e14b00ba5300 button');\n",
              "      quickchartButtonEl.style.display =\n",
              "        google.colab.kernel.accessAllowed ? 'block' : 'none';\n",
              "    })();\n",
              "  </script>\n",
              "</div>\n",
              "\n",
              "    </div>\n",
              "  </div>\n"
            ],
            "application/vnd.google.colaboratory.intrinsic+json": {
              "type": "dataframe",
              "variable_name": "df_digital",
              "summary": "{\n  \"name\": \"df_digital\",\n  \"rows\": 17094,\n  \"fields\": [\n    {\n      \"column\": \"Status\",\n      \"properties\": {\n        \"dtype\": \"category\",\n        \"num_unique_values\": 1,\n        \"samples\": [\n          \"PUBLISHED\"\n        ],\n        \"semantic_type\": \"\",\n        \"description\": \"\"\n      }\n    },\n    {\n      \"column\": \"Title\",\n      \"properties\": {\n        \"dtype\": \"string\",\n        \"num_unique_values\": 16858,\n        \"samples\": [\n          \"Descubren un tesoro en Chile: f\\u00f3siles de un reptil marino de 70 millones de a\\u00f1os\"\n        ],\n        \"semantic_type\": \"\",\n        \"description\": \"\"\n      }\n    },\n    {\n      \"column\": \"Secciones_Web\",\n      \"properties\": {\n        \"dtype\": \"category\",\n        \"num_unique_values\": 238,\n        \"samples\": [\n          \"Mundo, GeekED\"\n        ],\n        \"semantic_type\": \"\",\n        \"description\": \"\"\n      }\n    },\n    {\n      \"column\": \"Fecha_Publicacion\",\n      \"properties\": {\n        \"dtype\": \"object\",\n        \"num_unique_values\": 14600,\n        \"samples\": [\n          \"May 15, 2024 - 11:56 AM\"\n        ],\n        \"semantic_type\": \"\",\n        \"description\": \"\"\n      }\n    },\n    {\n      \"column\": \"Fecha_Creacion\",\n      \"properties\": {\n        \"dtype\": \"object\",\n        \"num_unique_values\": 15544,\n        \"samples\": [\n          \"May 22, 2024 - 01:13 PM\"\n        ],\n        \"semantic_type\": \"\",\n        \"description\": \"\"\n      }\n    },\n    {\n      \"column\": \"Autor\",\n      \"properties\": {\n        \"dtype\": \"category\",\n        \"num_unique_values\": 281,\n        \"samples\": [\n          \"Silvana Vincenti\"\n        ],\n        \"semantic_type\": \"\",\n        \"description\": \"\"\n      }\n    },\n    {\n      \"column\": \"Creador\",\n      \"properties\": {\n        \"dtype\": \"category\",\n        \"num_unique_values\": 59,\n        \"samples\": [\n          \"Ernesto Guevarra\"\n        ],\n        \"semantic_type\": \"\",\n        \"description\": \"\"\n      }\n    },\n    {\n      \"column\": \"Link\",\n      \"properties\": {\n        \"dtype\": \"string\",\n        \"num_unique_values\": 17094,\n        \"samples\": [\n          \"https://eldeber.com.bo/355492_aitana-tufino-tendra-la-corona-de-sus-suenos\"\n        ],\n        \"semantic_type\": \"\",\n        \"description\": \"\"\n      }\n    },\n    {\n      \"column\": \"Mes\",\n      \"properties\": {\n        \"dtype\": \"category\",\n        \"num_unique_values\": 6,\n        \"samples\": [\n          \"Jan\"\n        ],\n        \"semantic_type\": \"\",\n        \"description\": \"\"\n      }\n    },\n    {\n      \"column\": \"Dia\",\n      \"properties\": {\n        \"dtype\": \"number\",\n        \"std\": 8,\n        \"min\": 1,\n        \"max\": 31,\n        \"num_unique_values\": 31,\n        \"samples\": [\n          28\n        ],\n        \"semantic_type\": \"\",\n        \"description\": \"\"\n      }\n    },\n    {\n      \"column\": \"A\\u00f1o\",\n      \"properties\": {\n        \"dtype\": \"number\",\n        \"std\": 0,\n        \"min\": 2024,\n        \"max\": 2024,\n        \"num_unique_values\": 1,\n        \"samples\": [\n          2024\n        ],\n        \"semantic_type\": \"\",\n        \"description\": \"\"\n      }\n    },\n    {\n      \"column\": \"Hora\",\n      \"properties\": {\n        \"dtype\": \"object\",\n        \"num_unique_values\": 1084,\n        \"samples\": [\n          \"08:09 PM\"\n        ],\n        \"semantic_type\": \"\",\n        \"description\": \"\"\n      }\n    },\n    {\n      \"column\": \"Hora_Publicacion\",\n      \"properties\": {\n        \"dtype\": \"number\",\n        \"std\": 5,\n        \"min\": 0,\n        \"max\": 23,\n        \"num_unique_values\": 23,\n        \"samples\": [\n          8\n        ],\n        \"semantic_type\": \"\",\n        \"description\": \"\"\n      }\n    },\n    {\n      \"column\": \"Seccion\",\n      \"properties\": {\n        \"dtype\": \"category\",\n        \"num_unique_values\": 9,\n        \"samples\": [\n          \"SOCIEDAD\"\n        ],\n        \"semantic_type\": \"\",\n        \"description\": \"\"\n      }\n    },\n    {\n      \"column\": \"Cod_Impacto\",\n      \"properties\": {\n        \"dtype\": \"number\",\n        \"std\": 1,\n        \"min\": 1,\n        \"max\": 7,\n        \"num_unique_values\": 7,\n        \"samples\": [\n          7\n        ],\n        \"semantic_type\": \"\",\n        \"description\": \"\"\n      }\n    },\n    {\n      \"column\": \"Impacto\",\n      \"properties\": {\n        \"dtype\": \"category\",\n        \"num_unique_values\": 7,\n        \"samples\": [\n          \"Gran Impacto\"\n        ],\n        \"semantic_type\": \"\",\n        \"description\": \"\"\n      }\n    },\n    {\n      \"column\": \"Visitas\",\n      \"properties\": {\n        \"dtype\": \"number\",\n        \"std\": 20523,\n        \"min\": 1,\n        \"max\": 99988,\n        \"num_unique_values\": 12856,\n        \"samples\": [\n          8738\n        ],\n        \"semantic_type\": \"\",\n        \"description\": \"\"\n      }\n    }\n  ]\n}"
            }
          },
          "metadata": {},
          "execution_count": 3
        }
      ]
    },
    {
      "cell_type": "code",
      "source": [
        "#FILAS Y COLUMNAS\n",
        "df_digital.shape"
      ],
      "metadata": {
        "colab": {
          "base_uri": "https://localhost:8080/"
        },
        "id": "wlOM4uQzdeMt",
        "outputId": "482258d9-650d-4561-889d-5a5c355c180e"
      },
      "execution_count": null,
      "outputs": [
        {
          "output_type": "execute_result",
          "data": {
            "text/plain": [
              "(17094, 17)"
            ]
          },
          "metadata": {},
          "execution_count": 4
        }
      ]
    },
    {
      "cell_type": "markdown",
      "source": [
        "La data obtenida de digital cuenta con 17094 filas y 17 columnas."
      ],
      "metadata": {
        "id": "d698b4YB8PMT"
      }
    },
    {
      "cell_type": "code",
      "source": [
        "# GRÁFICOS DE DISTRIBUCIÓN POR PERIODISTA DIGITAL\n",
        "import numpy as np\n",
        "import matplotlib.pyplot as plt\n",
        "\n",
        "datos=df_digital['Creador']\n",
        "plt = datos.value_counts().plot(kind='bar',title='Cantidad de Notas por Periodista')"
      ],
      "metadata": {
        "colab": {
          "base_uri": "https://localhost:8080/",
          "height": 708
        },
        "id": "yjgdFuhidom5",
        "outputId": "439ff7e4-0965-4d21-9e44-8ad3e54f18dc"
      },
      "execution_count": null,
      "outputs": [
        {
          "output_type": "display_data",
          "data": {
            "text/plain": [
              "<Figure size 640x480 with 1 Axes>"
            ],
            "image/png": "[encoded data removed]"
          },
          "metadata": {}
        }
      ]
    },
    {
      "cell_type": "code",
      "source": [
        "# GRÁFICOS DE DISTRIBUCIÓN POR SECCIONES\n",
        "import numpy as np\n",
        "import matplotlib.pyplot as plt\n",
        "\n",
        "datos=df_digital['Seccion']\n",
        "plt = datos.value_counts().plot(kind='bar',title='Histograma de Sección')"
      ],
      "metadata": {
        "colab": {
          "base_uri": "https://localhost:8080/",
          "height": 571
        },
        "id": "6WE8HaBngKc6",
        "outputId": "bb5fb129-0bbb-468c-e376-da018a2be4aa"
      },
      "execution_count": null,
      "outputs": [
        {
          "output_type": "display_data",
          "data": {
            "text/plain": [
              "<Figure size 640x480 with 1 Axes>"
            ],
            "image/png": "[encoded data removed]"
          },
          "metadata": {}
        }
      ]
    },
    {
      "cell_type": "code",
      "source": [
        "# GRÁFICO - CANTIDAD DE NOTAS POR MES\n",
        "import numpy as np\n",
        "import matplotlib.pyplot as plt\n",
        "\n",
        "datos = df_digital['Mes']\n",
        "plt.hist(x=datos, bins=30, color='#F2AB6D', rwidth=0.85)\n",
        "plt.title('Notas por Mes')\n",
        "plt.xlabel('Mes')\n",
        "plt.ylabel('Cantidad')\n",
        "plt.show()"
      ],
      "metadata": {
        "colab": {
          "base_uri": "https://localhost:8080/",
          "height": 472
        },
        "id": "Tx0-1bMj1HA1",
        "outputId": "eb5922e7-5b52-43d8-90ae-e09cc720134c"
      },
      "execution_count": null,
      "outputs": [
        {
          "output_type": "display_data",
          "data": {
            "text/plain": [
              "<Figure size 640x480 with 1 Axes>"
            ],
            "image/png": "[encoded data removed]"
          },
          "metadata": {}
        }
      ]
    },
    {
      "cell_type": "code",
      "source": [
        "# GRÁFICO - HORAS DE PUBLICACIÓN\n",
        "datos = df_digital['Hora_Publicacion']\n",
        "plt = datos.value_counts().plot(kind='bar',color='green',title='Cantidad de notas por Hora de Publicación')"
      ],
      "metadata": {
        "colab": {
          "base_uri": "https://localhost:8080/",
          "height": 476
        },
        "id": "eCwQ-36ZiRT8",
        "outputId": "de1d3f79-634a-42f3-81e7-3c048f623c74"
      },
      "execution_count": null,
      "outputs": [
        {
          "output_type": "display_data",
          "data": {
            "text/plain": [
              "<Figure size 640x480 with 1 Axes>"
            ],
            "image/png": "[encoded data removed]"
          },
          "metadata": {}
        }
      ]
    },
    {
      "cell_type": "markdown",
      "source": [
        "## 2.3 Calidad de los datos"
      ],
      "metadata": {
        "id": "tSzllySyYiGf"
      }
    },
    {
      "cell_type": "code",
      "source": [
        "# RANGOS DE LAS VARIABLES NUMÉRICAS\n",
        "df_digital.describe()   # muestra resumen del dataframe"
      ],
      "metadata": {
        "colab": {
          "base_uri": "https://localhost:8080/",
          "height": 300
        },
        "id": "-lN8um0UzOHW",
        "outputId": "c08d8754-98d3-44b1-f9ac-f465cac40192"
      },
      "execution_count": null,
      "outputs": [
        {
          "output_type": "execute_result",
          "data": {
            "text/plain": [
              "                Dia      Año  Hora_Publicacion   Cod_Impacto       Visitas\n",
              "count  17094.000000  17094.0      17094.000000  17094.000000  17094.000000\n",
              "mean      15.337253   2024.0         12.653563      3.567802  17526.126302\n",
              "std        8.479470      0.0          5.225979      1.793775  20523.606006\n",
              "min        1.000000   2024.0          0.000000      1.000000      1.000000\n",
              "25%        8.000000   2024.0          9.000000      2.000000   3317.250000\n",
              "50%       16.000000   2024.0         12.000000      3.000000   9689.500000\n",
              "75%       23.000000   2024.0         17.000000      5.000000  24265.000000\n",
              "max       31.000000   2024.0         23.000000      7.000000  99988.000000"
            ],
            "text/html": [
              "\n",
              "  <div id=\"df-dbc9cf9c-3f87-40d0-bf52-e42b1d91879a\" class=\"colab-df-container\">\n",
              "    <div>\n",
              "<style scoped>\n",
              "    .dataframe tbody tr th:only-of-type {\n",
              "        vertical-align: middle;\n",
              "    }\n",
              "\n",
              "    .dataframe tbody tr th {\n",
              "        vertical-align: top;\n",
              "    }\n",
              "\n",
              "    .dataframe thead th {\n",
              "        text-align: right;\n",
              "    }\n",
              "</style>\n",
              "<table border=\"1\" class=\"dataframe\">\n",
              "  <thead>\n",
              "    <tr style=\"text-align: right;\">\n",
              "      <th></th>\n",
              "      <th>Dia</th>\n",
              "      <th>Año</th>\n",
              "      <th>Hora_Publicacion</th>\n",
              "      <th>Cod_Impacto</th>\n",
              "      <th>Visitas</th>\n",
              "    </tr>\n",
              "  </thead>\n",
              "  <tbody>\n",
              "    <tr>\n",
              "      <th>count</th>\n",
              "      <td>17094.000000</td>\n",
              "      <td>17094.0</td>\n",
              "      <td>17094.000000</td>\n",
              "      <td>17094.000000</td>\n",
              "      <td>17094.000000</td>\n",
              "    </tr>\n",
              "    <tr>\n",
              "      <th>mean</th>\n",
              "      <td>15.337253</td>\n",
              "      <td>2024.0</td>\n",
              "      <td>12.653563</td>\n",
              "      <td>3.567802</td>\n",
              "      <td>17526.126302</td>\n",
              "    </tr>\n",
              "    <tr>\n",
              "      <th>std</th>\n",
              "      <td>8.479470</td>\n",
              "      <td>0.0</td>\n",
              "      <td>5.225979</td>\n",
              "      <td>1.793775</td>\n",
              "      <td>20523.606006</td>\n",
              "    </tr>\n",
              "    <tr>\n",
              "      <th>min</th>\n",
              "      <td>1.000000</td>\n",
              "      <td>2024.0</td>\n",
              "      <td>0.000000</td>\n",
              "      <td>1.000000</td>\n",
              "      <td>1.000000</td>\n",
              "    </tr>\n",
              "    <tr>\n",
              "      <th>25%</th>\n",
              "      <td>8.000000</td>\n",
              "      <td>2024.0</td>\n",
              "      <td>9.000000</td>\n",
              "      <td>2.000000</td>\n",
              "      <td>3317.250000</td>\n",
              "    </tr>\n",
              "    <tr>\n",
              "      <th>50%</th>\n",
              "      <td>16.000000</td>\n",
              "      <td>2024.0</td>\n",
              "      <td>12.000000</td>\n",
              "      <td>3.000000</td>\n",
              "      <td>9689.500000</td>\n",
              "    </tr>\n",
              "    <tr>\n",
              "      <th>75%</th>\n",
              "      <td>23.000000</td>\n",
              "      <td>2024.0</td>\n",
              "      <td>17.000000</td>\n",
              "      <td>5.000000</td>\n",
              "      <td>24265.000000</td>\n",
              "    </tr>\n",
              "    <tr>\n",
              "      <th>max</th>\n",
              "      <td>31.000000</td>\n",
              "      <td>2024.0</td>\n",
              "      <td>23.000000</td>\n",
              "      <td>7.000000</td>\n",
              "      <td>99988.000000</td>\n",
              "    </tr>\n",
              "  </tbody>\n",
              "</table>\n",
              "</div>\n",
              "    <div class=\"colab-df-buttons\">\n",
              "\n",
              "  <div class=\"colab-df-container\">\n",
              "    <button class=\"colab-df-convert\" onclick=\"convertToInteractive('df-dbc9cf9c-3f87-40d0-bf52-e42b1d91879a')\"\n",
              "            title=\"Convert this dataframe to an interactive table.\"\n",
              "            style=\"display:none;\">\n",
              "\n",
              "  <svg xmlns=\"http://www.w3.org/2000/svg\" height=\"24px\" viewBox=\"0 -960 960 960\">\n",
              "    <path d=\"M120-120v-720h720v720H120Zm60-500h600v-160H180v160Zm220 220h160v-160H400v160Zm0 220h160v-160H400v160ZM180-400h160v-160H180v160Zm440 0h160v-160H620v160ZM180-180h160v-160H180v160Zm440 0h160v-160H620v160Z\"/>\n",
              "  </svg>\n",
              "    </button>\n",
              "\n",
              "  <style>\n",
              "    .colab-df-container {\n",
              "      display:flex;\n",
              "      gap: 12px;\n",
              "    }\n",
              "\n",
              "    .colab-df-convert {\n",
              "      background-color: #E8F0FE;\n",
              "      border: none;\n",
              "      border-radius: 50%;\n",
              "      cursor: pointer;\n",
              "      display: none;\n",
              "      fill: #1967D2;\n",
              "      height: 32px;\n",
              "      padding: 0 0 0 0;\n",
              "      width: 32px;\n",
              "    }\n",
              "\n",
              "    .colab-df-convert:hover {\n",
              "      background-color: #E2EBFA;\n",
              "      box-shadow: 0px 1px 2px rgba(60, 64, 67, 0.3), 0px 1px 3px 1px rgba(60, 64, 67, 0.15);\n",
              "      fill: #174EA6;\n",
              "    }\n",
              "\n",
              "    .colab-df-buttons div {\n",
              "      margin-bottom: 4px;\n",
              "    }\n",
              "\n",
              "    [theme=dark] .colab-df-convert {\n",
              "      background-color: #3B4455;\n",
              "      fill: #D2E3FC;\n",
              "    }\n",
              "\n",
              "    [theme=dark] .colab-df-convert:hover {\n",
              "      background-color: #434B5C;\n",
              "      box-shadow: 0px 1px 3px 1px rgba(0, 0, 0, 0.15);\n",
              "      filter: drop-shadow(0px 1px 2px rgba(0, 0, 0, 0.3));\n",
              "      fill: #FFFFFF;\n",
              "    }\n",
              "  </style>\n",
              "\n",
              "    <script>\n",
              "      const buttonEl =\n",
              "        document.querySelector('#df-dbc9cf9c-3f87-40d0-bf52-e42b1d91879a button.colab-df-convert');\n",
              "      buttonEl.style.display =\n",
              "        google.colab.kernel.accessAllowed ? 'block' : 'none';\n",
              "\n",
              "      async function convertToInteractive(key) {\n",
              "        const element = document.querySelector('#df-dbc9cf9c-3f87-40d0-bf52-e42b1d91879a');\n",
              "        const dataTable =\n",
              "          await google.colab.kernel.invokeFunction('convertToInteractive',\n",
              "                                                    [key], {});\n",
              "        if (!dataTable) return;\n",
              "\n",
              "        const docLinkHtml = 'Like what you see? Visit the ' +\n",
              "          '<a target=\"_blank\" href=https://colab.research.google.com/notebooks/data_table.ipynb>data table notebook</a>'\n",
              "          + ' to learn more about interactive tables.';\n",
              "        element.innerHTML = '';\n",
              "        dataTable['output_type'] = 'display_data';\n",
              "        await google.colab.output.renderOutput(dataTable, element);\n",
              "        const docLink = document.createElement('div');\n",
              "        docLink.innerHTML = docLinkHtml;\n",
              "        element.appendChild(docLink);\n",
              "      }\n",
              "    </script>\n",
              "  </div>\n",
              "\n",
              "\n",
              "<div id=\"df-f31d7325-8a39-4a06-9adb-37409175fb69\">\n",
              "  <button class=\"colab-df-quickchart\" onclick=\"quickchart('df-f31d7325-8a39-4a06-9adb-37409175fb69')\"\n",
              "            title=\"Suggest charts\"\n",
              "            style=\"display:none;\">\n",
              "\n",
              "<svg xmlns=\"http://www.w3.org/2000/svg\" height=\"24px\"viewBox=\"0 0 24 24\"\n",
              "     width=\"24px\">\n",
              "    <g>\n",
              "        <path d=\"M19 3H5c-1.1 0-2 .9-2 2v14c0 1.1.9 2 2 2h14c1.1 0 2-.9 2-2V5c0-1.1-.9-2-2-2zM9 17H7v-7h2v7zm4 0h-2V7h2v10zm4 0h-2v-4h2v4z\"/>\n",
              "    </g>\n",
              "</svg>\n",
              "  </button>\n",
              "\n",
              "<style>\n",
              "  .colab-df-quickchart {\n",
              "      --bg-color: #E8F0FE;\n",
              "      --fill-color: #1967D2;\n",
              "      --hover-bg-color: #E2EBFA;\n",
              "      --hover-fill-color: #174EA6;\n",
              "      --disabled-fill-color: #AAA;\n",
              "      --disabled-bg-color: #DDD;\n",
              "  }\n",
              "\n",
              "  [theme=dark] .colab-df-quickchart {\n",
              "      --bg-color: #3B4455;\n",
              "      --fill-color: #D2E3FC;\n",
              "      --hover-bg-color: #434B5C;\n",
              "      --hover-fill-color: #FFFFFF;\n",
              "      --disabled-bg-color: #3B4455;\n",
              "      --disabled-fill-color: #666;\n",
              "  }\n",
              "\n",
              "  .colab-df-quickchart {\n",
              "    background-color: var(--bg-color);\n",
              "    border: none;\n",
              "    border-radius: 50%;\n",
              "    cursor: pointer;\n",
              "    display: none;\n",
              "    fill: var(--fill-color);\n",
              "    height: 32px;\n",
              "    padding: 0;\n",
              "    width: 32px;\n",
              "  }\n",
              "\n",
              "  .colab-df-quickchart:hover {\n",
              "    background-color: var(--hover-bg-color);\n",
              "    box-shadow: 0 1px 2px rgba(60, 64, 67, 0.3), 0 1px 3px 1px rgba(60, 64, 67, 0.15);\n",
              "    fill: var(--button-hover-fill-color);\n",
              "  }\n",
              "\n",
              "  .colab-df-quickchart-complete:disabled,\n",
              "  .colab-df-quickchart-complete:disabled:hover {\n",
              "    background-color: var(--disabled-bg-color);\n",
              "    fill: var(--disabled-fill-color);\n",
              "    box-shadow: none;\n",
              "  }\n",
              "\n",
              "  .colab-df-spinner {\n",
              "    border: 2px solid var(--fill-color);\n",
              "    border-color: transparent;\n",
              "    border-bottom-color: var(--fill-color);\n",
              "    animation:\n",
              "      spin 1s steps(1) infinite;\n",
              "  }\n",
              "\n",
              "  @keyframes spin {\n",
              "    0% {\n",
              "      border-color: transparent;\n",
              "      border-bottom-color: var(--fill-color);\n",
              "      border-left-color: var(--fill-color);\n",
              "    }\n",
              "    20% {\n",
              "      border-color: transparent;\n",
              "      border-left-color: var(--fill-color);\n",
              "      border-top-color: var(--fill-color);\n",
              "    }\n",
              "    30% {\n",
              "      border-color: transparent;\n",
              "      border-left-color: var(--fill-color);\n",
              "      border-top-color: var(--fill-color);\n",
              "      border-right-color: var(--fill-color);\n",
              "    }\n",
              "    40% {\n",
              "      border-color: transparent;\n",
              "      border-right-color: var(--fill-color);\n",
              "      border-top-color: var(--fill-color);\n",
              "    }\n",
              "    60% {\n",
              "      border-color: transparent;\n",
              "      border-right-color: var(--fill-color);\n",
              "    }\n",
              "    80% {\n",
              "      border-color: transparent;\n",
              "      border-right-color: var(--fill-color);\n",
              "      border-bottom-color: var(--fill-color);\n",
              "    }\n",
              "    90% {\n",
              "      border-color: transparent;\n",
              "      border-bottom-color: var(--fill-color);\n",
              "    }\n",
              "  }\n",
              "</style>\n",
              "\n",
              "  <script>\n",
              "    async function quickchart(key) {\n",
              "      const quickchartButtonEl =\n",
              "        document.querySelector('#' + key + ' button');\n",
              "      quickchartButtonEl.disabled = true;  // To prevent multiple clicks.\n",
              "      quickchartButtonEl.classList.add('colab-df-spinner');\n",
              "      try {\n",
              "        const charts = await google.colab.kernel.invokeFunction(\n",
              "            'suggestCharts', [key], {});\n",
              "      } catch (error) {\n",
              "        console.error('Error during call to suggestCharts:', error);\n",
              "      }\n",
              "      quickchartButtonEl.classList.remove('colab-df-spinner');\n",
              "      quickchartButtonEl.classList.add('colab-df-quickchart-complete');\n",
              "    }\n",
              "    (() => {\n",
              "      let quickchartButtonEl =\n",
              "        document.querySelector('#df-f31d7325-8a39-4a06-9adb-37409175fb69 button');\n",
              "      quickchartButtonEl.style.display =\n",
              "        google.colab.kernel.accessAllowed ? 'block' : 'none';\n",
              "    })();\n",
              "  </script>\n",
              "</div>\n",
              "\n",
              "    </div>\n",
              "  </div>\n"
            ],
            "application/vnd.google.colaboratory.intrinsic+json": {
              "type": "dataframe",
              "summary": "{\n  \"name\": \"df_digital\",\n  \"rows\": 8,\n  \"fields\": [\n    {\n      \"column\": \"Dia\",\n      \"properties\": {\n        \"dtype\": \"number\",\n        \"std\": 6038.45582152063,\n        \"min\": 1.0,\n        \"max\": 17094.0,\n        \"num_unique_values\": 8,\n        \"samples\": [\n          15.337252837252837,\n          16.0,\n          17094.0\n        ],\n        \"semantic_type\": \"\",\n        \"description\": \"\"\n      }\n    },\n    {\n      \"column\": \"A\\u00f1o\",\n      \"properties\": {\n        \"dtype\": \"number\",\n        \"std\": 5476.26973534775,\n        \"min\": 0.0,\n        \"max\": 17094.0,\n        \"num_unique_values\": 3,\n        \"samples\": [\n          17094.0,\n          2024.0,\n          0.0\n        ],\n        \"semantic_type\": \"\",\n        \"description\": \"\"\n      }\n    },\n    {\n      \"column\": \"Hora_Publicacion\",\n      \"properties\": {\n        \"dtype\": \"number\",\n        \"std\": 6039.661679931356,\n        \"min\": 0.0,\n        \"max\": 17094.0,\n        \"num_unique_values\": 8,\n        \"samples\": [\n          12.653562653562654,\n          12.0,\n          17094.0\n        ],\n        \"semantic_type\": \"\",\n        \"description\": \"\"\n      }\n    },\n    {\n      \"column\": \"Cod_Impacto\",\n      \"properties\": {\n        \"dtype\": \"number\",\n        \"std\": 6042.462028129187,\n        \"min\": 1.0,\n        \"max\": 17094.0,\n        \"num_unique_values\": 8,\n        \"samples\": [\n          3.5678015678015678,\n          3.0,\n          17094.0\n        ],\n        \"semantic_type\": \"\",\n        \"description\": \"\"\n      }\n    },\n    {\n      \"column\": \"Visitas\",\n      \"properties\": {\n        \"dtype\": \"number\",\n        \"std\": 31812.921159575,\n        \"min\": 1.0,\n        \"max\": 99988.0,\n        \"num_unique_values\": 8,\n        \"samples\": [\n          17526.1263016263,\n          9689.5,\n          17094.0\n        ],\n        \"semantic_type\": \"\",\n        \"description\": \"\"\n      }\n    }\n  ]\n}"
            }
          },
          "metadata": {},
          "execution_count": 9
        }
      ]
    },
    {
      "cell_type": "code",
      "source": [
        "# COLUMNAS QUE TIENEN DATOS NULOS\n",
        "df_digital.info()"
      ],
      "metadata": {
        "colab": {
          "base_uri": "https://localhost:8080/"
        },
        "id": "grzktWkTzyRO",
        "outputId": "dea4e94b-a04e-4485-ceca-c963bb559c59"
      },
      "execution_count": null,
      "outputs": [
        {
          "output_type": "stream",
          "name": "stdout",
          "text": [
            "<class 'pandas.core.frame.DataFrame'>\n",
            "RangeIndex: 17094 entries, 0 to 17093\n",
            "Data columns (total 17 columns):\n",
            " #   Column             Non-Null Count  Dtype \n",
            "---  ------             --------------  ----- \n",
            " 0   Status             17094 non-null  object\n",
            " 1   Title              17094 non-null  object\n",
            " 2   Secciones_Web      17094 non-null  object\n",
            " 3   Fecha_Publicacion  17094 non-null  object\n",
            " 4   Fecha_Creacion     17094 non-null  object\n",
            " 5   Autor              15816 non-null  object\n",
            " 6   Creador            17094 non-null  object\n",
            " 7   Link               17094 non-null  object\n",
            " 8   Mes                17094 non-null  object\n",
            " 9   Dia                17094 non-null  int64 \n",
            " 10  Año                17094 non-null  int64 \n",
            " 11  Hora               17094 non-null  object\n",
            " 12  Hora_Publicacion   17094 non-null  int64 \n",
            " 13  Seccion            17094 non-null  object\n",
            " 14  Cod_Impacto        17094 non-null  int64 \n",
            " 15  Impacto            17094 non-null  object\n",
            " 16  Visitas            17094 non-null  int64 \n",
            "dtypes: int64(5), object(12)\n",
            "memory usage: 2.2+ MB\n"
          ]
        }
      ]
    },
    {
      "cell_type": "markdown",
      "source": [
        "Según estos datos, se tienen datos nulos en la columan Autor."
      ],
      "metadata": {
        "id": "Wy-cMiVp89dY"
      }
    },
    {
      "cell_type": "code",
      "source": [
        "#CANTIDAD DE DATOS NULOS POR COLUMNA\n",
        "df_digital.isnull().sum()"
      ],
      "metadata": {
        "colab": {
          "base_uri": "https://localhost:8080/",
          "height": 617
        },
        "id": "nij2cNOhhG_z",
        "outputId": "9c27ff09-0c30-4faa-f3b9-74f08ef61b0b"
      },
      "execution_count": null,
      "outputs": [
        {
          "output_type": "execute_result",
          "data": {
            "text/plain": [
              "Status                  0\n",
              "Title                   0\n",
              "Secciones_Web           0\n",
              "Fecha_Publicacion       0\n",
              "Fecha_Creacion          0\n",
              "Autor                1278\n",
              "Creador                 0\n",
              "Link                    0\n",
              "Mes                     0\n",
              "Dia                     0\n",
              "Año                     0\n",
              "Hora                    0\n",
              "Hora_Publicacion        0\n",
              "Seccion                 0\n",
              "Cod_Impacto             0\n",
              "Impacto                 0\n",
              "Visitas                 0\n",
              "dtype: int64"
            ],
            "text/html": [
              "<div>\n",
              "<style scoped>\n",
              "    .dataframe tbody tr th:only-of-type {\n",
              "        vertical-align: middle;\n",
              "    }\n",
              "\n",
              "    .dataframe tbody tr th {\n",
              "        vertical-align: top;\n",
              "    }\n",
              "\n",
              "    .dataframe thead th {\n",
              "        text-align: right;\n",
              "    }\n",
              "</style>\n",
              "<table border=\"1\" class=\"dataframe\">\n",
              "  <thead>\n",
              "    <tr style=\"text-align: right;\">\n",
              "      <th></th>\n",
              "      <th>0</th>\n",
              "    </tr>\n",
              "  </thead>\n",
              "  <tbody>\n",
              "    <tr>\n",
              "      <th>Status</th>\n",
              "      <td>0</td>\n",
              "    </tr>\n",
              "    <tr>\n",
              "      <th>Title</th>\n",
              "      <td>0</td>\n",
              "    </tr>\n",
              "    <tr>\n",
              "      <th>Secciones_Web</th>\n",
              "      <td>0</td>\n",
              "    </tr>\n",
              "    <tr>\n",
              "      <th>Fecha_Publicacion</th>\n",
              "      <td>0</td>\n",
              "    </tr>\n",
              "    <tr>\n",
              "      <th>Fecha_Creacion</th>\n",
              "      <td>0</td>\n",
              "    </tr>\n",
              "    <tr>\n",
              "      <th>Autor</th>\n",
              "      <td>1278</td>\n",
              "    </tr>\n",
              "    <tr>\n",
              "      <th>Creador</th>\n",
              "      <td>0</td>\n",
              "    </tr>\n",
              "    <tr>\n",
              "      <th>Link</th>\n",
              "      <td>0</td>\n",
              "    </tr>\n",
              "    <tr>\n",
              "      <th>Mes</th>\n",
              "      <td>0</td>\n",
              "    </tr>\n",
              "    <tr>\n",
              "      <th>Dia</th>\n",
              "      <td>0</td>\n",
              "    </tr>\n",
              "    <tr>\n",
              "      <th>Año</th>\n",
              "      <td>0</td>\n",
              "    </tr>\n",
              "    <tr>\n",
              "      <th>Hora</th>\n",
              "      <td>0</td>\n",
              "    </tr>\n",
              "    <tr>\n",
              "      <th>Hora_Publicacion</th>\n",
              "      <td>0</td>\n",
              "    </tr>\n",
              "    <tr>\n",
              "      <th>Seccion</th>\n",
              "      <td>0</td>\n",
              "    </tr>\n",
              "    <tr>\n",
              "      <th>Cod_Impacto</th>\n",
              "      <td>0</td>\n",
              "    </tr>\n",
              "    <tr>\n",
              "      <th>Impacto</th>\n",
              "      <td>0</td>\n",
              "    </tr>\n",
              "    <tr>\n",
              "      <th>Visitas</th>\n",
              "      <td>0</td>\n",
              "    </tr>\n",
              "  </tbody>\n",
              "</table>\n",
              "</div><br><label><b>dtype:</b> int64</label>"
            ]
          },
          "metadata": {},
          "execution_count": 11
        }
      ]
    },
    {
      "cell_type": "markdown",
      "source": [
        "# 3. PREPARACIÓN DE LOS DATOS"
      ],
      "metadata": {
        "id": "2ROAMobqYo0o"
      }
    },
    {
      "cell_type": "markdown",
      "source": [
        "## 3.1 Selección de los datos"
      ],
      "metadata": {
        "id": "odbfhWPkYukA"
      }
    },
    {
      "cell_type": "code",
      "source": [
        "#RENOMBRAR ALGUNAS COLUMNAS PARA SU MEJOR COMPRENSIÓN\n",
        "df_digital.rename(columns={'Status':'Estado',\n",
        "                           'Title': 'Titulo',\n",
        "                         'Autor':'Firma',\n",
        "                        'Creador':'Periodista'}, inplace=True)\n",
        "\n"
      ],
      "metadata": {
        "id": "vmW8lBzZ9iRi"
      },
      "execution_count": null,
      "outputs": []
    },
    {
      "cell_type": "code",
      "source": [
        "df_digital.columns.tolist()"
      ],
      "metadata": {
        "colab": {
          "base_uri": "https://localhost:8080/"
        },
        "id": "unW_pH_Q-n9n",
        "outputId": "0b06e6a0-2dcc-4d1a-da79-6b186a3a6e21"
      },
      "execution_count": null,
      "outputs": [
        {
          "output_type": "execute_result",
          "data": {
            "text/plain": [
              "['Estado',\n",
              " 'Titulo',\n",
              " 'Secciones_Web',\n",
              " 'Fecha_Publicacion',\n",
              " 'Fecha_Creacion',\n",
              " 'Firma',\n",
              " 'Periodista',\n",
              " 'Link',\n",
              " 'Mes',\n",
              " 'Dia',\n",
              " 'Año',\n",
              " 'Hora',\n",
              " 'Hora_Publicacion',\n",
              " 'Seccion',\n",
              " 'Cod_Impacto',\n",
              " 'Impacto',\n",
              " 'Visitas']"
            ]
          },
          "metadata": {},
          "execution_count": 13
        }
      ]
    },
    {
      "cell_type": "code",
      "source": [
        "# REVISAR LAS COLUMNAS CON DATOS NULOS\n",
        "df_digital.info()"
      ],
      "metadata": {
        "colab": {
          "base_uri": "https://localhost:8080/"
        },
        "id": "h-NQyDoe2JMf",
        "outputId": "96bd7a66-52d1-47e4-c52b-0c1220e2c996"
      },
      "execution_count": null,
      "outputs": [
        {
          "output_type": "stream",
          "name": "stdout",
          "text": [
            "<class 'pandas.core.frame.DataFrame'>\n",
            "RangeIndex: 17094 entries, 0 to 17093\n",
            "Data columns (total 17 columns):\n",
            " #   Column             Non-Null Count  Dtype \n",
            "---  ------             --------------  ----- \n",
            " 0   Estado             17094 non-null  object\n",
            " 1   Titulo             17094 non-null  object\n",
            " 2   Secciones_Web      17094 non-null  object\n",
            " 3   Fecha_Publicacion  17094 non-null  object\n",
            " 4   Fecha_Creacion     17094 non-null  object\n",
            " 5   Firma              15816 non-null  object\n",
            " 6   Periodista         17094 non-null  object\n",
            " 7   Link               17094 non-null  object\n",
            " 8   Mes                17094 non-null  object\n",
            " 9   Dia                17094 non-null  int64 \n",
            " 10  Año                17094 non-null  int64 \n",
            " 11  Hora               17094 non-null  object\n",
            " 12  Hora_Publicacion   17094 non-null  int64 \n",
            " 13  Seccion            17094 non-null  object\n",
            " 14  Cod_Impacto        17094 non-null  int64 \n",
            " 15  Impacto            17094 non-null  object\n",
            " 16  Visitas            17094 non-null  int64 \n",
            "dtypes: int64(5), object(12)\n",
            "memory usage: 2.2+ MB\n"
          ]
        }
      ]
    },
    {
      "cell_type": "markdown",
      "source": [
        "Todos deberían tener 17094 registros pero vemos que la columna Firma(Autor) tiene menos registros (15816), por lo tanto tiene nulos."
      ],
      "metadata": {
        "id": "CQEkI0wHYzZC"
      }
    },
    {
      "cell_type": "code",
      "source": [
        "# RECUENTO DE CAMPOS NULOS\n",
        "df_digital.isnull().sum()"
      ],
      "metadata": {
        "colab": {
          "base_uri": "https://localhost:8080/",
          "height": 617
        },
        "id": "RJppgsl-2m5k",
        "outputId": "7bed5697-33f5-4fcb-e84b-e9d1a40faa51"
      },
      "execution_count": null,
      "outputs": [
        {
          "output_type": "execute_result",
          "data": {
            "text/plain": [
              "Estado                  0\n",
              "Titulo                  0\n",
              "Secciones_Web           0\n",
              "Fecha_Publicacion       0\n",
              "Fecha_Creacion          0\n",
              "Firma                1278\n",
              "Periodista              0\n",
              "Link                    0\n",
              "Mes                     0\n",
              "Dia                     0\n",
              "Año                     0\n",
              "Hora                    0\n",
              "Hora_Publicacion        0\n",
              "Seccion                 0\n",
              "Cod_Impacto             0\n",
              "Impacto                 0\n",
              "Visitas                 0\n",
              "dtype: int64"
            ],
            "text/html": [
              "<div>\n",
              "<style scoped>\n",
              "    .dataframe tbody tr th:only-of-type {\n",
              "        vertical-align: middle;\n",
              "    }\n",
              "\n",
              "    .dataframe tbody tr th {\n",
              "        vertical-align: top;\n",
              "    }\n",
              "\n",
              "    .dataframe thead th {\n",
              "        text-align: right;\n",
              "    }\n",
              "</style>\n",
              "<table border=\"1\" class=\"dataframe\">\n",
              "  <thead>\n",
              "    <tr style=\"text-align: right;\">\n",
              "      <th></th>\n",
              "      <th>0</th>\n",
              "    </tr>\n",
              "  </thead>\n",
              "  <tbody>\n",
              "    <tr>\n",
              "      <th>Estado</th>\n",
              "      <td>0</td>\n",
              "    </tr>\n",
              "    <tr>\n",
              "      <th>Titulo</th>\n",
              "      <td>0</td>\n",
              "    </tr>\n",
              "    <tr>\n",
              "      <th>Secciones_Web</th>\n",
              "      <td>0</td>\n",
              "    </tr>\n",
              "    <tr>\n",
              "      <th>Fecha_Publicacion</th>\n",
              "      <td>0</td>\n",
              "    </tr>\n",
              "    <tr>\n",
              "      <th>Fecha_Creacion</th>\n",
              "      <td>0</td>\n",
              "    </tr>\n",
              "    <tr>\n",
              "      <th>Firma</th>\n",
              "      <td>1278</td>\n",
              "    </tr>\n",
              "    <tr>\n",
              "      <th>Periodista</th>\n",
              "      <td>0</td>\n",
              "    </tr>\n",
              "    <tr>\n",
              "      <th>Link</th>\n",
              "      <td>0</td>\n",
              "    </tr>\n",
              "    <tr>\n",
              "      <th>Mes</th>\n",
              "      <td>0</td>\n",
              "    </tr>\n",
              "    <tr>\n",
              "      <th>Dia</th>\n",
              "      <td>0</td>\n",
              "    </tr>\n",
              "    <tr>\n",
              "      <th>Año</th>\n",
              "      <td>0</td>\n",
              "    </tr>\n",
              "    <tr>\n",
              "      <th>Hora</th>\n",
              "      <td>0</td>\n",
              "    </tr>\n",
              "    <tr>\n",
              "      <th>Hora_Publicacion</th>\n",
              "      <td>0</td>\n",
              "    </tr>\n",
              "    <tr>\n",
              "      <th>Seccion</th>\n",
              "      <td>0</td>\n",
              "    </tr>\n",
              "    <tr>\n",
              "      <th>Cod_Impacto</th>\n",
              "      <td>0</td>\n",
              "    </tr>\n",
              "    <tr>\n",
              "      <th>Impacto</th>\n",
              "      <td>0</td>\n",
              "    </tr>\n",
              "    <tr>\n",
              "      <th>Visitas</th>\n",
              "      <td>0</td>\n",
              "    </tr>\n",
              "  </tbody>\n",
              "</table>\n",
              "</div><br><label><b>dtype:</b> int64</label>"
            ]
          },
          "metadata": {},
          "execution_count": 15
        }
      ]
    },
    {
      "cell_type": "markdown",
      "source": [
        "En la columna Firma (Autor) se muestra que tienen 1278 valores nulos, los cuales vamos a trabajar."
      ],
      "metadata": {
        "id": "NOBpSNF1rtSa"
      }
    },
    {
      "cell_type": "code",
      "source": [
        "# VISUALIZAR EL PORCENTAJE DE VALORES NULOS\n",
        "print(df_digital.isnull().mean() * 100)"
      ],
      "metadata": {
        "colab": {
          "base_uri": "https://localhost:8080/"
        },
        "id": "QiqiUdSo3bBX",
        "outputId": "21e2ac42-8aa5-4648-a9dd-dff54745d0f9"
      },
      "execution_count": null,
      "outputs": [
        {
          "output_type": "stream",
          "name": "stdout",
          "text": [
            "Estado               0.000000\n",
            "Titulo               0.000000\n",
            "Secciones_Web        0.000000\n",
            "Fecha_Publicacion    0.000000\n",
            "Fecha_Creacion       0.000000\n",
            "Firma                7.476307\n",
            "Periodista           0.000000\n",
            "Link                 0.000000\n",
            "Mes                  0.000000\n",
            "Dia                  0.000000\n",
            "Año                  0.000000\n",
            "Hora                 0.000000\n",
            "Hora_Publicacion     0.000000\n",
            "Seccion              0.000000\n",
            "Cod_Impacto          0.000000\n",
            "Impacto              0.000000\n",
            "Visitas              0.000000\n",
            "dtype: float64\n"
          ]
        }
      ]
    },
    {
      "cell_type": "markdown",
      "source": [
        "Se tiene un 7.48% de valores nulos en la columna Firma (Autor)."
      ],
      "metadata": {
        "id": "SLFvnJg5r3Tn"
      }
    },
    {
      "cell_type": "markdown",
      "source": [
        "## 3.2 Limpieza de los datos"
      ],
      "metadata": {
        "id": "FUX2RP7TY5s_"
      }
    },
    {
      "cell_type": "code",
      "source": [
        "# FILAS Y COLUMNAS\n",
        "print(df_digital.shape)"
      ],
      "metadata": {
        "colab": {
          "base_uri": "https://localhost:8080/"
        },
        "id": "n2e6SzfUhmpe",
        "outputId": "979c3fd8-e859-4d27-a397-f6d2095c6947"
      },
      "execution_count": null,
      "outputs": [
        {
          "output_type": "stream",
          "name": "stdout",
          "text": [
            "(17094, 17)\n"
          ]
        }
      ]
    },
    {
      "cell_type": "code",
      "source": [
        "#COLUMNAS DEL DS\n",
        "df_digital.columns.tolist()"
      ],
      "metadata": {
        "colab": {
          "base_uri": "https://localhost:8080/"
        },
        "id": "nm4t4Iw1h1QY",
        "outputId": "36365db9-5f14-4d13-f589-3d389f7eb0bd"
      },
      "execution_count": null,
      "outputs": [
        {
          "output_type": "execute_result",
          "data": {
            "text/plain": [
              "['Estado',\n",
              " 'Titulo',\n",
              " 'Secciones_Web',\n",
              " 'Fecha_Publicacion',\n",
              " 'Fecha_Creacion',\n",
              " 'Firma',\n",
              " 'Periodista',\n",
              " 'Link',\n",
              " 'Mes',\n",
              " 'Dia',\n",
              " 'Año',\n",
              " 'Hora',\n",
              " 'Hora_Publicacion',\n",
              " 'Seccion',\n",
              " 'Cod_Impacto',\n",
              " 'Impacto',\n",
              " 'Visitas']"
            ]
          },
          "metadata": {},
          "execution_count": 18
        }
      ]
    },
    {
      "cell_type": "markdown",
      "source": [
        "Se trabajará la columna que tiene datos nulos."
      ],
      "metadata": {
        "id": "NcDswkeQZDBR"
      }
    },
    {
      "cell_type": "code",
      "source": [
        "# RELLENAR LA COLUMNA FIRMA (AUTOR) QUE TIENE DATOS NULOS CON EL VALOR \"SIN_FIRMA\"\n",
        "df_digital['Firma'] = df_digital['Firma'].fillna('SIN_FIRMA')\n"
      ],
      "metadata": {
        "id": "a8p0f6-T3t-s"
      },
      "execution_count": null,
      "outputs": []
    },
    {
      "cell_type": "markdown",
      "source": [
        "Para los valores nulos se rellena en campo Autor con el valor SIN_FIRMA."
      ],
      "metadata": {
        "id": "5dsSbKFdsX6f"
      }
    },
    {
      "cell_type": "code",
      "source": [
        "df_digital.head()"
      ],
      "metadata": {
        "colab": {
          "base_uri": "https://localhost:8080/",
          "height": 521
        },
        "id": "fbtDQjaO37OI",
        "outputId": "aaa3f59b-ef3b-4015-d49e-f2cfe1d36dcf"
      },
      "execution_count": null,
      "outputs": [
        {
          "output_type": "execute_result",
          "data": {
            "text/plain": [
              "      Estado                                             Titulo  \\\n",
              "0  PUBLISHED  Bolivia pasará de país exportador  a transport...   \n",
              "1  PUBLISHED  La ANH garantiza abastecimiento de combustible...   \n",
              "2  PUBLISHED  Cainco: \"No dejemos que la política se siga co...   \n",
              "3  PUBLISHED  Bloquean ingreso de trenes a la ciudad y ponen...   \n",
              "4  PUBLISHED  Padrón de contribuyentes del SIN creció 4,2% e...   \n",
              "\n",
              "                       Secciones_Web        Fecha_Publicacion  \\\n",
              "0          ECONOMÍA, Edición Impresa  Jan 30, 2024 - 04:00 AM   \n",
              "1                           ECONOMÍA  Jan 29, 2024 - 12:17 PM   \n",
              "2                           ECONOMÍA  Jan 26, 2024 - 07:20 PM   \n",
              "3                           ECONOMÍA  Jan 24, 2024 - 09:02 AM   \n",
              "4  ECONOMÍA, Dinero, Edición Impresa  Jan 23, 2024 - 04:24 PM   \n",
              "\n",
              "            Fecha_Creacion                        Firma          Periodista  \\\n",
              "0  Jan 29, 2024 - 11:07 PM  Ernesto Estremadoiro Flores    Ernesto Guevarra   \n",
              "1  Jan 29, 2024 - 12:01 PM  Ernesto Estremadoiro Flores    Ernesto Guevarra   \n",
              "2  Jan 26, 2024 - 06:39 PM           Lourdes Molina Rea  Lourdes Molina Rea   \n",
              "3  Jan 24, 2024 - 09:10 AM               Raúl Domínguez   rado_bo@yahoo.com   \n",
              "4  Jan 23, 2024 - 04:28 PM               Raúl Domínguez      Beatriz Pinzon   \n",
              "\n",
              "                                                Link  Mes  Dia   Año  \\\n",
              "0  https://eldeber.com.bo/355054_bolivia-pasara-d...  Jan   30  2024   \n",
              "1  https://eldeber.com.bo/354986_la-anh-garantiza...  Jan   29  2024   \n",
              "2  https://eldeber.com.bo/354746_cainco-no-dejemo...  Jan   26  2024   \n",
              "3  https://eldeber.com.bo/354409_bloquean-ingreso...  Jan   24  2024   \n",
              "4  https://eldeber.com.bo/354339_padron-de-contri...  Jan   23  2024   \n",
              "\n",
              "       Hora  Hora_Publicacion   Seccion  Cod_Impacto       Impacto  Visitas  \n",
              "0  04:00 AM                 4  ECONOMÍA            7  Gran Impacto    91295  \n",
              "1  12:17 PM                12  ECONOMÍA            7  Gran Impacto    85746  \n",
              "2  07:20 PM                19  ECONOMÍA            7  Gran Impacto    54910  \n",
              "3  09:02 AM                 9  ECONOMÍA            7  Gran Impacto    84434  \n",
              "4  04:24 PM                16  ECONOMÍA            7  Gran Impacto    98429  "
            ],
            "text/html": [
              "\n",
              "  <div id=\"df-61a8336c-31bc-47ad-9909-828889ceba84\" class=\"colab-df-container\">\n",
              "    <div>\n",
              "<style scoped>\n",
              "    .dataframe tbody tr th:only-of-type {\n",
              "        vertical-align: middle;\n",
              "    }\n",
              "\n",
              "    .dataframe tbody tr th {\n",
              "        vertical-align: top;\n",
              "    }\n",
              "\n",
              "    .dataframe thead th {\n",
              "        text-align: right;\n",
              "    }\n",
              "</style>\n",
              "<table border=\"1\" class=\"dataframe\">\n",
              "  <thead>\n",
              "    <tr style=\"text-align: right;\">\n",
              "      <th></th>\n",
              "      <th>Estado</th>\n",
              "      <th>Titulo</th>\n",
              "      <th>Secciones_Web</th>\n",
              "      <th>Fecha_Publicacion</th>\n",
              "      <th>Fecha_Creacion</th>\n",
              "      <th>Firma</th>\n",
              "      <th>Periodista</th>\n",
              "      <th>Link</th>\n",
              "      <th>Mes</th>\n",
              "      <th>Dia</th>\n",
              "      <th>Año</th>\n",
              "      <th>Hora</th>\n",
              "      <th>Hora_Publicacion</th>\n",
              "      <th>Seccion</th>\n",
              "      <th>Cod_Impacto</th>\n",
              "      <th>Impacto</th>\n",
              "      <th>Visitas</th>\n",
              "    </tr>\n",
              "  </thead>\n",
              "  <tbody>\n",
              "    <tr>\n",
              "      <th>0</th>\n",
              "      <td>PUBLISHED</td>\n",
              "      <td>Bolivia pasará de país exportador  a transport...</td>\n",
              "      <td>ECONOMÍA, Edición Impresa</td>\n",
              "      <td>Jan 30, 2024 - 04:00 AM</td>\n",
              "      <td>Jan 29, 2024 - 11:07 PM</td>\n",
              "      <td>Ernesto Estremadoiro Flores</td>\n",
              "      <td>Ernesto Guevarra</td>\n",
              "      <td>https://eldeber.com.bo/355054_bolivia-pasara-d...</td>\n",
              "      <td>Jan</td>\n",
              "      <td>30</td>\n",
              "      <td>2024</td>\n",
              "      <td>04:00 AM</td>\n",
              "      <td>4</td>\n",
              "      <td>ECONOMÍA</td>\n",
              "      <td>7</td>\n",
              "      <td>Gran Impacto</td>\n",
              "      <td>91295</td>\n",
              "    </tr>\n",
              "    <tr>\n",
              "      <th>1</th>\n",
              "      <td>PUBLISHED</td>\n",
              "      <td>La ANH garantiza abastecimiento de combustible...</td>\n",
              "      <td>ECONOMÍA</td>\n",
              "      <td>Jan 29, 2024 - 12:17 PM</td>\n",
              "      <td>Jan 29, 2024 - 12:01 PM</td>\n",
              "      <td>Ernesto Estremadoiro Flores</td>\n",
              "      <td>Ernesto Guevarra</td>\n",
              "      <td>https://eldeber.com.bo/354986_la-anh-garantiza...</td>\n",
              "      <td>Jan</td>\n",
              "      <td>29</td>\n",
              "      <td>2024</td>\n",
              "      <td>12:17 PM</td>\n",
              "      <td>12</td>\n",
              "      <td>ECONOMÍA</td>\n",
              "      <td>7</td>\n",
              "      <td>Gran Impacto</td>\n",
              "      <td>85746</td>\n",
              "    </tr>\n",
              "    <tr>\n",
              "      <th>2</th>\n",
              "      <td>PUBLISHED</td>\n",
              "      <td>Cainco: \"No dejemos que la política se siga co...</td>\n",
              "      <td>ECONOMÍA</td>\n",
              "      <td>Jan 26, 2024 - 07:20 PM</td>\n",
              "      <td>Jan 26, 2024 - 06:39 PM</td>\n",
              "      <td>Lourdes Molina Rea</td>\n",
              "      <td>Lourdes Molina Rea</td>\n",
              "      <td>https://eldeber.com.bo/354746_cainco-no-dejemo...</td>\n",
              "      <td>Jan</td>\n",
              "      <td>26</td>\n",
              "      <td>2024</td>\n",
              "      <td>07:20 PM</td>\n",
              "      <td>19</td>\n",
              "      <td>ECONOMÍA</td>\n",
              "      <td>7</td>\n",
              "      <td>Gran Impacto</td>\n",
              "      <td>54910</td>\n",
              "    </tr>\n",
              "    <tr>\n",
              "      <th>3</th>\n",
              "      <td>PUBLISHED</td>\n",
              "      <td>Bloquean ingreso de trenes a la ciudad y ponen...</td>\n",
              "      <td>ECONOMÍA</td>\n",
              "      <td>Jan 24, 2024 - 09:02 AM</td>\n",
              "      <td>Jan 24, 2024 - 09:10 AM</td>\n",
              "      <td>Raúl Domínguez</td>\n",
              "      <td>rado_bo@yahoo.com</td>\n",
              "      <td>https://eldeber.com.bo/354409_bloquean-ingreso...</td>\n",
              "      <td>Jan</td>\n",
              "      <td>24</td>\n",
              "      <td>2024</td>\n",
              "      <td>09:02 AM</td>\n",
              "      <td>9</td>\n",
              "      <td>ECONOMÍA</td>\n",
              "      <td>7</td>\n",
              "      <td>Gran Impacto</td>\n",
              "      <td>84434</td>\n",
              "    </tr>\n",
              "    <tr>\n",
              "      <th>4</th>\n",
              "      <td>PUBLISHED</td>\n",
              "      <td>Padrón de contribuyentes del SIN creció 4,2% e...</td>\n",
              "      <td>ECONOMÍA, Dinero, Edición Impresa</td>\n",
              "      <td>Jan 23, 2024 - 04:24 PM</td>\n",
              "      <td>Jan 23, 2024 - 04:28 PM</td>\n",
              "      <td>Raúl Domínguez</td>\n",
              "      <td>Beatriz Pinzon</td>\n",
              "      <td>https://eldeber.com.bo/354339_padron-de-contri...</td>\n",
              "      <td>Jan</td>\n",
              "      <td>23</td>\n",
              "      <td>2024</td>\n",
              "      <td>04:24 PM</td>\n",
              "      <td>16</td>\n",
              "      <td>ECONOMÍA</td>\n",
              "      <td>7</td>\n",
              "      <td>Gran Impacto</td>\n",
              "      <td>98429</td>\n",
              "    </tr>\n",
              "  </tbody>\n",
              "</table>\n",
              "</div>\n",
              "    <div class=\"colab-df-buttons\">\n",
              "\n",
              "  <div class=\"colab-df-container\">\n",
              "    <button class=\"colab-df-convert\" onclick=\"convertToInteractive('df-61a8336c-31bc-47ad-9909-828889ceba84')\"\n",
              "            title=\"Convert this dataframe to an interactive table.\"\n",
              "            style=\"display:none;\">\n",
              "\n",
              "  <svg xmlns=\"http://www.w3.org/2000/svg\" height=\"24px\" viewBox=\"0 -960 960 960\">\n",
              "    <path d=\"M120-120v-720h720v720H120Zm60-500h600v-160H180v160Zm220 220h160v-160H400v160Zm0 220h160v-160H400v160ZM180-400h160v-160H180v160Zm440 0h160v-160H620v160ZM180-180h160v-160H180v160Zm440 0h160v-160H620v160Z\"/>\n",
              "  </svg>\n",
              "    </button>\n",
              "\n",
              "  <style>\n",
              "    .colab-df-container {\n",
              "      display:flex;\n",
              "      gap: 12px;\n",
              "    }\n",
              "\n",
              "    .colab-df-convert {\n",
              "      background-color: #E8F0FE;\n",
              "      border: none;\n",
              "      border-radius: 50%;\n",
              "      cursor: pointer;\n",
              "      display: none;\n",
              "      fill: #1967D2;\n",
              "      height: 32px;\n",
              "      padding: 0 0 0 0;\n",
              "      width: 32px;\n",
              "    }\n",
              "\n",
              "    .colab-df-convert:hover {\n",
              "      background-color: #E2EBFA;\n",
              "      box-shadow: 0px 1px 2px rgba(60, 64, 67, 0.3), 0px 1px 3px 1px rgba(60, 64, 67, 0.15);\n",
              "      fill: #174EA6;\n",
              "    }\n",
              "\n",
              "    .colab-df-buttons div {\n",
              "      margin-bottom: 4px;\n",
              "    }\n",
              "\n",
              "    [theme=dark] .colab-df-convert {\n",
              "      background-color: #3B4455;\n",
              "      fill: #D2E3FC;\n",
              "    }\n",
              "\n",
              "    [theme=dark] .colab-df-convert:hover {\n",
              "      background-color: #434B5C;\n",
              "      box-shadow: 0px 1px 3px 1px rgba(0, 0, 0, 0.15);\n",
              "      filter: drop-shadow(0px 1px 2px rgba(0, 0, 0, 0.3));\n",
              "      fill: #FFFFFF;\n",
              "    }\n",
              "  </style>\n",
              "\n",
              "    <script>\n",
              "      const buttonEl =\n",
              "        document.querySelector('#df-61a8336c-31bc-47ad-9909-828889ceba84 button.colab-df-convert');\n",
              "      buttonEl.style.display =\n",
              "        google.colab.kernel.accessAllowed ? 'block' : 'none';\n",
              "\n",
              "      async function convertToInteractive(key) {\n",
              "        const element = document.querySelector('#df-61a8336c-31bc-47ad-9909-828889ceba84');\n",
              "        const dataTable =\n",
              "          await google.colab.kernel.invokeFunction('convertToInteractive',\n",
              "                                                    [key], {});\n",
              "        if (!dataTable) return;\n",
              "\n",
              "        const docLinkHtml = 'Like what you see? Visit the ' +\n",
              "          '<a target=\"_blank\" href=https://colab.research.google.com/notebooks/data_table.ipynb>data table notebook</a>'\n",
              "          + ' to learn more about interactive tables.';\n",
              "        element.innerHTML = '';\n",
              "        dataTable['output_type'] = 'display_data';\n",
              "        await google.colab.output.renderOutput(dataTable, element);\n",
              "        const docLink = document.createElement('div');\n",
              "        docLink.innerHTML = docLinkHtml;\n",
              "        element.appendChild(docLink);\n",
              "      }\n",
              "    </script>\n",
              "  </div>\n",
              "\n",
              "\n",
              "<div id=\"df-162ba05f-8e6c-4686-9d6c-7719d15c991d\">\n",
              "  <button class=\"colab-df-quickchart\" onclick=\"quickchart('df-162ba05f-8e6c-4686-9d6c-7719d15c991d')\"\n",
              "            title=\"Suggest charts\"\n",
              "            style=\"display:none;\">\n",
              "\n",
              "<svg xmlns=\"http://www.w3.org/2000/svg\" height=\"24px\"viewBox=\"0 0 24 24\"\n",
              "     width=\"24px\">\n",
              "    <g>\n",
              "        <path d=\"M19 3H5c-1.1 0-2 .9-2 2v14c0 1.1.9 2 2 2h14c1.1 0 2-.9 2-2V5c0-1.1-.9-2-2-2zM9 17H7v-7h2v7zm4 0h-2V7h2v10zm4 0h-2v-4h2v4z\"/>\n",
              "    </g>\n",
              "</svg>\n",
              "  </button>\n",
              "\n",
              "<style>\n",
              "  .colab-df-quickchart {\n",
              "      --bg-color: #E8F0FE;\n",
              "      --fill-color: #1967D2;\n",
              "      --hover-bg-color: #E2EBFA;\n",
              "      --hover-fill-color: #174EA6;\n",
              "      --disabled-fill-color: #AAA;\n",
              "      --disabled-bg-color: #DDD;\n",
              "  }\n",
              "\n",
              "  [theme=dark] .colab-df-quickchart {\n",
              "      --bg-color: #3B4455;\n",
              "      --fill-color: #D2E3FC;\n",
              "      --hover-bg-color: #434B5C;\n",
              "      --hover-fill-color: #FFFFFF;\n",
              "      --disabled-bg-color: #3B4455;\n",
              "      --disabled-fill-color: #666;\n",
              "  }\n",
              "\n",
              "  .colab-df-quickchart {\n",
              "    background-color: var(--bg-color);\n",
              "    border: none;\n",
              "    border-radius: 50%;\n",
              "    cursor: pointer;\n",
              "    display: none;\n",
              "    fill: var(--fill-color);\n",
              "    height: 32px;\n",
              "    padding: 0;\n",
              "    width: 32px;\n",
              "  }\n",
              "\n",
              "  .colab-df-quickchart:hover {\n",
              "    background-color: var(--hover-bg-color);\n",
              "    box-shadow: 0 1px 2px rgba(60, 64, 67, 0.3), 0 1px 3px 1px rgba(60, 64, 67, 0.15);\n",
              "    fill: var(--button-hover-fill-color);\n",
              "  }\n",
              "\n",
              "  .colab-df-quickchart-complete:disabled,\n",
              "  .colab-df-quickchart-complete:disabled:hover {\n",
              "    background-color: var(--disabled-bg-color);\n",
              "    fill: var(--disabled-fill-color);\n",
              "    box-shadow: none;\n",
              "  }\n",
              "\n",
              "  .colab-df-spinner {\n",
              "    border: 2px solid var(--fill-color);\n",
              "    border-color: transparent;\n",
              "    border-bottom-color: var(--fill-color);\n",
              "    animation:\n",
              "      spin 1s steps(1) infinite;\n",
              "  }\n",
              "\n",
              "  @keyframes spin {\n",
              "    0% {\n",
              "      border-color: transparent;\n",
              "      border-bottom-color: var(--fill-color);\n",
              "      border-left-color: var(--fill-color);\n",
              "    }\n",
              "    20% {\n",
              "      border-color: transparent;\n",
              "      border-left-color: var(--fill-color);\n",
              "      border-top-color: var(--fill-color);\n",
              "    }\n",
              "    30% {\n",
              "      border-color: transparent;\n",
              "      border-left-color: var(--fill-color);\n",
              "      border-top-color: var(--fill-color);\n",
              "      border-right-color: var(--fill-color);\n",
              "    }\n",
              "    40% {\n",
              "      border-color: transparent;\n",
              "      border-right-color: var(--fill-color);\n",
              "      border-top-color: var(--fill-color);\n",
              "    }\n",
              "    60% {\n",
              "      border-color: transparent;\n",
              "      border-right-color: var(--fill-color);\n",
              "    }\n",
              "    80% {\n",
              "      border-color: transparent;\n",
              "      border-right-color: var(--fill-color);\n",
              "      border-bottom-color: var(--fill-color);\n",
              "    }\n",
              "    90% {\n",
              "      border-color: transparent;\n",
              "      border-bottom-color: var(--fill-color);\n",
              "    }\n",
              "  }\n",
              "</style>\n",
              "\n",
              "  <script>\n",
              "    async function quickchart(key) {\n",
              "      const quickchartButtonEl =\n",
              "        document.querySelector('#' + key + ' button');\n",
              "      quickchartButtonEl.disabled = true;  // To prevent multiple clicks.\n",
              "      quickchartButtonEl.classList.add('colab-df-spinner');\n",
              "      try {\n",
              "        const charts = await google.colab.kernel.invokeFunction(\n",
              "            'suggestCharts', [key], {});\n",
              "      } catch (error) {\n",
              "        console.error('Error during call to suggestCharts:', error);\n",
              "      }\n",
              "      quickchartButtonEl.classList.remove('colab-df-spinner');\n",
              "      quickchartButtonEl.classList.add('colab-df-quickchart-complete');\n",
              "    }\n",
              "    (() => {\n",
              "      let quickchartButtonEl =\n",
              "        document.querySelector('#df-162ba05f-8e6c-4686-9d6c-7719d15c991d button');\n",
              "      quickchartButtonEl.style.display =\n",
              "        google.colab.kernel.accessAllowed ? 'block' : 'none';\n",
              "    })();\n",
              "  </script>\n",
              "</div>\n",
              "\n",
              "    </div>\n",
              "  </div>\n"
            ],
            "application/vnd.google.colaboratory.intrinsic+json": {
              "type": "dataframe",
              "variable_name": "df_digital",
              "summary": "{\n  \"name\": \"df_digital\",\n  \"rows\": 17094,\n  \"fields\": [\n    {\n      \"column\": \"Estado\",\n      \"properties\": {\n        \"dtype\": \"category\",\n        \"num_unique_values\": 1,\n        \"samples\": [\n          \"PUBLISHED\"\n        ],\n        \"semantic_type\": \"\",\n        \"description\": \"\"\n      }\n    },\n    {\n      \"column\": \"Titulo\",\n      \"properties\": {\n        \"dtype\": \"string\",\n        \"num_unique_values\": 16858,\n        \"samples\": [\n          \"Descubren un tesoro en Chile: f\\u00f3siles de un reptil marino de 70 millones de a\\u00f1os\"\n        ],\n        \"semantic_type\": \"\",\n        \"description\": \"\"\n      }\n    },\n    {\n      \"column\": \"Secciones_Web\",\n      \"properties\": {\n        \"dtype\": \"category\",\n        \"num_unique_values\": 238,\n        \"samples\": [\n          \"Mundo, GeekED\"\n        ],\n        \"semantic_type\": \"\",\n        \"description\": \"\"\n      }\n    },\n    {\n      \"column\": \"Fecha_Publicacion\",\n      \"properties\": {\n        \"dtype\": \"object\",\n        \"num_unique_values\": 14600,\n        \"samples\": [\n          \"May 15, 2024 - 11:56 AM\"\n        ],\n        \"semantic_type\": \"\",\n        \"description\": \"\"\n      }\n    },\n    {\n      \"column\": \"Fecha_Creacion\",\n      \"properties\": {\n        \"dtype\": \"object\",\n        \"num_unique_values\": 15544,\n        \"samples\": [\n          \"May 22, 2024 - 01:13 PM\"\n        ],\n        \"semantic_type\": \"\",\n        \"description\": \"\"\n      }\n    },\n    {\n      \"column\": \"Firma\",\n      \"properties\": {\n        \"dtype\": \"category\",\n        \"num_unique_values\": 282,\n        \"samples\": [\n          \"Lorenzo Yopiez Yopiez\"\n        ],\n        \"semantic_type\": \"\",\n        \"description\": \"\"\n      }\n    },\n    {\n      \"column\": \"Periodista\",\n      \"properties\": {\n        \"dtype\": \"category\",\n        \"num_unique_values\": 59,\n        \"samples\": [\n          \"Ernesto Guevarra\"\n        ],\n        \"semantic_type\": \"\",\n        \"description\": \"\"\n      }\n    },\n    {\n      \"column\": \"Link\",\n      \"properties\": {\n        \"dtype\": \"string\",\n        \"num_unique_values\": 17094,\n        \"samples\": [\n          \"https://eldeber.com.bo/355492_aitana-tufino-tendra-la-corona-de-sus-suenos\"\n        ],\n        \"semantic_type\": \"\",\n        \"description\": \"\"\n      }\n    },\n    {\n      \"column\": \"Mes\",\n      \"properties\": {\n        \"dtype\": \"category\",\n        \"num_unique_values\": 6,\n        \"samples\": [\n          \"Jan\"\n        ],\n        \"semantic_type\": \"\",\n        \"description\": \"\"\n      }\n    },\n    {\n      \"column\": \"Dia\",\n      \"properties\": {\n        \"dtype\": \"number\",\n        \"std\": 8,\n        \"min\": 1,\n        \"max\": 31,\n        \"num_unique_values\": 31,\n        \"samples\": [\n          28\n        ],\n        \"semantic_type\": \"\",\n        \"description\": \"\"\n      }\n    },\n    {\n      \"column\": \"A\\u00f1o\",\n      \"properties\": {\n        \"dtype\": \"number\",\n        \"std\": 0,\n        \"min\": 2024,\n        \"max\": 2024,\n        \"num_unique_values\": 1,\n        \"samples\": [\n          2024\n        ],\n        \"semantic_type\": \"\",\n        \"description\": \"\"\n      }\n    },\n    {\n      \"column\": \"Hora\",\n      \"properties\": {\n        \"dtype\": \"object\",\n        \"num_unique_values\": 1084,\n        \"samples\": [\n          \"08:09 PM\"\n        ],\n        \"semantic_type\": \"\",\n        \"description\": \"\"\n      }\n    },\n    {\n      \"column\": \"Hora_Publicacion\",\n      \"properties\": {\n        \"dtype\": \"number\",\n        \"std\": 5,\n        \"min\": 0,\n        \"max\": 23,\n        \"num_unique_values\": 23,\n        \"samples\": [\n          8\n        ],\n        \"semantic_type\": \"\",\n        \"description\": \"\"\n      }\n    },\n    {\n      \"column\": \"Seccion\",\n      \"properties\": {\n        \"dtype\": \"category\",\n        \"num_unique_values\": 9,\n        \"samples\": [\n          \"SOCIEDAD\"\n        ],\n        \"semantic_type\": \"\",\n        \"description\": \"\"\n      }\n    },\n    {\n      \"column\": \"Cod_Impacto\",\n      \"properties\": {\n        \"dtype\": \"number\",\n        \"std\": 1,\n        \"min\": 1,\n        \"max\": 7,\n        \"num_unique_values\": 7,\n        \"samples\": [\n          7\n        ],\n        \"semantic_type\": \"\",\n        \"description\": \"\"\n      }\n    },\n    {\n      \"column\": \"Impacto\",\n      \"properties\": {\n        \"dtype\": \"category\",\n        \"num_unique_values\": 7,\n        \"samples\": [\n          \"Gran Impacto\"\n        ],\n        \"semantic_type\": \"\",\n        \"description\": \"\"\n      }\n    },\n    {\n      \"column\": \"Visitas\",\n      \"properties\": {\n        \"dtype\": \"number\",\n        \"std\": 20523,\n        \"min\": 1,\n        \"max\": 99988,\n        \"num_unique_values\": 12856,\n        \"samples\": [\n          8738\n        ],\n        \"semantic_type\": \"\",\n        \"description\": \"\"\n      }\n    }\n  ]\n}"
            }
          },
          "metadata": {},
          "execution_count": 20
        }
      ]
    },
    {
      "cell_type": "code",
      "source": [
        "df_digital.info()"
      ],
      "metadata": {
        "colab": {
          "base_uri": "https://localhost:8080/"
        },
        "id": "QU_3Iiuc4YD_",
        "outputId": "55298d9b-9f2d-4866-cc18-d6ead14e7835"
      },
      "execution_count": null,
      "outputs": [
        {
          "output_type": "stream",
          "name": "stdout",
          "text": [
            "<class 'pandas.core.frame.DataFrame'>\n",
            "RangeIndex: 17094 entries, 0 to 17093\n",
            "Data columns (total 17 columns):\n",
            " #   Column             Non-Null Count  Dtype \n",
            "---  ------             --------------  ----- \n",
            " 0   Estado             17094 non-null  object\n",
            " 1   Titulo             17094 non-null  object\n",
            " 2   Secciones_Web      17094 non-null  object\n",
            " 3   Fecha_Publicacion  17094 non-null  object\n",
            " 4   Fecha_Creacion     17094 non-null  object\n",
            " 5   Firma              17094 non-null  object\n",
            " 6   Periodista         17094 non-null  object\n",
            " 7   Link               17094 non-null  object\n",
            " 8   Mes                17094 non-null  object\n",
            " 9   Dia                17094 non-null  int64 \n",
            " 10  Año                17094 non-null  int64 \n",
            " 11  Hora               17094 non-null  object\n",
            " 12  Hora_Publicacion   17094 non-null  int64 \n",
            " 13  Seccion            17094 non-null  object\n",
            " 14  Cod_Impacto        17094 non-null  int64 \n",
            " 15  Impacto            17094 non-null  object\n",
            " 16  Visitas            17094 non-null  int64 \n",
            "dtypes: int64(5), object(12)\n",
            "memory usage: 2.2+ MB\n"
          ]
        }
      ]
    },
    {
      "cell_type": "markdown",
      "source": [
        "Revisamos nuevamente y ahora no se tienen datos nulos."
      ],
      "metadata": {
        "id": "3Lq4ox1ksPXl"
      }
    },
    {
      "cell_type": "code",
      "source": [
        "# CONTEO DE LOS NIVELES O VALORES EN LAS DIFERENTES COLUMNAS CATEGÓRICAS\n",
        "\n",
        "cols_cat = ['Estado', 'Titulo', 'Secciones_Web', 'Fecha_Publicacion', 'Fecha_Creacion','Firma',\n",
        "                      'Periodista', 'Link', 'Mes', 'Dia', 'Año', 'Hora', 'Hora_Publicacion', 'Seccion','Cod_Impacto','Impacto','Visitas']\n",
        "\n",
        "for col in cols_cat:\n",
        "  print(f'Columna {col}: {df_digital[col].nunique()} subniveles')"
      ],
      "metadata": {
        "colab": {
          "base_uri": "https://localhost:8080/"
        },
        "id": "pVL-Nezj4k3w",
        "outputId": "ebcafd4e-cb49-4955-d3cf-8222aac906a1"
      },
      "execution_count": null,
      "outputs": [
        {
          "output_type": "stream",
          "name": "stdout",
          "text": [
            "Columna Estado: 1 subniveles\n",
            "Columna Titulo: 16858 subniveles\n",
            "Columna Secciones_Web: 238 subniveles\n",
            "Columna Fecha_Publicacion: 14600 subniveles\n",
            "Columna Fecha_Creacion: 15544 subniveles\n",
            "Columna Firma: 282 subniveles\n",
            "Columna Periodista: 59 subniveles\n",
            "Columna Link: 17094 subniveles\n",
            "Columna Mes: 6 subniveles\n",
            "Columna Dia: 31 subniveles\n",
            "Columna Año: 1 subniveles\n",
            "Columna Hora: 1084 subniveles\n",
            "Columna Hora_Publicacion: 23 subniveles\n",
            "Columna Seccion: 9 subniveles\n",
            "Columna Cod_Impacto: 7 subniveles\n",
            "Columna Impacto: 7 subniveles\n",
            "Columna Visitas: 12856 subniveles\n"
          ]
        }
      ]
    },
    {
      "cell_type": "markdown",
      "source": [
        "Una columna categóricas tienen 1 subnivel. Eliminaremos la columna Estado y Año, porque todas las filas que se trajeron son con el estado Publicado y año 2024"
      ],
      "metadata": {
        "id": "xcBBrJn35jgR"
      }
    },
    {
      "cell_type": "code",
      "source": [
        "# ELIMINAR LA COLUMNA 'Estado' (Status)\n",
        "df_digital = df_digital.drop('Estado', axis=1)"
      ],
      "metadata": {
        "id": "y8nd5ss82Qet"
      },
      "execution_count": null,
      "outputs": []
    },
    {
      "cell_type": "code",
      "source": [
        "# ELIMINAR LA COLUMNA 'Año'\n",
        "df_digital = df_digital.drop('Año', axis=1)"
      ],
      "metadata": {
        "id": "jCJGgPXju-X-"
      },
      "execution_count": null,
      "outputs": []
    },
    {
      "cell_type": "code",
      "source": [
        "df_digital.head()"
      ],
      "metadata": {
        "colab": {
          "base_uri": "https://localhost:8080/",
          "height": 521
        },
        "id": "pa-aEMolvFbM",
        "outputId": "0a18e343-9e98-4f76-b6b4-845b08afcca3"
      },
      "execution_count": null,
      "outputs": [
        {
          "output_type": "execute_result",
          "data": {
            "text/plain": [
              "                                              Titulo  \\\n",
              "0  Bolivia pasará de país exportador  a transport...   \n",
              "1  La ANH garantiza abastecimiento de combustible...   \n",
              "2  Cainco: \"No dejemos que la política se siga co...   \n",
              "3  Bloquean ingreso de trenes a la ciudad y ponen...   \n",
              "4  Padrón de contribuyentes del SIN creció 4,2% e...   \n",
              "\n",
              "                       Secciones_Web        Fecha_Publicacion  \\\n",
              "0          ECONOMÍA, Edición Impresa  Jan 30, 2024 - 04:00 AM   \n",
              "1                           ECONOMÍA  Jan 29, 2024 - 12:17 PM   \n",
              "2                           ECONOMÍA  Jan 26, 2024 - 07:20 PM   \n",
              "3                           ECONOMÍA  Jan 24, 2024 - 09:02 AM   \n",
              "4  ECONOMÍA, Dinero, Edición Impresa  Jan 23, 2024 - 04:24 PM   \n",
              "\n",
              "            Fecha_Creacion                        Firma          Periodista  \\\n",
              "0  Jan 29, 2024 - 11:07 PM  Ernesto Estremadoiro Flores    Ernesto Guevarra   \n",
              "1  Jan 29, 2024 - 12:01 PM  Ernesto Estremadoiro Flores    Ernesto Guevarra   \n",
              "2  Jan 26, 2024 - 06:39 PM           Lourdes Molina Rea  Lourdes Molina Rea   \n",
              "3  Jan 24, 2024 - 09:10 AM               Raúl Domínguez   rado_bo@yahoo.com   \n",
              "4  Jan 23, 2024 - 04:28 PM               Raúl Domínguez      Beatriz Pinzon   \n",
              "\n",
              "                                                Link  Mes  Dia      Hora  \\\n",
              "0  https://eldeber.com.bo/355054_bolivia-pasara-d...  Jan   30  04:00 AM   \n",
              "1  https://eldeber.com.bo/354986_la-anh-garantiza...  Jan   29  12:17 PM   \n",
              "2  https://eldeber.com.bo/354746_cainco-no-dejemo...  Jan   26  07:20 PM   \n",
              "3  https://eldeber.com.bo/354409_bloquean-ingreso...  Jan   24  09:02 AM   \n",
              "4  https://eldeber.com.bo/354339_padron-de-contri...  Jan   23  04:24 PM   \n",
              "\n",
              "   Hora_Publicacion   Seccion  Cod_Impacto       Impacto  Visitas  \n",
              "0                 4  ECONOMÍA            7  Gran Impacto    91295  \n",
              "1                12  ECONOMÍA            7  Gran Impacto    85746  \n",
              "2                19  ECONOMÍA            7  Gran Impacto    54910  \n",
              "3                 9  ECONOMÍA            7  Gran Impacto    84434  \n",
              "4                16  ECONOMÍA            7  Gran Impacto    98429  "
            ],
            "text/html": [
              "\n",
              "  <div id=\"df-3b5327cf-ba4e-4813-9a7d-3dc872c602a6\" class=\"colab-df-container\">\n",
              "    <div>\n",
              "<style scoped>\n",
              "    .dataframe tbody tr th:only-of-type {\n",
              "        vertical-align: middle;\n",
              "    }\n",
              "\n",
              "    .dataframe tbody tr th {\n",
              "        vertical-align: top;\n",
              "    }\n",
              "\n",
              "    .dataframe thead th {\n",
              "        text-align: right;\n",
              "    }\n",
              "</style>\n",
              "<table border=\"1\" class=\"dataframe\">\n",
              "  <thead>\n",
              "    <tr style=\"text-align: right;\">\n",
              "      <th></th>\n",
              "      <th>Titulo</th>\n",
              "      <th>Secciones_Web</th>\n",
              "      <th>Fecha_Publicacion</th>\n",
              "      <th>Fecha_Creacion</th>\n",
              "      <th>Firma</th>\n",
              "      <th>Periodista</th>\n",
              "      <th>Link</th>\n",
              "      <th>Mes</th>\n",
              "      <th>Dia</th>\n",
              "      <th>Hora</th>\n",
              "      <th>Hora_Publicacion</th>\n",
              "      <th>Seccion</th>\n",
              "      <th>Cod_Impacto</th>\n",
              "      <th>Impacto</th>\n",
              "      <th>Visitas</th>\n",
              "    </tr>\n",
              "  </thead>\n",
              "  <tbody>\n",
              "    <tr>\n",
              "      <th>0</th>\n",
              "      <td>Bolivia pasará de país exportador  a transport...</td>\n",
              "      <td>ECONOMÍA, Edición Impresa</td>\n",
              "      <td>Jan 30, 2024 - 04:00 AM</td>\n",
              "      <td>Jan 29, 2024 - 11:07 PM</td>\n",
              "      <td>Ernesto Estremadoiro Flores</td>\n",
              "      <td>Ernesto Guevarra</td>\n",
              "      <td>https://eldeber.com.bo/355054_bolivia-pasara-d...</td>\n",
              "      <td>Jan</td>\n",
              "      <td>30</td>\n",
              "      <td>04:00 AM</td>\n",
              "      <td>4</td>\n",
              "      <td>ECONOMÍA</td>\n",
              "      <td>7</td>\n",
              "      <td>Gran Impacto</td>\n",
              "      <td>91295</td>\n",
              "    </tr>\n",
              "    <tr>\n",
              "      <th>1</th>\n",
              "      <td>La ANH garantiza abastecimiento de combustible...</td>\n",
              "      <td>ECONOMÍA</td>\n",
              "      <td>Jan 29, 2024 - 12:17 PM</td>\n",
              "      <td>Jan 29, 2024 - 12:01 PM</td>\n",
              "      <td>Ernesto Estremadoiro Flores</td>\n",
              "      <td>Ernesto Guevarra</td>\n",
              "      <td>https://eldeber.com.bo/354986_la-anh-garantiza...</td>\n",
              "      <td>Jan</td>\n",
              "      <td>29</td>\n",
              "      <td>12:17 PM</td>\n",
              "      <td>12</td>\n",
              "      <td>ECONOMÍA</td>\n",
              "      <td>7</td>\n",
              "      <td>Gran Impacto</td>\n",
              "      <td>85746</td>\n",
              "    </tr>\n",
              "    <tr>\n",
              "      <th>2</th>\n",
              "      <td>Cainco: \"No dejemos que la política se siga co...</td>\n",
              "      <td>ECONOMÍA</td>\n",
              "      <td>Jan 26, 2024 - 07:20 PM</td>\n",
              "      <td>Jan 26, 2024 - 06:39 PM</td>\n",
              "      <td>Lourdes Molina Rea</td>\n",
              "      <td>Lourdes Molina Rea</td>\n",
              "      <td>https://eldeber.com.bo/354746_cainco-no-dejemo...</td>\n",
              "      <td>Jan</td>\n",
              "      <td>26</td>\n",
              "      <td>07:20 PM</td>\n",
              "      <td>19</td>\n",
              "      <td>ECONOMÍA</td>\n",
              "      <td>7</td>\n",
              "      <td>Gran Impacto</td>\n",
              "      <td>54910</td>\n",
              "    </tr>\n",
              "    <tr>\n",
              "      <th>3</th>\n",
              "      <td>Bloquean ingreso de trenes a la ciudad y ponen...</td>\n",
              "      <td>ECONOMÍA</td>\n",
              "      <td>Jan 24, 2024 - 09:02 AM</td>\n",
              "      <td>Jan 24, 2024 - 09:10 AM</td>\n",
              "      <td>Raúl Domínguez</td>\n",
              "      <td>rado_bo@yahoo.com</td>\n",
              "      <td>https://eldeber.com.bo/354409_bloquean-ingreso...</td>\n",
              "      <td>Jan</td>\n",
              "      <td>24</td>\n",
              "      <td>09:02 AM</td>\n",
              "      <td>9</td>\n",
              "      <td>ECONOMÍA</td>\n",
              "      <td>7</td>\n",
              "      <td>Gran Impacto</td>\n",
              "      <td>84434</td>\n",
              "    </tr>\n",
              "    <tr>\n",
              "      <th>4</th>\n",
              "      <td>Padrón de contribuyentes del SIN creció 4,2% e...</td>\n",
              "      <td>ECONOMÍA, Dinero, Edición Impresa</td>\n",
              "      <td>Jan 23, 2024 - 04:24 PM</td>\n",
              "      <td>Jan 23, 2024 - 04:28 PM</td>\n",
              "      <td>Raúl Domínguez</td>\n",
              "      <td>Beatriz Pinzon</td>\n",
              "      <td>https://eldeber.com.bo/354339_padron-de-contri...</td>\n",
              "      <td>Jan</td>\n",
              "      <td>23</td>\n",
              "      <td>04:24 PM</td>\n",
              "      <td>16</td>\n",
              "      <td>ECONOMÍA</td>\n",
              "      <td>7</td>\n",
              "      <td>Gran Impacto</td>\n",
              "      <td>98429</td>\n",
              "    </tr>\n",
              "  </tbody>\n",
              "</table>\n",
              "</div>\n",
              "    <div class=\"colab-df-buttons\">\n",
              "\n",
              "  <div class=\"colab-df-container\">\n",
              "    <button class=\"colab-df-convert\" onclick=\"convertToInteractive('df-3b5327cf-ba4e-4813-9a7d-3dc872c602a6')\"\n",
              "            title=\"Convert this dataframe to an interactive table.\"\n",
              "            style=\"display:none;\">\n",
              "\n",
              "  <svg xmlns=\"http://www.w3.org/2000/svg\" height=\"24px\" viewBox=\"0 -960 960 960\">\n",
              "    <path d=\"M120-120v-720h720v720H120Zm60-500h600v-160H180v160Zm220 220h160v-160H400v160Zm0 220h160v-160H400v160ZM180-400h160v-160H180v160Zm440 0h160v-160H620v160ZM180-180h160v-160H180v160Zm440 0h160v-160H620v160Z\"/>\n",
              "  </svg>\n",
              "    </button>\n",
              "\n",
              "  <style>\n",
              "    .colab-df-container {\n",
              "      display:flex;\n",
              "      gap: 12px;\n",
              "    }\n",
              "\n",
              "    .colab-df-convert {\n",
              "      background-color: #E8F0FE;\n",
              "      border: none;\n",
              "      border-radius: 50%;\n",
              "      cursor: pointer;\n",
              "      display: none;\n",
              "      fill: #1967D2;\n",
              "      height: 32px;\n",
              "      padding: 0 0 0 0;\n",
              "      width: 32px;\n",
              "    }\n",
              "\n",
              "    .colab-df-convert:hover {\n",
              "      background-color: #E2EBFA;\n",
              "      box-shadow: 0px 1px 2px rgba(60, 64, 67, 0.3), 0px 1px 3px 1px rgba(60, 64, 67, 0.15);\n",
              "      fill: #174EA6;\n",
              "    }\n",
              "\n",
              "    .colab-df-buttons div {\n",
              "      margin-bottom: 4px;\n",
              "    }\n",
              "\n",
              "    [theme=dark] .colab-df-convert {\n",
              "      background-color: #3B4455;\n",
              "      fill: #D2E3FC;\n",
              "    }\n",
              "\n",
              "    [theme=dark] .colab-df-convert:hover {\n",
              "      background-color: #434B5C;\n",
              "      box-shadow: 0px 1px 3px 1px rgba(0, 0, 0, 0.15);\n",
              "      filter: drop-shadow(0px 1px 2px rgba(0, 0, 0, 0.3));\n",
              "      fill: #FFFFFF;\n",
              "    }\n",
              "  </style>\n",
              "\n",
              "    <script>\n",
              "      const buttonEl =\n",
              "        document.querySelector('#df-3b5327cf-ba4e-4813-9a7d-3dc872c602a6 button.colab-df-convert');\n",
              "      buttonEl.style.display =\n",
              "        google.colab.kernel.accessAllowed ? 'block' : 'none';\n",
              "\n",
              "      async function convertToInteractive(key) {\n",
              "        const element = document.querySelector('#df-3b5327cf-ba4e-4813-9a7d-3dc872c602a6');\n",
              "        const dataTable =\n",
              "          await google.colab.kernel.invokeFunction('convertToInteractive',\n",
              "                                                    [key], {});\n",
              "        if (!dataTable) return;\n",
              "\n",
              "        const docLinkHtml = 'Like what you see? Visit the ' +\n",
              "          '<a target=\"_blank\" href=https://colab.research.google.com/notebooks/data_table.ipynb>data table notebook</a>'\n",
              "          + ' to learn more about interactive tables.';\n",
              "        element.innerHTML = '';\n",
              "        dataTable['output_type'] = 'display_data';\n",
              "        await google.colab.output.renderOutput(dataTable, element);\n",
              "        const docLink = document.createElement('div');\n",
              "        docLink.innerHTML = docLinkHtml;\n",
              "        element.appendChild(docLink);\n",
              "      }\n",
              "    </script>\n",
              "  </div>\n",
              "\n",
              "\n",
              "<div id=\"df-88e1807a-8acb-4a8d-8723-c22c56aa60c1\">\n",
              "  <button class=\"colab-df-quickchart\" onclick=\"quickchart('df-88e1807a-8acb-4a8d-8723-c22c56aa60c1')\"\n",
              "            title=\"Suggest charts\"\n",
              "            style=\"display:none;\">\n",
              "\n",
              "<svg xmlns=\"http://www.w3.org/2000/svg\" height=\"24px\"viewBox=\"0 0 24 24\"\n",
              "     width=\"24px\">\n",
              "    <g>\n",
              "        <path d=\"M19 3H5c-1.1 0-2 .9-2 2v14c0 1.1.9 2 2 2h14c1.1 0 2-.9 2-2V5c0-1.1-.9-2-2-2zM9 17H7v-7h2v7zm4 0h-2V7h2v10zm4 0h-2v-4h2v4z\"/>\n",
              "    </g>\n",
              "</svg>\n",
              "  </button>\n",
              "\n",
              "<style>\n",
              "  .colab-df-quickchart {\n",
              "      --bg-color: #E8F0FE;\n",
              "      --fill-color: #1967D2;\n",
              "      --hover-bg-color: #E2EBFA;\n",
              "      --hover-fill-color: #174EA6;\n",
              "      --disabled-fill-color: #AAA;\n",
              "      --disabled-bg-color: #DDD;\n",
              "  }\n",
              "\n",
              "  [theme=dark] .colab-df-quickchart {\n",
              "      --bg-color: #3B4455;\n",
              "      --fill-color: #D2E3FC;\n",
              "      --hover-bg-color: #434B5C;\n",
              "      --hover-fill-color: #FFFFFF;\n",
              "      --disabled-bg-color: #3B4455;\n",
              "      --disabled-fill-color: #666;\n",
              "  }\n",
              "\n",
              "  .colab-df-quickchart {\n",
              "    background-color: var(--bg-color);\n",
              "    border: none;\n",
              "    border-radius: 50%;\n",
              "    cursor: pointer;\n",
              "    display: none;\n",
              "    fill: var(--fill-color);\n",
              "    height: 32px;\n",
              "    padding: 0;\n",
              "    width: 32px;\n",
              "  }\n",
              "\n",
              "  .colab-df-quickchart:hover {\n",
              "    background-color: var(--hover-bg-color);\n",
              "    box-shadow: 0 1px 2px rgba(60, 64, 67, 0.3), 0 1px 3px 1px rgba(60, 64, 67, 0.15);\n",
              "    fill: var(--button-hover-fill-color);\n",
              "  }\n",
              "\n",
              "  .colab-df-quickchart-complete:disabled,\n",
              "  .colab-df-quickchart-complete:disabled:hover {\n",
              "    background-color: var(--disabled-bg-color);\n",
              "    fill: var(--disabled-fill-color);\n",
              "    box-shadow: none;\n",
              "  }\n",
              "\n",
              "  .colab-df-spinner {\n",
              "    border: 2px solid var(--fill-color);\n",
              "    border-color: transparent;\n",
              "    border-bottom-color: var(--fill-color);\n",
              "    animation:\n",
              "      spin 1s steps(1) infinite;\n",
              "  }\n",
              "\n",
              "  @keyframes spin {\n",
              "    0% {\n",
              "      border-color: transparent;\n",
              "      border-bottom-color: var(--fill-color);\n",
              "      border-left-color: var(--fill-color);\n",
              "    }\n",
              "    20% {\n",
              "      border-color: transparent;\n",
              "      border-left-color: var(--fill-color);\n",
              "      border-top-color: var(--fill-color);\n",
              "    }\n",
              "    30% {\n",
              "      border-color: transparent;\n",
              "      border-left-color: var(--fill-color);\n",
              "      border-top-color: var(--fill-color);\n",
              "      border-right-color: var(--fill-color);\n",
              "    }\n",
              "    40% {\n",
              "      border-color: transparent;\n",
              "      border-right-color: var(--fill-color);\n",
              "      border-top-color: var(--fill-color);\n",
              "    }\n",
              "    60% {\n",
              "      border-color: transparent;\n",
              "      border-right-color: var(--fill-color);\n",
              "    }\n",
              "    80% {\n",
              "      border-color: transparent;\n",
              "      border-right-color: var(--fill-color);\n",
              "      border-bottom-color: var(--fill-color);\n",
              "    }\n",
              "    90% {\n",
              "      border-color: transparent;\n",
              "      border-bottom-color: var(--fill-color);\n",
              "    }\n",
              "  }\n",
              "</style>\n",
              "\n",
              "  <script>\n",
              "    async function quickchart(key) {\n",
              "      const quickchartButtonEl =\n",
              "        document.querySelector('#' + key + ' button');\n",
              "      quickchartButtonEl.disabled = true;  // To prevent multiple clicks.\n",
              "      quickchartButtonEl.classList.add('colab-df-spinner');\n",
              "      try {\n",
              "        const charts = await google.colab.kernel.invokeFunction(\n",
              "            'suggestCharts', [key], {});\n",
              "      } catch (error) {\n",
              "        console.error('Error during call to suggestCharts:', error);\n",
              "      }\n",
              "      quickchartButtonEl.classList.remove('colab-df-spinner');\n",
              "      quickchartButtonEl.classList.add('colab-df-quickchart-complete');\n",
              "    }\n",
              "    (() => {\n",
              "      let quickchartButtonEl =\n",
              "        document.querySelector('#df-88e1807a-8acb-4a8d-8723-c22c56aa60c1 button');\n",
              "      quickchartButtonEl.style.display =\n",
              "        google.colab.kernel.accessAllowed ? 'block' : 'none';\n",
              "    })();\n",
              "  </script>\n",
              "</div>\n",
              "\n",
              "    </div>\n",
              "  </div>\n"
            ],
            "application/vnd.google.colaboratory.intrinsic+json": {
              "type": "dataframe",
              "variable_name": "df_digital",
              "summary": "{\n  \"name\": \"df_digital\",\n  \"rows\": 17094,\n  \"fields\": [\n    {\n      \"column\": \"Titulo\",\n      \"properties\": {\n        \"dtype\": \"string\",\n        \"num_unique_values\": 16858,\n        \"samples\": [\n          \"Descubren un tesoro en Chile: f\\u00f3siles de un reptil marino de 70 millones de a\\u00f1os\",\n          \"Elecciones judiciales: Cusi reclama por su inhabilitaci\\u00f3n y anuncia que impugnar\\u00e1\",\n          \"Al menos 130 cisternas de combustibles est\\u00e1n bloqueadas en distintas carreteras, seg\\u00fan la ANH\"\n        ],\n        \"semantic_type\": \"\",\n        \"description\": \"\"\n      }\n    },\n    {\n      \"column\": \"Secciones_Web\",\n      \"properties\": {\n        \"dtype\": \"category\",\n        \"num_unique_values\": 238,\n        \"samples\": [\n          \"Mundo, GeekED\",\n          \"Santa Cruz, GENTE\",\n          \"PA\\u00cdS , Oruro, La Paz\"\n        ],\n        \"semantic_type\": \"\",\n        \"description\": \"\"\n      }\n    },\n    {\n      \"column\": \"Fecha_Publicacion\",\n      \"properties\": {\n        \"dtype\": \"object\",\n        \"num_unique_values\": 14600,\n        \"samples\": [\n          \"May 15, 2024 - 11:56 AM\",\n          \"Mar 12, 2024 - 01:25 PM\",\n          \"Jun 10, 2024 - 07:54 PM\"\n        ],\n        \"semantic_type\": \"\",\n        \"description\": \"\"\n      }\n    },\n    {\n      \"column\": \"Fecha_Creacion\",\n      \"properties\": {\n        \"dtype\": \"object\",\n        \"num_unique_values\": 15544,\n        \"samples\": [\n          \"May 22, 2024 - 01:13 PM\",\n          \"Mar 26, 2024 - 04:45 PM\",\n          \"Jun 18, 2024 - 01:21 PM\"\n        ],\n        \"semantic_type\": \"\",\n        \"description\": \"\"\n      }\n    },\n    {\n      \"column\": \"Firma\",\n      \"properties\": {\n        \"dtype\": \"category\",\n        \"num_unique_values\": 282,\n        \"samples\": [\n          \"Lorenzo Yopiez Yopiez\",\n          \"Esmir Cortez Becerra, Silvana Vincenti\",\n          \"Henry Oporto\"\n        ],\n        \"semantic_type\": \"\",\n        \"description\": \"\"\n      }\n    },\n    {\n      \"column\": \"Periodista\",\n      \"properties\": {\n        \"dtype\": \"category\",\n        \"num_unique_values\": 59,\n        \"samples\": [\n          \"Ernesto Guevarra\",\n          \"Juan Carlos Salinas Cortez\",\n          \"Elizabeth Taylor\"\n        ],\n        \"semantic_type\": \"\",\n        \"description\": \"\"\n      }\n    },\n    {\n      \"column\": \"Link\",\n      \"properties\": {\n        \"dtype\": \"string\",\n        \"num_unique_values\": 17094,\n        \"samples\": [\n          \"https://eldeber.com.bo/355492_aitana-tufino-tendra-la-corona-de-sus-suenos\",\n          \"https://eldeber.com.bo/368117_la-mona-lisa-conserva-la-sonrisa-y-se-queda-en-el-louvre-decide-alta-jurisdiccion-francesa\",\n          \"https://eldeber.com.bo/357392_ninos-ucranianos-repatriados-desde-rusia-son-recibidos-con-largos-abrazos\"\n        ],\n        \"semantic_type\": \"\",\n        \"description\": \"\"\n      }\n    },\n    {\n      \"column\": \"Mes\",\n      \"properties\": {\n        \"dtype\": \"category\",\n        \"num_unique_values\": 6,\n        \"samples\": [\n          \"Jan\",\n          \"Feb\",\n          \"Jun\"\n        ],\n        \"semantic_type\": \"\",\n        \"description\": \"\"\n      }\n    },\n    {\n      \"column\": \"Dia\",\n      \"properties\": {\n        \"dtype\": \"number\",\n        \"std\": 8,\n        \"min\": 1,\n        \"max\": 31,\n        \"num_unique_values\": 31,\n        \"samples\": [\n          28,\n          3,\n          17\n        ],\n        \"semantic_type\": \"\",\n        \"description\": \"\"\n      }\n    },\n    {\n      \"column\": \"Hora\",\n      \"properties\": {\n        \"dtype\": \"object\",\n        \"num_unique_values\": 1084,\n        \"samples\": [\n          \"08:09 PM\",\n          \"09:21 PM\",\n          \"06:09 PM\"\n        ],\n        \"semantic_type\": \"\",\n        \"description\": \"\"\n      }\n    },\n    {\n      \"column\": \"Hora_Publicacion\",\n      \"properties\": {\n        \"dtype\": \"number\",\n        \"std\": 5,\n        \"min\": 0,\n        \"max\": 23,\n        \"num_unique_values\": 23,\n        \"samples\": [\n          8,\n          15,\n          4\n        ],\n        \"semantic_type\": \"\",\n        \"description\": \"\"\n      }\n    },\n    {\n      \"column\": \"Seccion\",\n      \"properties\": {\n        \"dtype\": \"category\",\n        \"num_unique_values\": 9,\n        \"samples\": [\n          \"SOCIEDAD\",\n          \"LOCAL\",\n          \"INTERNACIONAL\"\n        ],\n        \"semantic_type\": \"\",\n        \"description\": \"\"\n      }\n    },\n    {\n      \"column\": \"Cod_Impacto\",\n      \"properties\": {\n        \"dtype\": \"number\",\n        \"std\": 1,\n        \"min\": 1,\n        \"max\": 7,\n        \"num_unique_values\": 7,\n        \"samples\": [\n          7,\n          6,\n          2\n        ],\n        \"semantic_type\": \"\",\n        \"description\": \"\"\n      }\n    },\n    {\n      \"column\": \"Impacto\",\n      \"properties\": {\n        \"dtype\": \"category\",\n        \"num_unique_values\": 7,\n        \"samples\": [\n          \"Gran Impacto\",\n          \"Alto\",\n          \"Bajo\"\n        ],\n        \"semantic_type\": \"\",\n        \"description\": \"\"\n      }\n    },\n    {\n      \"column\": \"Visitas\",\n      \"properties\": {\n        \"dtype\": \"number\",\n        \"std\": 20523,\n        \"min\": 1,\n        \"max\": 99988,\n        \"num_unique_values\": 12856,\n        \"samples\": [\n          8738,\n          42401,\n          87035\n        ],\n        \"semantic_type\": \"\",\n        \"description\": \"\"\n      }\n    }\n  ]\n}"
            }
          },
          "metadata": {},
          "execution_count": 25
        }
      ]
    },
    {
      "cell_type": "code",
      "source": [
        "# FILAS Y COLUMNAS\n",
        "print(df_digital.shape)\n"
      ],
      "metadata": {
        "colab": {
          "base_uri": "https://localhost:8080/"
        },
        "id": "seIgTWUetHqZ",
        "outputId": "9c4225b8-c7aa-4a9b-f9b7-589fff209cde"
      },
      "execution_count": null,
      "outputs": [
        {
          "output_type": "stream",
          "name": "stdout",
          "text": [
            "(17094, 15)\n"
          ]
        }
      ]
    },
    {
      "cell_type": "markdown",
      "source": [
        "Como se ve, ahora solo tenemos 15 columnas. Antes teníamos 17."
      ],
      "metadata": {
        "id": "XWr4TCN-Kc_n"
      }
    },
    {
      "cell_type": "code",
      "source": [
        "# IDENTIFICAR FILAS DUPLICADAS\n",
        "duplicados = df_digital.duplicated()\n",
        "print(duplicados)"
      ],
      "metadata": {
        "colab": {
          "base_uri": "https://localhost:8080/"
        },
        "id": "_HLSLY8Md0Ur",
        "outputId": "4eba86ed-d675-4052-ea1c-96bdef2918a9"
      },
      "execution_count": null,
      "outputs": [
        {
          "output_type": "stream",
          "name": "stdout",
          "text": [
            "0        False\n",
            "1        False\n",
            "2        False\n",
            "3        False\n",
            "4        False\n",
            "         ...  \n",
            "17089    False\n",
            "17090    False\n",
            "17091    False\n",
            "17092    False\n",
            "17093    False\n",
            "Length: 17094, dtype: bool\n"
          ]
        }
      ]
    },
    {
      "cell_type": "markdown",
      "source": [
        "No existen datos duplicados"
      ],
      "metadata": {
        "id": "mteOtUQ-d8S8"
      }
    },
    {
      "cell_type": "code",
      "source": [
        "# ANÁLISIS DE VALORES NEGATIVOS\n",
        "df_digital.describe()"
      ],
      "metadata": {
        "colab": {
          "base_uri": "https://localhost:8080/",
          "height": 300
        },
        "id": "-RjAYqKp5YJX",
        "outputId": "321f7870-21ce-4e0f-ac0b-ee5b9eea084c"
      },
      "execution_count": null,
      "outputs": [
        {
          "output_type": "execute_result",
          "data": {
            "text/plain": [
              "                Dia  Hora_Publicacion   Cod_Impacto       Visitas\n",
              "count  17094.000000      17094.000000  17094.000000  17094.000000\n",
              "mean      15.337253         12.653563      3.567802  17526.126302\n",
              "std        8.479470          5.225979      1.793775  20523.606006\n",
              "min        1.000000          0.000000      1.000000      1.000000\n",
              "25%        8.000000          9.000000      2.000000   3317.250000\n",
              "50%       16.000000         12.000000      3.000000   9689.500000\n",
              "75%       23.000000         17.000000      5.000000  24265.000000\n",
              "max       31.000000         23.000000      7.000000  99988.000000"
            ],
            "text/html": [
              "\n",
              "  <div id=\"df-4435bb6c-f76b-480b-b3b5-7ee69137f12e\" class=\"colab-df-container\">\n",
              "    <div>\n",
              "<style scoped>\n",
              "    .dataframe tbody tr th:only-of-type {\n",
              "        vertical-align: middle;\n",
              "    }\n",
              "\n",
              "    .dataframe tbody tr th {\n",
              "        vertical-align: top;\n",
              "    }\n",
              "\n",
              "    .dataframe thead th {\n",
              "        text-align: right;\n",
              "    }\n",
              "</style>\n",
              "<table border=\"1\" class=\"dataframe\">\n",
              "  <thead>\n",
              "    <tr style=\"text-align: right;\">\n",
              "      <th></th>\n",
              "      <th>Dia</th>\n",
              "      <th>Hora_Publicacion</th>\n",
              "      <th>Cod_Impacto</th>\n",
              "      <th>Visitas</th>\n",
              "    </tr>\n",
              "  </thead>\n",
              "  <tbody>\n",
              "    <tr>\n",
              "      <th>count</th>\n",
              "      <td>17094.000000</td>\n",
              "      <td>17094.000000</td>\n",
              "      <td>17094.000000</td>\n",
              "      <td>17094.000000</td>\n",
              "    </tr>\n",
              "    <tr>\n",
              "      <th>mean</th>\n",
              "      <td>15.337253</td>\n",
              "      <td>12.653563</td>\n",
              "      <td>3.567802</td>\n",
              "      <td>17526.126302</td>\n",
              "    </tr>\n",
              "    <tr>\n",
              "      <th>std</th>\n",
              "      <td>8.479470</td>\n",
              "      <td>5.225979</td>\n",
              "      <td>1.793775</td>\n",
              "      <td>20523.606006</td>\n",
              "    </tr>\n",
              "    <tr>\n",
              "      <th>min</th>\n",
              "      <td>1.000000</td>\n",
              "      <td>0.000000</td>\n",
              "      <td>1.000000</td>\n",
              "      <td>1.000000</td>\n",
              "    </tr>\n",
              "    <tr>\n",
              "      <th>25%</th>\n",
              "      <td>8.000000</td>\n",
              "      <td>9.000000</td>\n",
              "      <td>2.000000</td>\n",
              "      <td>3317.250000</td>\n",
              "    </tr>\n",
              "    <tr>\n",
              "      <th>50%</th>\n",
              "      <td>16.000000</td>\n",
              "      <td>12.000000</td>\n",
              "      <td>3.000000</td>\n",
              "      <td>9689.500000</td>\n",
              "    </tr>\n",
              "    <tr>\n",
              "      <th>75%</th>\n",
              "      <td>23.000000</td>\n",
              "      <td>17.000000</td>\n",
              "      <td>5.000000</td>\n",
              "      <td>24265.000000</td>\n",
              "    </tr>\n",
              "    <tr>\n",
              "      <th>max</th>\n",
              "      <td>31.000000</td>\n",
              "      <td>23.000000</td>\n",
              "      <td>7.000000</td>\n",
              "      <td>99988.000000</td>\n",
              "    </tr>\n",
              "  </tbody>\n",
              "</table>\n",
              "</div>\n",
              "    <div class=\"colab-df-buttons\">\n",
              "\n",
              "  <div class=\"colab-df-container\">\n",
              "    <button class=\"colab-df-convert\" onclick=\"convertToInteractive('df-4435bb6c-f76b-480b-b3b5-7ee69137f12e')\"\n",
              "            title=\"Convert this dataframe to an interactive table.\"\n",
              "            style=\"display:none;\">\n",
              "\n",
              "  <svg xmlns=\"http://www.w3.org/2000/svg\" height=\"24px\" viewBox=\"0 -960 960 960\">\n",
              "    <path d=\"M120-120v-720h720v720H120Zm60-500h600v-160H180v160Zm220 220h160v-160H400v160Zm0 220h160v-160H400v160ZM180-400h160v-160H180v160Zm440 0h160v-160H620v160ZM180-180h160v-160H180v160Zm440 0h160v-160H620v160Z\"/>\n",
              "  </svg>\n",
              "    </button>\n",
              "\n",
              "  <style>\n",
              "    .colab-df-container {\n",
              "      display:flex;\n",
              "      gap: 12px;\n",
              "    }\n",
              "\n",
              "    .colab-df-convert {\n",
              "      background-color: #E8F0FE;\n",
              "      border: none;\n",
              "      border-radius: 50%;\n",
              "      cursor: pointer;\n",
              "      display: none;\n",
              "      fill: #1967D2;\n",
              "      height: 32px;\n",
              "      padding: 0 0 0 0;\n",
              "      width: 32px;\n",
              "    }\n",
              "\n",
              "    .colab-df-convert:hover {\n",
              "      background-color: #E2EBFA;\n",
              "      box-shadow: 0px 1px 2px rgba(60, 64, 67, 0.3), 0px 1px 3px 1px rgba(60, 64, 67, 0.15);\n",
              "      fill: #174EA6;\n",
              "    }\n",
              "\n",
              "    .colab-df-buttons div {\n",
              "      margin-bottom: 4px;\n",
              "    }\n",
              "\n",
              "    [theme=dark] .colab-df-convert {\n",
              "      background-color: #3B4455;\n",
              "      fill: #D2E3FC;\n",
              "    }\n",
              "\n",
              "    [theme=dark] .colab-df-convert:hover {\n",
              "      background-color: #434B5C;\n",
              "      box-shadow: 0px 1px 3px 1px rgba(0, 0, 0, 0.15);\n",
              "      filter: drop-shadow(0px 1px 2px rgba(0, 0, 0, 0.3));\n",
              "      fill: #FFFFFF;\n",
              "    }\n",
              "  </style>\n",
              "\n",
              "    <script>\n",
              "      const buttonEl =\n",
              "        document.querySelector('#df-4435bb6c-f76b-480b-b3b5-7ee69137f12e button.colab-df-convert');\n",
              "      buttonEl.style.display =\n",
              "        google.colab.kernel.accessAllowed ? 'block' : 'none';\n",
              "\n",
              "      async function convertToInteractive(key) {\n",
              "        const element = document.querySelector('#df-4435bb6c-f76b-480b-b3b5-7ee69137f12e');\n",
              "        const dataTable =\n",
              "          await google.colab.kernel.invokeFunction('convertToInteractive',\n",
              "                                                    [key], {});\n",
              "        if (!dataTable) return;\n",
              "\n",
              "        const docLinkHtml = 'Like what you see? Visit the ' +\n",
              "          '<a target=\"_blank\" href=https://colab.research.google.com/notebooks/data_table.ipynb>data table notebook</a>'\n",
              "          + ' to learn more about interactive tables.';\n",
              "        element.innerHTML = '';\n",
              "        dataTable['output_type'] = 'display_data';\n",
              "        await google.colab.output.renderOutput(dataTable, element);\n",
              "        const docLink = document.createElement('div');\n",
              "        docLink.innerHTML = docLinkHtml;\n",
              "        element.appendChild(docLink);\n",
              "      }\n",
              "    </script>\n",
              "  </div>\n",
              "\n",
              "\n",
              "<div id=\"df-d0648697-49a1-40ac-9e28-8be807dd5376\">\n",
              "  <button class=\"colab-df-quickchart\" onclick=\"quickchart('df-d0648697-49a1-40ac-9e28-8be807dd5376')\"\n",
              "            title=\"Suggest charts\"\n",
              "            style=\"display:none;\">\n",
              "\n",
              "<svg xmlns=\"http://www.w3.org/2000/svg\" height=\"24px\"viewBox=\"0 0 24 24\"\n",
              "     width=\"24px\">\n",
              "    <g>\n",
              "        <path d=\"M19 3H5c-1.1 0-2 .9-2 2v14c0 1.1.9 2 2 2h14c1.1 0 2-.9 2-2V5c0-1.1-.9-2-2-2zM9 17H7v-7h2v7zm4 0h-2V7h2v10zm4 0h-2v-4h2v4z\"/>\n",
              "    </g>\n",
              "</svg>\n",
              "  </button>\n",
              "\n",
              "<style>\n",
              "  .colab-df-quickchart {\n",
              "      --bg-color: #E8F0FE;\n",
              "      --fill-color: #1967D2;\n",
              "      --hover-bg-color: #E2EBFA;\n",
              "      --hover-fill-color: #174EA6;\n",
              "      --disabled-fill-color: #AAA;\n",
              "      --disabled-bg-color: #DDD;\n",
              "  }\n",
              "\n",
              "  [theme=dark] .colab-df-quickchart {\n",
              "      --bg-color: #3B4455;\n",
              "      --fill-color: #D2E3FC;\n",
              "      --hover-bg-color: #434B5C;\n",
              "      --hover-fill-color: #FFFFFF;\n",
              "      --disabled-bg-color: #3B4455;\n",
              "      --disabled-fill-color: #666;\n",
              "  }\n",
              "\n",
              "  .colab-df-quickchart {\n",
              "    background-color: var(--bg-color);\n",
              "    border: none;\n",
              "    border-radius: 50%;\n",
              "    cursor: pointer;\n",
              "    display: none;\n",
              "    fill: var(--fill-color);\n",
              "    height: 32px;\n",
              "    padding: 0;\n",
              "    width: 32px;\n",
              "  }\n",
              "\n",
              "  .colab-df-quickchart:hover {\n",
              "    background-color: var(--hover-bg-color);\n",
              "    box-shadow: 0 1px 2px rgba(60, 64, 67, 0.3), 0 1px 3px 1px rgba(60, 64, 67, 0.15);\n",
              "    fill: var(--button-hover-fill-color);\n",
              "  }\n",
              "\n",
              "  .colab-df-quickchart-complete:disabled,\n",
              "  .colab-df-quickchart-complete:disabled:hover {\n",
              "    background-color: var(--disabled-bg-color);\n",
              "    fill: var(--disabled-fill-color);\n",
              "    box-shadow: none;\n",
              "  }\n",
              "\n",
              "  .colab-df-spinner {\n",
              "    border: 2px solid var(--fill-color);\n",
              "    border-color: transparent;\n",
              "    border-bottom-color: var(--fill-color);\n",
              "    animation:\n",
              "      spin 1s steps(1) infinite;\n",
              "  }\n",
              "\n",
              "  @keyframes spin {\n",
              "    0% {\n",
              "      border-color: transparent;\n",
              "      border-bottom-color: var(--fill-color);\n",
              "      border-left-color: var(--fill-color);\n",
              "    }\n",
              "    20% {\n",
              "      border-color: transparent;\n",
              "      border-left-color: var(--fill-color);\n",
              "      border-top-color: var(--fill-color);\n",
              "    }\n",
              "    30% {\n",
              "      border-color: transparent;\n",
              "      border-left-color: var(--fill-color);\n",
              "      border-top-color: var(--fill-color);\n",
              "      border-right-color: var(--fill-color);\n",
              "    }\n",
              "    40% {\n",
              "      border-color: transparent;\n",
              "      border-right-color: var(--fill-color);\n",
              "      border-top-color: var(--fill-color);\n",
              "    }\n",
              "    60% {\n",
              "      border-color: transparent;\n",
              "      border-right-color: var(--fill-color);\n",
              "    }\n",
              "    80% {\n",
              "      border-color: transparent;\n",
              "      border-right-color: var(--fill-color);\n",
              "      border-bottom-color: var(--fill-color);\n",
              "    }\n",
              "    90% {\n",
              "      border-color: transparent;\n",
              "      border-bottom-color: var(--fill-color);\n",
              "    }\n",
              "  }\n",
              "</style>\n",
              "\n",
              "  <script>\n",
              "    async function quickchart(key) {\n",
              "      const quickchartButtonEl =\n",
              "        document.querySelector('#' + key + ' button');\n",
              "      quickchartButtonEl.disabled = true;  // To prevent multiple clicks.\n",
              "      quickchartButtonEl.classList.add('colab-df-spinner');\n",
              "      try {\n",
              "        const charts = await google.colab.kernel.invokeFunction(\n",
              "            'suggestCharts', [key], {});\n",
              "      } catch (error) {\n",
              "        console.error('Error during call to suggestCharts:', error);\n",
              "      }\n",
              "      quickchartButtonEl.classList.remove('colab-df-spinner');\n",
              "      quickchartButtonEl.classList.add('colab-df-quickchart-complete');\n",
              "    }\n",
              "    (() => {\n",
              "      let quickchartButtonEl =\n",
              "        document.querySelector('#df-d0648697-49a1-40ac-9e28-8be807dd5376 button');\n",
              "      quickchartButtonEl.style.display =\n",
              "        google.colab.kernel.accessAllowed ? 'block' : 'none';\n",
              "    })();\n",
              "  </script>\n",
              "</div>\n",
              "\n",
              "    </div>\n",
              "  </div>\n"
            ],
            "application/vnd.google.colaboratory.intrinsic+json": {
              "type": "dataframe",
              "summary": "{\n  \"name\": \"df_digital\",\n  \"rows\": 8,\n  \"fields\": [\n    {\n      \"column\": \"Dia\",\n      \"properties\": {\n        \"dtype\": \"number\",\n        \"std\": 6038.45582152063,\n        \"min\": 1.0,\n        \"max\": 17094.0,\n        \"num_unique_values\": 8,\n        \"samples\": [\n          15.337252837252837,\n          16.0,\n          17094.0\n        ],\n        \"semantic_type\": \"\",\n        \"description\": \"\"\n      }\n    },\n    {\n      \"column\": \"Hora_Publicacion\",\n      \"properties\": {\n        \"dtype\": \"number\",\n        \"std\": 6039.661679931356,\n        \"min\": 0.0,\n        \"max\": 17094.0,\n        \"num_unique_values\": 8,\n        \"samples\": [\n          12.653562653562654,\n          12.0,\n          17094.0\n        ],\n        \"semantic_type\": \"\",\n        \"description\": \"\"\n      }\n    },\n    {\n      \"column\": \"Cod_Impacto\",\n      \"properties\": {\n        \"dtype\": \"number\",\n        \"std\": 6042.462028129187,\n        \"min\": 1.0,\n        \"max\": 17094.0,\n        \"num_unique_values\": 8,\n        \"samples\": [\n          3.5678015678015678,\n          3.0,\n          17094.0\n        ],\n        \"semantic_type\": \"\",\n        \"description\": \"\"\n      }\n    },\n    {\n      \"column\": \"Visitas\",\n      \"properties\": {\n        \"dtype\": \"number\",\n        \"std\": 31812.921159575,\n        \"min\": 1.0,\n        \"max\": 99988.0,\n        \"num_unique_values\": 8,\n        \"samples\": [\n          17526.1263016263,\n          9689.5,\n          17094.0\n        ],\n        \"semantic_type\": \"\",\n        \"description\": \"\"\n      }\n    }\n  ]\n}"
            }
          },
          "metadata": {},
          "execution_count": 28
        }
      ]
    },
    {
      "cell_type": "markdown",
      "source": [
        "Todas las columnas numéricas tienen desviaciones estándar (\"std\") diferentes de cero, lo que indica que no tienen un único valor.\n",
        "\n",
        "Tambien se puede apreciar que NO existen valores negativos."
      ],
      "metadata": {
        "id": "-AaRRbJG5wWZ"
      }
    },
    {
      "cell_type": "markdown",
      "source": [
        "## 3.2 Transformación"
      ],
      "metadata": {
        "id": "oLZctGwmHcfT"
      }
    },
    {
      "cell_type": "code",
      "source": [
        "# TRANSFORMAR VARIABLES CATEGÓRICAS A NÚMEROS: COLUMNA \"PERIODISTA\"\n",
        "import matplotlib.pyplot as plt\n",
        "import seaborn as sns\n",
        "from sklearn.preprocessing import LabelEncoder, OneHotEncoder\n",
        "\n",
        "label_encoder = LabelEncoder()\n",
        "df_digital['n_Periodista'] = label_encoder.fit_transform(df_digital['Periodista'])\n",
        "df_digital[['Periodista', 'n_Periodista']].head(10)"
      ],
      "metadata": {
        "colab": {
          "base_uri": "https://localhost:8080/",
          "height": 363
        },
        "id": "KKWMY0xYHg3b",
        "outputId": "4d9dec5f-0d59-4813-fa50-e62db9284fb1"
      },
      "execution_count": null,
      "outputs": [
        {
          "output_type": "execute_result",
          "data": {
            "text/plain": [
              "                   Periodista  n_Periodista\n",
              "0            Ernesto Guevarra            12\n",
              "1            Ernesto Guevarra            12\n",
              "2          Lourdes Molina Rea            36\n",
              "3           rado_bo@yahoo.com            51\n",
              "4              Beatriz Pinzon             3\n",
              "5            Ernesto Guevarra            12\n",
              "6            Ernesto Guevarra            12\n",
              "7                  Gina Ortiz            19\n",
              "8  Juan Carlos Salinas Cortez            28\n",
              "9  Juan Carlos Salinas Cortez            28"
            ],
            "text/html": [
              "\n",
              "  <div id=\"df-340e0bc2-763d-4ae0-a6c6-66150d88f1f7\" class=\"colab-df-container\">\n",
              "    <div>\n",
              "<style scoped>\n",
              "    .dataframe tbody tr th:only-of-type {\n",
              "        vertical-align: middle;\n",
              "    }\n",
              "\n",
              "    .dataframe tbody tr th {\n",
              "        vertical-align: top;\n",
              "    }\n",
              "\n",
              "    .dataframe thead th {\n",
              "        text-align: right;\n",
              "    }\n",
              "</style>\n",
              "<table border=\"1\" class=\"dataframe\">\n",
              "  <thead>\n",
              "    <tr style=\"text-align: right;\">\n",
              "      <th></th>\n",
              "      <th>Periodista</th>\n",
              "      <th>n_Periodista</th>\n",
              "    </tr>\n",
              "  </thead>\n",
              "  <tbody>\n",
              "    <tr>\n",
              "      <th>0</th>\n",
              "      <td>Ernesto Guevarra</td>\n",
              "      <td>12</td>\n",
              "    </tr>\n",
              "    <tr>\n",
              "      <th>1</th>\n",
              "      <td>Ernesto Guevarra</td>\n",
              "      <td>12</td>\n",
              "    </tr>\n",
              "    <tr>\n",
              "      <th>2</th>\n",
              "      <td>Lourdes Molina Rea</td>\n",
              "      <td>36</td>\n",
              "    </tr>\n",
              "    <tr>\n",
              "      <th>3</th>\n",
              "      <td>rado_bo@yahoo.com</td>\n",
              "      <td>51</td>\n",
              "    </tr>\n",
              "    <tr>\n",
              "      <th>4</th>\n",
              "      <td>Beatriz Pinzon</td>\n",
              "      <td>3</td>\n",
              "    </tr>\n",
              "    <tr>\n",
              "      <th>5</th>\n",
              "      <td>Ernesto Guevarra</td>\n",
              "      <td>12</td>\n",
              "    </tr>\n",
              "    <tr>\n",
              "      <th>6</th>\n",
              "      <td>Ernesto Guevarra</td>\n",
              "      <td>12</td>\n",
              "    </tr>\n",
              "    <tr>\n",
              "      <th>7</th>\n",
              "      <td>Gina Ortiz</td>\n",
              "      <td>19</td>\n",
              "    </tr>\n",
              "    <tr>\n",
              "      <th>8</th>\n",
              "      <td>Juan Carlos Salinas Cortez</td>\n",
              "      <td>28</td>\n",
              "    </tr>\n",
              "    <tr>\n",
              "      <th>9</th>\n",
              "      <td>Juan Carlos Salinas Cortez</td>\n",
              "      <td>28</td>\n",
              "    </tr>\n",
              "  </tbody>\n",
              "</table>\n",
              "</div>\n",
              "    <div class=\"colab-df-buttons\">\n",
              "\n",
              "  <div class=\"colab-df-container\">\n",
              "    <button class=\"colab-df-convert\" onclick=\"convertToInteractive('df-340e0bc2-763d-4ae0-a6c6-66150d88f1f7')\"\n",
              "            title=\"Convert this dataframe to an interactive table.\"\n",
              "            style=\"display:none;\">\n",
              "\n",
              "  <svg xmlns=\"http://www.w3.org/2000/svg\" height=\"24px\" viewBox=\"0 -960 960 960\">\n",
              "    <path d=\"M120-120v-720h720v720H120Zm60-500h600v-160H180v160Zm220 220h160v-160H400v160Zm0 220h160v-160H400v160ZM180-400h160v-160H180v160Zm440 0h160v-160H620v160ZM180-180h160v-160H180v160Zm440 0h160v-160H620v160Z\"/>\n",
              "  </svg>\n",
              "    </button>\n",
              "\n",
              "  <style>\n",
              "    .colab-df-container {\n",
              "      display:flex;\n",
              "      gap: 12px;\n",
              "    }\n",
              "\n",
              "    .colab-df-convert {\n",
              "      background-color: #E8F0FE;\n",
              "      border: none;\n",
              "      border-radius: 50%;\n",
              "      cursor: pointer;\n",
              "      display: none;\n",
              "      fill: #1967D2;\n",
              "      height: 32px;\n",
              "      padding: 0 0 0 0;\n",
              "      width: 32px;\n",
              "    }\n",
              "\n",
              "    .colab-df-convert:hover {\n",
              "      background-color: #E2EBFA;\n",
              "      box-shadow: 0px 1px 2px rgba(60, 64, 67, 0.3), 0px 1px 3px 1px rgba(60, 64, 67, 0.15);\n",
              "      fill: #174EA6;\n",
              "    }\n",
              "\n",
              "    .colab-df-buttons div {\n",
              "      margin-bottom: 4px;\n",
              "    }\n",
              "\n",
              "    [theme=dark] .colab-df-convert {\n",
              "      background-color: #3B4455;\n",
              "      fill: #D2E3FC;\n",
              "    }\n",
              "\n",
              "    [theme=dark] .colab-df-convert:hover {\n",
              "      background-color: #434B5C;\n",
              "      box-shadow: 0px 1px 3px 1px rgba(0, 0, 0, 0.15);\n",
              "      filter: drop-shadow(0px 1px 2px rgba(0, 0, 0, 0.3));\n",
              "      fill: #FFFFFF;\n",
              "    }\n",
              "  </style>\n",
              "\n",
              "    <script>\n",
              "      const buttonEl =\n",
              "        document.querySelector('#df-340e0bc2-763d-4ae0-a6c6-66150d88f1f7 button.colab-df-convert');\n",
              "      buttonEl.style.display =\n",
              "        google.colab.kernel.accessAllowed ? 'block' : 'none';\n",
              "\n",
              "      async function convertToInteractive(key) {\n",
              "        const element = document.querySelector('#df-340e0bc2-763d-4ae0-a6c6-66150d88f1f7');\n",
              "        const dataTable =\n",
              "          await google.colab.kernel.invokeFunction('convertToInteractive',\n",
              "                                                    [key], {});\n",
              "        if (!dataTable) return;\n",
              "\n",
              "        const docLinkHtml = 'Like what you see? Visit the ' +\n",
              "          '<a target=\"_blank\" href=https://colab.research.google.com/notebooks/data_table.ipynb>data table notebook</a>'\n",
              "          + ' to learn more about interactive tables.';\n",
              "        element.innerHTML = '';\n",
              "        dataTable['output_type'] = 'display_data';\n",
              "        await google.colab.output.renderOutput(dataTable, element);\n",
              "        const docLink = document.createElement('div');\n",
              "        docLink.innerHTML = docLinkHtml;\n",
              "        element.appendChild(docLink);\n",
              "      }\n",
              "    </script>\n",
              "  </div>\n",
              "\n",
              "\n",
              "<div id=\"df-f60d57e3-b3cc-4970-bc47-2eb29f18d112\">\n",
              "  <button class=\"colab-df-quickchart\" onclick=\"quickchart('df-f60d57e3-b3cc-4970-bc47-2eb29f18d112')\"\n",
              "            title=\"Suggest charts\"\n",
              "            style=\"display:none;\">\n",
              "\n",
              "<svg xmlns=\"http://www.w3.org/2000/svg\" height=\"24px\"viewBox=\"0 0 24 24\"\n",
              "     width=\"24px\">\n",
              "    <g>\n",
              "        <path d=\"M19 3H5c-1.1 0-2 .9-2 2v14c0 1.1.9 2 2 2h14c1.1 0 2-.9 2-2V5c0-1.1-.9-2-2-2zM9 17H7v-7h2v7zm4 0h-2V7h2v10zm4 0h-2v-4h2v4z\"/>\n",
              "    </g>\n",
              "</svg>\n",
              "  </button>\n",
              "\n",
              "<style>\n",
              "  .colab-df-quickchart {\n",
              "      --bg-color: #E8F0FE;\n",
              "      --fill-color: #1967D2;\n",
              "      --hover-bg-color: #E2EBFA;\n",
              "      --hover-fill-color: #174EA6;\n",
              "      --disabled-fill-color: #AAA;\n",
              "      --disabled-bg-color: #DDD;\n",
              "  }\n",
              "\n",
              "  [theme=dark] .colab-df-quickchart {\n",
              "      --bg-color: #3B4455;\n",
              "      --fill-color: #D2E3FC;\n",
              "      --hover-bg-color: #434B5C;\n",
              "      --hover-fill-color: #FFFFFF;\n",
              "      --disabled-bg-color: #3B4455;\n",
              "      --disabled-fill-color: #666;\n",
              "  }\n",
              "\n",
              "  .colab-df-quickchart {\n",
              "    background-color: var(--bg-color);\n",
              "    border: none;\n",
              "    border-radius: 50%;\n",
              "    cursor: pointer;\n",
              "    display: none;\n",
              "    fill: var(--fill-color);\n",
              "    height: 32px;\n",
              "    padding: 0;\n",
              "    width: 32px;\n",
              "  }\n",
              "\n",
              "  .colab-df-quickchart:hover {\n",
              "    background-color: var(--hover-bg-color);\n",
              "    box-shadow: 0 1px 2px rgba(60, 64, 67, 0.3), 0 1px 3px 1px rgba(60, 64, 67, 0.15);\n",
              "    fill: var(--button-hover-fill-color);\n",
              "  }\n",
              "\n",
              "  .colab-df-quickchart-complete:disabled,\n",
              "  .colab-df-quickchart-complete:disabled:hover {\n",
              "    background-color: var(--disabled-bg-color);\n",
              "    fill: var(--disabled-fill-color);\n",
              "    box-shadow: none;\n",
              "  }\n",
              "\n",
              "  .colab-df-spinner {\n",
              "    border: 2px solid var(--fill-color);\n",
              "    border-color: transparent;\n",
              "    border-bottom-color: var(--fill-color);\n",
              "    animation:\n",
              "      spin 1s steps(1) infinite;\n",
              "  }\n",
              "\n",
              "  @keyframes spin {\n",
              "    0% {\n",
              "      border-color: transparent;\n",
              "      border-bottom-color: var(--fill-color);\n",
              "      border-left-color: var(--fill-color);\n",
              "    }\n",
              "    20% {\n",
              "      border-color: transparent;\n",
              "      border-left-color: var(--fill-color);\n",
              "      border-top-color: var(--fill-color);\n",
              "    }\n",
              "    30% {\n",
              "      border-color: transparent;\n",
              "      border-left-color: var(--fill-color);\n",
              "      border-top-color: var(--fill-color);\n",
              "      border-right-color: var(--fill-color);\n",
              "    }\n",
              "    40% {\n",
              "      border-color: transparent;\n",
              "      border-right-color: var(--fill-color);\n",
              "      border-top-color: var(--fill-color);\n",
              "    }\n",
              "    60% {\n",
              "      border-color: transparent;\n",
              "      border-right-color: var(--fill-color);\n",
              "    }\n",
              "    80% {\n",
              "      border-color: transparent;\n",
              "      border-right-color: var(--fill-color);\n",
              "      border-bottom-color: var(--fill-color);\n",
              "    }\n",
              "    90% {\n",
              "      border-color: transparent;\n",
              "      border-bottom-color: var(--fill-color);\n",
              "    }\n",
              "  }\n",
              "</style>\n",
              "\n",
              "  <script>\n",
              "    async function quickchart(key) {\n",
              "      const quickchartButtonEl =\n",
              "        document.querySelector('#' + key + ' button');\n",
              "      quickchartButtonEl.disabled = true;  // To prevent multiple clicks.\n",
              "      quickchartButtonEl.classList.add('colab-df-spinner');\n",
              "      try {\n",
              "        const charts = await google.colab.kernel.invokeFunction(\n",
              "            'suggestCharts', [key], {});\n",
              "      } catch (error) {\n",
              "        console.error('Error during call to suggestCharts:', error);\n",
              "      }\n",
              "      quickchartButtonEl.classList.remove('colab-df-spinner');\n",
              "      quickchartButtonEl.classList.add('colab-df-quickchart-complete');\n",
              "    }\n",
              "    (() => {\n",
              "      let quickchartButtonEl =\n",
              "        document.querySelector('#df-f60d57e3-b3cc-4970-bc47-2eb29f18d112 button');\n",
              "      quickchartButtonEl.style.display =\n",
              "        google.colab.kernel.accessAllowed ? 'block' : 'none';\n",
              "    })();\n",
              "  </script>\n",
              "</div>\n",
              "\n",
              "    </div>\n",
              "  </div>\n"
            ],
            "application/vnd.google.colaboratory.intrinsic+json": {
              "type": "dataframe",
              "summary": "{\n  \"name\": \"df_digital[['Periodista', 'n_Periodista']]\",\n  \"rows\": 10,\n  \"fields\": [\n    {\n      \"column\": \"Periodista\",\n      \"properties\": {\n        \"dtype\": \"string\",\n        \"num_unique_values\": 6,\n        \"samples\": [\n          \"Ernesto Guevarra\",\n          \"Lourdes Molina Rea\",\n          \"Juan Carlos Salinas Cortez\"\n        ],\n        \"semantic_type\": \"\",\n        \"description\": \"\"\n      }\n    },\n    {\n      \"column\": \"n_Periodista\",\n      \"properties\": {\n        \"dtype\": \"number\",\n        \"std\": 14,\n        \"min\": 3,\n        \"max\": 51,\n        \"num_unique_values\": 6,\n        \"samples\": [\n          12,\n          36,\n          28\n        ],\n        \"semantic_type\": \"\",\n        \"description\": \"\"\n      }\n    }\n  ]\n}"
            }
          },
          "metadata": {},
          "execution_count": 29
        }
      ]
    },
    {
      "cell_type": "code",
      "source": [
        "df_digital.n_Periodista.value_counts()"
      ],
      "metadata": {
        "colab": {
          "base_uri": "https://localhost:8080/",
          "height": 1000
        },
        "id": "-x-cQQUTHpKE",
        "outputId": "2255c45d-3c0a-4cd7-c52e-984de672827b"
      },
      "execution_count": null,
      "outputs": [
        {
          "output_type": "execute_result",
          "data": {
            "text/plain": [
              "n_Periodista\n",
              "3     1530\n",
              "11    1362\n",
              "9      859\n",
              "41     801\n",
              "55     801\n",
              "42     771\n",
              "52     730\n",
              "36     711\n",
              "45     709\n",
              "10     669\n",
              "31     558\n",
              "16     516\n",
              "13     513\n",
              "2      502\n",
              "32     456\n",
              "19     453\n",
              "25     429\n",
              "35     368\n",
              "12     339\n",
              "5      308\n",
              "17     302\n",
              "46     278\n",
              "47     239\n",
              "38     233\n",
              "39     233\n",
              "0      222\n",
              "8      183\n",
              "58     168\n",
              "28     146\n",
              "4      145\n",
              "40     143\n",
              "7      141\n",
              "18     138\n",
              "50     127\n",
              "51     126\n",
              "49     109\n",
              "1      106\n",
              "48      95\n",
              "23      90\n",
              "22      67\n",
              "34      61\n",
              "26      57\n",
              "37      54\n",
              "57      44\n",
              "27      41\n",
              "6       36\n",
              "20      30\n",
              "56      25\n",
              "21      13\n",
              "14      12\n",
              "54      11\n",
              "53      11\n",
              "15      11\n",
              "29       5\n",
              "43       2\n",
              "30       2\n",
              "24       1\n",
              "33       1\n",
              "44       1\n",
              "Name: count, dtype: int64"
            ],
            "text/html": [
              "<div>\n",
              "<style scoped>\n",
              "    .dataframe tbody tr th:only-of-type {\n",
              "        vertical-align: middle;\n",
              "    }\n",
              "\n",
              "    .dataframe tbody tr th {\n",
              "        vertical-align: top;\n",
              "    }\n",
              "\n",
              "    .dataframe thead th {\n",
              "        text-align: right;\n",
              "    }\n",
              "</style>\n",
              "<table border=\"1\" class=\"dataframe\">\n",
              "  <thead>\n",
              "    <tr style=\"text-align: right;\">\n",
              "      <th></th>\n",
              "      <th>count</th>\n",
              "    </tr>\n",
              "    <tr>\n",
              "      <th>n_Periodista</th>\n",
              "      <th></th>\n",
              "    </tr>\n",
              "  </thead>\n",
              "  <tbody>\n",
              "    <tr>\n",
              "      <th>3</th>\n",
              "      <td>1530</td>\n",
              "    </tr>\n",
              "    <tr>\n",
              "      <th>11</th>\n",
              "      <td>1362</td>\n",
              "    </tr>\n",
              "    <tr>\n",
              "      <th>9</th>\n",
              "      <td>859</td>\n",
              "    </tr>\n",
              "    <tr>\n",
              "      <th>41</th>\n",
              "      <td>801</td>\n",
              "    </tr>\n",
              "    <tr>\n",
              "      <th>55</th>\n",
              "      <td>801</td>\n",
              "    </tr>\n",
              "    <tr>\n",
              "      <th>42</th>\n",
              "      <td>771</td>\n",
              "    </tr>\n",
              "    <tr>\n",
              "      <th>52</th>\n",
              "      <td>730</td>\n",
              "    </tr>\n",
              "    <tr>\n",
              "      <th>36</th>\n",
              "      <td>711</td>\n",
              "    </tr>\n",
              "    <tr>\n",
              "      <th>45</th>\n",
              "      <td>709</td>\n",
              "    </tr>\n",
              "    <tr>\n",
              "      <th>10</th>\n",
              "      <td>669</td>\n",
              "    </tr>\n",
              "    <tr>\n",
              "      <th>31</th>\n",
              "      <td>558</td>\n",
              "    </tr>\n",
              "    <tr>\n",
              "      <th>16</th>\n",
              "      <td>516</td>\n",
              "    </tr>\n",
              "    <tr>\n",
              "      <th>13</th>\n",
              "      <td>513</td>\n",
              "    </tr>\n",
              "    <tr>\n",
              "      <th>2</th>\n",
              "      <td>502</td>\n",
              "    </tr>\n",
              "    <tr>\n",
              "      <th>32</th>\n",
              "      <td>456</td>\n",
              "    </tr>\n",
              "    <tr>\n",
              "      <th>19</th>\n",
              "      <td>453</td>\n",
              "    </tr>\n",
              "    <tr>\n",
              "      <th>25</th>\n",
              "      <td>429</td>\n",
              "    </tr>\n",
              "    <tr>\n",
              "      <th>35</th>\n",
              "      <td>368</td>\n",
              "    </tr>\n",
              "    <tr>\n",
              "      <th>12</th>\n",
              "      <td>339</td>\n",
              "    </tr>\n",
              "    <tr>\n",
              "      <th>5</th>\n",
              "      <td>308</td>\n",
              "    </tr>\n",
              "    <tr>\n",
              "      <th>17</th>\n",
              "      <td>302</td>\n",
              "    </tr>\n",
              "    <tr>\n",
              "      <th>46</th>\n",
              "      <td>278</td>\n",
              "    </tr>\n",
              "    <tr>\n",
              "      <th>47</th>\n",
              "      <td>239</td>\n",
              "    </tr>\n",
              "    <tr>\n",
              "      <th>38</th>\n",
              "      <td>233</td>\n",
              "    </tr>\n",
              "    <tr>\n",
              "      <th>39</th>\n",
              "      <td>233</td>\n",
              "    </tr>\n",
              "    <tr>\n",
              "      <th>0</th>\n",
              "      <td>222</td>\n",
              "    </tr>\n",
              "    <tr>\n",
              "      <th>8</th>\n",
              "      <td>183</td>\n",
              "    </tr>\n",
              "    <tr>\n",
              "      <th>58</th>\n",
              "      <td>168</td>\n",
              "    </tr>\n",
              "    <tr>\n",
              "      <th>28</th>\n",
              "      <td>146</td>\n",
              "    </tr>\n",
              "    <tr>\n",
              "      <th>4</th>\n",
              "      <td>145</td>\n",
              "    </tr>\n",
              "    <tr>\n",
              "      <th>40</th>\n",
              "      <td>143</td>\n",
              "    </tr>\n",
              "    <tr>\n",
              "      <th>7</th>\n",
              "      <td>141</td>\n",
              "    </tr>\n",
              "    <tr>\n",
              "      <th>18</th>\n",
              "      <td>138</td>\n",
              "    </tr>\n",
              "    <tr>\n",
              "      <th>50</th>\n",
              "      <td>127</td>\n",
              "    </tr>\n",
              "    <tr>\n",
              "      <th>51</th>\n",
              "      <td>126</td>\n",
              "    </tr>\n",
              "    <tr>\n",
              "      <th>49</th>\n",
              "      <td>109</td>\n",
              "    </tr>\n",
              "    <tr>\n",
              "      <th>1</th>\n",
              "      <td>106</td>\n",
              "    </tr>\n",
              "    <tr>\n",
              "      <th>48</th>\n",
              "      <td>95</td>\n",
              "    </tr>\n",
              "    <tr>\n",
              "      <th>23</th>\n",
              "      <td>90</td>\n",
              "    </tr>\n",
              "    <tr>\n",
              "      <th>22</th>\n",
              "      <td>67</td>\n",
              "    </tr>\n",
              "    <tr>\n",
              "      <th>34</th>\n",
              "      <td>61</td>\n",
              "    </tr>\n",
              "    <tr>\n",
              "      <th>26</th>\n",
              "      <td>57</td>\n",
              "    </tr>\n",
              "    <tr>\n",
              "      <th>37</th>\n",
              "      <td>54</td>\n",
              "    </tr>\n",
              "    <tr>\n",
              "      <th>57</th>\n",
              "      <td>44</td>\n",
              "    </tr>\n",
              "    <tr>\n",
              "      <th>27</th>\n",
              "      <td>41</td>\n",
              "    </tr>\n",
              "    <tr>\n",
              "      <th>6</th>\n",
              "      <td>36</td>\n",
              "    </tr>\n",
              "    <tr>\n",
              "      <th>20</th>\n",
              "      <td>30</td>\n",
              "    </tr>\n",
              "    <tr>\n",
              "      <th>56</th>\n",
              "      <td>25</td>\n",
              "    </tr>\n",
              "    <tr>\n",
              "      <th>21</th>\n",
              "      <td>13</td>\n",
              "    </tr>\n",
              "    <tr>\n",
              "      <th>14</th>\n",
              "      <td>12</td>\n",
              "    </tr>\n",
              "    <tr>\n",
              "      <th>54</th>\n",
              "      <td>11</td>\n",
              "    </tr>\n",
              "    <tr>\n",
              "      <th>53</th>\n",
              "      <td>11</td>\n",
              "    </tr>\n",
              "    <tr>\n",
              "      <th>15</th>\n",
              "      <td>11</td>\n",
              "    </tr>\n",
              "    <tr>\n",
              "      <th>29</th>\n",
              "      <td>5</td>\n",
              "    </tr>\n",
              "    <tr>\n",
              "      <th>43</th>\n",
              "      <td>2</td>\n",
              "    </tr>\n",
              "    <tr>\n",
              "      <th>30</th>\n",
              "      <td>2</td>\n",
              "    </tr>\n",
              "    <tr>\n",
              "      <th>24</th>\n",
              "      <td>1</td>\n",
              "    </tr>\n",
              "    <tr>\n",
              "      <th>33</th>\n",
              "      <td>1</td>\n",
              "    </tr>\n",
              "    <tr>\n",
              "      <th>44</th>\n",
              "      <td>1</td>\n",
              "    </tr>\n",
              "  </tbody>\n",
              "</table>\n",
              "</div><br><label><b>dtype:</b> int64</label>"
            ]
          },
          "metadata": {},
          "execution_count": 30
        }
      ]
    },
    {
      "cell_type": "code",
      "source": [
        "# TRANSFORMAR VARIABLES CATEGÓRICAS A NÚMEROS: COLUMNA \"SECCION\"\n",
        "import matplotlib.pyplot as plt\n",
        "import seaborn as sns\n",
        "from sklearn.preprocessing import LabelEncoder, OneHotEncoder\n",
        "\n",
        "label_encoder = LabelEncoder()\n",
        "df_digital['n_Seccion'] = label_encoder.fit_transform(df_digital['Seccion'])\n",
        "df_digital[['Seccion', 'n_Seccion']].head(10)"
      ],
      "metadata": {
        "colab": {
          "base_uri": "https://localhost:8080/",
          "height": 363
        },
        "id": "LTlGKtTlHuar",
        "outputId": "7660a20b-7a94-4daa-e24d-7ead5231324f"
      },
      "execution_count": null,
      "outputs": [
        {
          "output_type": "execute_result",
          "data": {
            "text/plain": [
              "    Seccion  n_Seccion\n",
              "0  ECONOMÍA          1\n",
              "1  ECONOMÍA          1\n",
              "2  ECONOMÍA          1\n",
              "3  ECONOMÍA          1\n",
              "4  ECONOMÍA          1\n",
              "5  ECONOMÍA          1\n",
              "6  ECONOMÍA          1\n",
              "7  ECONOMÍA          1\n",
              "8  ECONOMÍA          1\n",
              "9  ECONOMÍA          1"
            ],
            "text/html": [
              "\n",
              "  <div id=\"df-272266aa-c9c6-4439-a756-c7ccd19beac2\" class=\"colab-df-container\">\n",
              "    <div>\n",
              "<style scoped>\n",
              "    .dataframe tbody tr th:only-of-type {\n",
              "        vertical-align: middle;\n",
              "    }\n",
              "\n",
              "    .dataframe tbody tr th {\n",
              "        vertical-align: top;\n",
              "    }\n",
              "\n",
              "    .dataframe thead th {\n",
              "        text-align: right;\n",
              "    }\n",
              "</style>\n",
              "<table border=\"1\" class=\"dataframe\">\n",
              "  <thead>\n",
              "    <tr style=\"text-align: right;\">\n",
              "      <th></th>\n",
              "      <th>Seccion</th>\n",
              "      <th>n_Seccion</th>\n",
              "    </tr>\n",
              "  </thead>\n",
              "  <tbody>\n",
              "    <tr>\n",
              "      <th>0</th>\n",
              "      <td>ECONOMÍA</td>\n",
              "      <td>1</td>\n",
              "    </tr>\n",
              "    <tr>\n",
              "      <th>1</th>\n",
              "      <td>ECONOMÍA</td>\n",
              "      <td>1</td>\n",
              "    </tr>\n",
              "    <tr>\n",
              "      <th>2</th>\n",
              "      <td>ECONOMÍA</td>\n",
              "      <td>1</td>\n",
              "    </tr>\n",
              "    <tr>\n",
              "      <th>3</th>\n",
              "      <td>ECONOMÍA</td>\n",
              "      <td>1</td>\n",
              "    </tr>\n",
              "    <tr>\n",
              "      <th>4</th>\n",
              "      <td>ECONOMÍA</td>\n",
              "      <td>1</td>\n",
              "    </tr>\n",
              "    <tr>\n",
              "      <th>5</th>\n",
              "      <td>ECONOMÍA</td>\n",
              "      <td>1</td>\n",
              "    </tr>\n",
              "    <tr>\n",
              "      <th>6</th>\n",
              "      <td>ECONOMÍA</td>\n",
              "      <td>1</td>\n",
              "    </tr>\n",
              "    <tr>\n",
              "      <th>7</th>\n",
              "      <td>ECONOMÍA</td>\n",
              "      <td>1</td>\n",
              "    </tr>\n",
              "    <tr>\n",
              "      <th>8</th>\n",
              "      <td>ECONOMÍA</td>\n",
              "      <td>1</td>\n",
              "    </tr>\n",
              "    <tr>\n",
              "      <th>9</th>\n",
              "      <td>ECONOMÍA</td>\n",
              "      <td>1</td>\n",
              "    </tr>\n",
              "  </tbody>\n",
              "</table>\n",
              "</div>\n",
              "    <div class=\"colab-df-buttons\">\n",
              "\n",
              "  <div class=\"colab-df-container\">\n",
              "    <button class=\"colab-df-convert\" onclick=\"convertToInteractive('df-272266aa-c9c6-4439-a756-c7ccd19beac2')\"\n",
              "            title=\"Convert this dataframe to an interactive table.\"\n",
              "            style=\"display:none;\">\n",
              "\n",
              "  <svg xmlns=\"http://www.w3.org/2000/svg\" height=\"24px\" viewBox=\"0 -960 960 960\">\n",
              "    <path d=\"M120-120v-720h720v720H120Zm60-500h600v-160H180v160Zm220 220h160v-160H400v160Zm0 220h160v-160H400v160ZM180-400h160v-160H180v160Zm440 0h160v-160H620v160ZM180-180h160v-160H180v160Zm440 0h160v-160H620v160Z\"/>\n",
              "  </svg>\n",
              "    </button>\n",
              "\n",
              "  <style>\n",
              "    .colab-df-container {\n",
              "      display:flex;\n",
              "      gap: 12px;\n",
              "    }\n",
              "\n",
              "    .colab-df-convert {\n",
              "      background-color: #E8F0FE;\n",
              "      border: none;\n",
              "      border-radius: 50%;\n",
              "      cursor: pointer;\n",
              "      display: none;\n",
              "      fill: #1967D2;\n",
              "      height: 32px;\n",
              "      padding: 0 0 0 0;\n",
              "      width: 32px;\n",
              "    }\n",
              "\n",
              "    .colab-df-convert:hover {\n",
              "      background-color: #E2EBFA;\n",
              "      box-shadow: 0px 1px 2px rgba(60, 64, 67, 0.3), 0px 1px 3px 1px rgba(60, 64, 67, 0.15);\n",
              "      fill: #174EA6;\n",
              "    }\n",
              "\n",
              "    .colab-df-buttons div {\n",
              "      margin-bottom: 4px;\n",
              "    }\n",
              "\n",
              "    [theme=dark] .colab-df-convert {\n",
              "      background-color: #3B4455;\n",
              "      fill: #D2E3FC;\n",
              "    }\n",
              "\n",
              "    [theme=dark] .colab-df-convert:hover {\n",
              "      background-color: #434B5C;\n",
              "      box-shadow: 0px 1px 3px 1px rgba(0, 0, 0, 0.15);\n",
              "      filter: drop-shadow(0px 1px 2px rgba(0, 0, 0, 0.3));\n",
              "      fill: #FFFFFF;\n",
              "    }\n",
              "  </style>\n",
              "\n",
              "    <script>\n",
              "      const buttonEl =\n",
              "        document.querySelector('#df-272266aa-c9c6-4439-a756-c7ccd19beac2 button.colab-df-convert');\n",
              "      buttonEl.style.display =\n",
              "        google.colab.kernel.accessAllowed ? 'block' : 'none';\n",
              "\n",
              "      async function convertToInteractive(key) {\n",
              "        const element = document.querySelector('#df-272266aa-c9c6-4439-a756-c7ccd19beac2');\n",
              "        const dataTable =\n",
              "          await google.colab.kernel.invokeFunction('convertToInteractive',\n",
              "                                                    [key], {});\n",
              "        if (!dataTable) return;\n",
              "\n",
              "        const docLinkHtml = 'Like what you see? Visit the ' +\n",
              "          '<a target=\"_blank\" href=https://colab.research.google.com/notebooks/data_table.ipynb>data table notebook</a>'\n",
              "          + ' to learn more about interactive tables.';\n",
              "        element.innerHTML = '';\n",
              "        dataTable['output_type'] = 'display_data';\n",
              "        await google.colab.output.renderOutput(dataTable, element);\n",
              "        const docLink = document.createElement('div');\n",
              "        docLink.innerHTML = docLinkHtml;\n",
              "        element.appendChild(docLink);\n",
              "      }\n",
              "    </script>\n",
              "  </div>\n",
              "\n",
              "\n",
              "<div id=\"df-bd54883c-3928-4b13-9c99-c66083dcccff\">\n",
              "  <button class=\"colab-df-quickchart\" onclick=\"quickchart('df-bd54883c-3928-4b13-9c99-c66083dcccff')\"\n",
              "            title=\"Suggest charts\"\n",
              "            style=\"display:none;\">\n",
              "\n",
              "<svg xmlns=\"http://www.w3.org/2000/svg\" height=\"24px\"viewBox=\"0 0 24 24\"\n",
              "     width=\"24px\">\n",
              "    <g>\n",
              "        <path d=\"M19 3H5c-1.1 0-2 .9-2 2v14c0 1.1.9 2 2 2h14c1.1 0 2-.9 2-2V5c0-1.1-.9-2-2-2zM9 17H7v-7h2v7zm4 0h-2V7h2v10zm4 0h-2v-4h2v4z\"/>\n",
              "    </g>\n",
              "</svg>\n",
              "  </button>\n",
              "\n",
              "<style>\n",
              "  .colab-df-quickchart {\n",
              "      --bg-color: #E8F0FE;\n",
              "      --fill-color: #1967D2;\n",
              "      --hover-bg-color: #E2EBFA;\n",
              "      --hover-fill-color: #174EA6;\n",
              "      --disabled-fill-color: #AAA;\n",
              "      --disabled-bg-color: #DDD;\n",
              "  }\n",
              "\n",
              "  [theme=dark] .colab-df-quickchart {\n",
              "      --bg-color: #3B4455;\n",
              "      --fill-color: #D2E3FC;\n",
              "      --hover-bg-color: #434B5C;\n",
              "      --hover-fill-color: #FFFFFF;\n",
              "      --disabled-bg-color: #3B4455;\n",
              "      --disabled-fill-color: #666;\n",
              "  }\n",
              "\n",
              "  .colab-df-quickchart {\n",
              "    background-color: var(--bg-color);\n",
              "    border: none;\n",
              "    border-radius: 50%;\n",
              "    cursor: pointer;\n",
              "    display: none;\n",
              "    fill: var(--fill-color);\n",
              "    height: 32px;\n",
              "    padding: 0;\n",
              "    width: 32px;\n",
              "  }\n",
              "\n",
              "  .colab-df-quickchart:hover {\n",
              "    background-color: var(--hover-bg-color);\n",
              "    box-shadow: 0 1px 2px rgba(60, 64, 67, 0.3), 0 1px 3px 1px rgba(60, 64, 67, 0.15);\n",
              "    fill: var(--button-hover-fill-color);\n",
              "  }\n",
              "\n",
              "  .colab-df-quickchart-complete:disabled,\n",
              "  .colab-df-quickchart-complete:disabled:hover {\n",
              "    background-color: var(--disabled-bg-color);\n",
              "    fill: var(--disabled-fill-color);\n",
              "    box-shadow: none;\n",
              "  }\n",
              "\n",
              "  .colab-df-spinner {\n",
              "    border: 2px solid var(--fill-color);\n",
              "    border-color: transparent;\n",
              "    border-bottom-color: var(--fill-color);\n",
              "    animation:\n",
              "      spin 1s steps(1) infinite;\n",
              "  }\n",
              "\n",
              "  @keyframes spin {\n",
              "    0% {\n",
              "      border-color: transparent;\n",
              "      border-bottom-color: var(--fill-color);\n",
              "      border-left-color: var(--fill-color);\n",
              "    }\n",
              "    20% {\n",
              "      border-color: transparent;\n",
              "      border-left-color: var(--fill-color);\n",
              "      border-top-color: var(--fill-color);\n",
              "    }\n",
              "    30% {\n",
              "      border-color: transparent;\n",
              "      border-left-color: var(--fill-color);\n",
              "      border-top-color: var(--fill-color);\n",
              "      border-right-color: var(--fill-color);\n",
              "    }\n",
              "    40% {\n",
              "      border-color: transparent;\n",
              "      border-right-color: var(--fill-color);\n",
              "      border-top-color: var(--fill-color);\n",
              "    }\n",
              "    60% {\n",
              "      border-color: transparent;\n",
              "      border-right-color: var(--fill-color);\n",
              "    }\n",
              "    80% {\n",
              "      border-color: transparent;\n",
              "      border-right-color: var(--fill-color);\n",
              "      border-bottom-color: var(--fill-color);\n",
              "    }\n",
              "    90% {\n",
              "      border-color: transparent;\n",
              "      border-bottom-color: var(--fill-color);\n",
              "    }\n",
              "  }\n",
              "</style>\n",
              "\n",
              "  <script>\n",
              "    async function quickchart(key) {\n",
              "      const quickchartButtonEl =\n",
              "        document.querySelector('#' + key + ' button');\n",
              "      quickchartButtonEl.disabled = true;  // To prevent multiple clicks.\n",
              "      quickchartButtonEl.classList.add('colab-df-spinner');\n",
              "      try {\n",
              "        const charts = await google.colab.kernel.invokeFunction(\n",
              "            'suggestCharts', [key], {});\n",
              "      } catch (error) {\n",
              "        console.error('Error during call to suggestCharts:', error);\n",
              "      }\n",
              "      quickchartButtonEl.classList.remove('colab-df-spinner');\n",
              "      quickchartButtonEl.classList.add('colab-df-quickchart-complete');\n",
              "    }\n",
              "    (() => {\n",
              "      let quickchartButtonEl =\n",
              "        document.querySelector('#df-bd54883c-3928-4b13-9c99-c66083dcccff button');\n",
              "      quickchartButtonEl.style.display =\n",
              "        google.colab.kernel.accessAllowed ? 'block' : 'none';\n",
              "    })();\n",
              "  </script>\n",
              "</div>\n",
              "\n",
              "    </div>\n",
              "  </div>\n"
            ],
            "application/vnd.google.colaboratory.intrinsic+json": {
              "type": "dataframe",
              "summary": "{\n  \"name\": \"df_digital[['Seccion', 'n_Seccion']]\",\n  \"rows\": 10,\n  \"fields\": [\n    {\n      \"column\": \"Seccion\",\n      \"properties\": {\n        \"dtype\": \"category\",\n        \"num_unique_values\": 1,\n        \"samples\": [\n          \"ECONOM\\u00cdA\"\n        ],\n        \"semantic_type\": \"\",\n        \"description\": \"\"\n      }\n    },\n    {\n      \"column\": \"n_Seccion\",\n      \"properties\": {\n        \"dtype\": \"number\",\n        \"std\": 0,\n        \"min\": 1,\n        \"max\": 1,\n        \"num_unique_values\": 1,\n        \"samples\": [\n          1\n        ],\n        \"semantic_type\": \"\",\n        \"description\": \"\"\n      }\n    }\n  ]\n}"
            }
          },
          "metadata": {},
          "execution_count": 31
        }
      ]
    },
    {
      "cell_type": "code",
      "source": [
        "df_digital.n_Seccion.value_counts()"
      ],
      "metadata": {
        "colab": {
          "base_uri": "https://localhost:8080/",
          "height": 397
        },
        "id": "uZ3_lC3-HzwE",
        "outputId": "ad7500f1-1334-4d4c-fb3a-9e0b3a8fe91f"
      },
      "execution_count": null,
      "outputs": [
        {
          "output_type": "execute_result",
          "data": {
            "text/plain": [
              "n_Seccion\n",
              "2    3579\n",
              "4    3290\n",
              "0    3025\n",
              "3    2778\n",
              "5    1132\n",
              "1    1101\n",
              "8    1034\n",
              "7    1030\n",
              "6     125\n",
              "Name: count, dtype: int64"
            ],
            "text/html": [
              "<div>\n",
              "<style scoped>\n",
              "    .dataframe tbody tr th:only-of-type {\n",
              "        vertical-align: middle;\n",
              "    }\n",
              "\n",
              "    .dataframe tbody tr th {\n",
              "        vertical-align: top;\n",
              "    }\n",
              "\n",
              "    .dataframe thead th {\n",
              "        text-align: right;\n",
              "    }\n",
              "</style>\n",
              "<table border=\"1\" class=\"dataframe\">\n",
              "  <thead>\n",
              "    <tr style=\"text-align: right;\">\n",
              "      <th></th>\n",
              "      <th>count</th>\n",
              "    </tr>\n",
              "    <tr>\n",
              "      <th>n_Seccion</th>\n",
              "      <th></th>\n",
              "    </tr>\n",
              "  </thead>\n",
              "  <tbody>\n",
              "    <tr>\n",
              "      <th>2</th>\n",
              "      <td>3579</td>\n",
              "    </tr>\n",
              "    <tr>\n",
              "      <th>4</th>\n",
              "      <td>3290</td>\n",
              "    </tr>\n",
              "    <tr>\n",
              "      <th>0</th>\n",
              "      <td>3025</td>\n",
              "    </tr>\n",
              "    <tr>\n",
              "      <th>3</th>\n",
              "      <td>2778</td>\n",
              "    </tr>\n",
              "    <tr>\n",
              "      <th>5</th>\n",
              "      <td>1132</td>\n",
              "    </tr>\n",
              "    <tr>\n",
              "      <th>1</th>\n",
              "      <td>1101</td>\n",
              "    </tr>\n",
              "    <tr>\n",
              "      <th>8</th>\n",
              "      <td>1034</td>\n",
              "    </tr>\n",
              "    <tr>\n",
              "      <th>7</th>\n",
              "      <td>1030</td>\n",
              "    </tr>\n",
              "    <tr>\n",
              "      <th>6</th>\n",
              "      <td>125</td>\n",
              "    </tr>\n",
              "  </tbody>\n",
              "</table>\n",
              "</div><br><label><b>dtype:</b> int64</label>"
            ]
          },
          "metadata": {},
          "execution_count": 32
        }
      ]
    },
    {
      "cell_type": "markdown",
      "source": [
        "Matriz de Correlación"
      ],
      "metadata": {
        "id": "keIUfLM5H30x"
      }
    },
    {
      "cell_type": "code",
      "source": [
        "# MATRIZ DE CORRELACIÓN\n",
        "import pandas as pd\n",
        "import numpy as np\n",
        "import matplotlib.pyplot as plt\n",
        "import seaborn as sns\n",
        "\n",
        "# Calcular la matriz de correlación\n",
        "df2 = df_digital.select_dtypes(include=[np.number])\n",
        "corr= df2.corr()\n",
        "print(corr)\n",
        "\n",
        "# Crear el gráfico de calor\n",
        "plt.figure(figsize=(10, 8))  # Tamaño de la figura\n",
        "sns.heatmap(corr, annot=True, cmap='coolwarm', fmt='.2f', vmin=-1, vmax=1)\n",
        "\n",
        "# Mostrar el gráfico\n",
        "plt.title('Matriz de Correlación')\n",
        "plt.show()\n"
      ],
      "metadata": {
        "colab": {
          "base_uri": "https://localhost:8080/",
          "height": 1000
        },
        "id": "-rJnNfrz1bZx",
        "outputId": "444676f1-f4ad-4245-b2d1-0d6af35d16f4"
      },
      "execution_count": null,
      "outputs": [
        {
          "output_type": "stream",
          "name": "stdout",
          "text": [
            "                       Dia  Hora_Publicacion  Cod_Impacto   Visitas  \\\n",
            "Dia               1.000000          0.005560     0.007730  0.010024   \n",
            "Hora_Publicacion  0.005560          1.000000     0.117594  0.105615   \n",
            "Cod_Impacto       0.007730          0.117594     1.000000  0.882385   \n",
            "Visitas           0.010024          0.105615     0.882385  1.000000   \n",
            "n_Periodista     -0.040669          0.129214    -0.034533 -0.033161   \n",
            "n_Seccion        -0.005195         -0.127989     0.005973  0.036279   \n",
            "\n",
            "                  n_Periodista  n_Seccion  \n",
            "Dia                  -0.040669  -0.005195  \n",
            "Hora_Publicacion      0.129214  -0.127989  \n",
            "Cod_Impacto          -0.034533   0.005973  \n",
            "Visitas              -0.033161   0.036279  \n",
            "n_Periodista          1.000000  -0.159511  \n",
            "n_Seccion            -0.159511   1.000000  \n"
          ]
        },
        {
          "output_type": "display_data",
          "data": {
            "text/plain": [
              "<Figure size 1000x800 with 2 Axes>"
            ],
            "image/png": "[encoded data removed]"
          },
          "metadata": {}
        }
      ]
    },
    {
      "cell_type": "markdown",
      "source": [
        "Como se puede apreciar existe una fuerte correlación entre el Impacto y las Visitas."
      ],
      "metadata": {
        "id": "jjvqNo1lMzB4"
      }
    },
    {
      "cell_type": "markdown",
      "source": [
        "# 4. MODELADO"
      ],
      "metadata": {
        "id": "ww1e_li-ZDwt"
      }
    },
    {
      "cell_type": "markdown",
      "source": [
        "## 4.1 Selección de técnicas de modelado"
      ],
      "metadata": {
        "id": "R3eiepUtZFpS"
      }
    },
    {
      "cell_type": "markdown",
      "source": [
        "Para el modelado vamos a utilizar los siguientes algoritmos:\n",
        "- Regresión Logística\n",
        "- Árbol de Decisión"
      ],
      "metadata": {
        "id": "wOMHwYfUr89n"
      }
    },
    {
      "cell_type": "markdown",
      "source": [
        "## 4.2 Generación de plan de pruebas"
      ],
      "metadata": {
        "id": "SGi7tX78ZQhw"
      }
    },
    {
      "cell_type": "code",
      "source": [
        "# DEFINI LAS VARIABLES INDEPENDIENTES (x), Y LA VARIABLE DEPENDIENTE (y)\n",
        "x = df_digital[['Visitas', 'n_Periodista','n_Seccion','Hora_Publicacion']]\n",
        "y = df_digital['Cod_Impacto']"
      ],
      "metadata": {
        "id": "t1b8HvQvrUBd"
      },
      "execution_count": null,
      "outputs": []
    },
    {
      "cell_type": "code",
      "source": [
        "# DIVIDIR EL DATASET EN UN 70% DE ENTRENAMIENTO Y 30% DE EVALUACIÓN (test)\n",
        "from sklearn.model_selection import train_test_split\n",
        "from sklearn import metrics\n",
        "\n",
        "x_train, x_test, y_train, y_test = train_test_split(x, y, test_size=0.3, random_state=0)"
      ],
      "metadata": {
        "id": "5huz_nUosRPP"
      },
      "execution_count": null,
      "outputs": []
    },
    {
      "cell_type": "code",
      "source": [
        "# NORMALIZACIÓN DE VARIABLES\n",
        "from sklearn.preprocessing import StandardScaler\n",
        "\n",
        "standard_x = StandardScaler()\n",
        "x_train = standard_x.fit_transform(x_train)\n",
        "x_test = standard_x.fit_transform(x_test)\n",
        "print(x_train)\n",
        "print(x_test)"
      ],
      "metadata": {
        "colab": {
          "base_uri": "https://localhost:8080/"
        },
        "id": "81008wSIsZfd",
        "outputId": "134fedb6-8d2c-4e1e-d182-2e68f67408ff"
      },
      "execution_count": null,
      "outputs": [
        {
          "output_type": "stream",
          "name": "stdout",
          "text": [
            "[[ 3.72479515e-02  1.08827804e+00 -1.33621094e+00 -5.09226668e-01]\n",
            " [-4.66006307e-01 -3.81225161e-02 -5.95343352e-04 -7.00628580e-01]\n",
            " [-4.09932187e-01 -1.27716313e+00 -4.45800544e-01  1.59619437e+00]\n",
            " ...\n",
            " [-5.15600966e-01 -1.27716313e+00 -4.45800544e-01 -7.00628580e-01]\n",
            " [-4.22306493e-01  1.36987818e+00  4.44609857e-01 -8.92030492e-01]\n",
            " [ 3.75105481e-01  1.08827804e+00 -1.33621094e+00 -8.92030492e-01]]\n",
            "[[ 0.55855305 -1.29990843 -0.47336633  0.64312151]\n",
            " [ 1.81367791 -1.18779667  0.41337433 -0.50440683]\n",
            " [-0.46838058 -1.29990843 -0.47336633  1.79064985]\n",
            " ...\n",
            " [ 0.885996   -1.24385255  0.41337433  0.26061206]\n",
            " [-0.53038853 -0.45907023  1.74348532  1.98190457]\n",
            " [-0.49236479 -0.79540551 -1.36010699 -0.88691628]]\n"
          ]
        }
      ]
    },
    {
      "cell_type": "markdown",
      "source": [
        "## 4.3 Construcción del modelo"
      ],
      "metadata": {
        "id": "mpbncwBDZUOt"
      }
    },
    {
      "cell_type": "markdown",
      "source": [
        "## 4.3.1 Algoritmo de Regresión Logística"
      ],
      "metadata": {
        "id": "WND8aozysht9"
      }
    },
    {
      "cell_type": "code",
      "source": [
        "# ENTRENAR EL MODELO DE REGRESIÓN LOGISTICA\n",
        "# AJUSTE DEL MODELO\n",
        "from sklearn.linear_model import LogisticRegression\n",
        "\n",
        "reg = LogisticRegression(random_state = 0,max_iter=1000)\n",
        "reg.fit(x_train, y_train)\n",
        "\n",
        "# PREDICCIÓN\n",
        "pred = reg.predict(x_test)\n",
        "print(pred)"
      ],
      "metadata": {
        "colab": {
          "base_uri": "https://localhost:8080/"
        },
        "id": "yGoQ3oRjslJ_",
        "outputId": "be54bb24-8e96-4d4e-f69b-7ad26e32e7bf"
      },
      "execution_count": null,
      "outputs": [
        {
          "output_type": "stream",
          "name": "stdout",
          "text": [
            "[5 7 3 ... 6 3 3]\n"
          ]
        }
      ]
    },
    {
      "cell_type": "code",
      "source": [
        "# EVALUACIÓN\n",
        "# MATRIZ DE CONFUSIÓN\n",
        "from sklearn.metrics import confusion_matrix\n",
        "\n",
        "conf_mat = confusion_matrix(y_test, pred)\n",
        "conf_mat"
      ],
      "metadata": {
        "colab": {
          "base_uri": "https://localhost:8080/"
        },
        "id": "w33p8n04tPWV",
        "outputId": "5a76a343-cb59-4b8c-8460-098cdead9804"
      },
      "execution_count": null,
      "outputs": [
        {
          "output_type": "execute_result",
          "data": {
            "text/plain": [
              "array([[789,   0,   0,   0,   0,   0,   0],\n",
              "       [ 82, 752,  60,   0,   0,   0,   0],\n",
              "       [  0,   0, 960,   0,   0,   0,   0],\n",
              "       [  0,   0,  67, 796,  34,   0,   0],\n",
              "       [  0,   0,   0,   0, 809,   0,   0],\n",
              "       [  0,   0,   0,   0,  40, 344,   0],\n",
              "       [  0,   0,   0,   0,   0,  11, 385]])"
            ]
          },
          "metadata": {},
          "execution_count": 38
        }
      ]
    },
    {
      "cell_type": "code",
      "source": [
        "# PRESICIÓN\n",
        "print(\"Porcentaje de presicion:\", metrics.accuracy_score(y_test, pred))"
      ],
      "metadata": {
        "colab": {
          "base_uri": "https://localhost:8080/"
        },
        "id": "248Da0fPtVWF",
        "outputId": "89417c7a-10fa-44d9-e81d-96a26fd9a501"
      },
      "execution_count": null,
      "outputs": [
        {
          "output_type": "stream",
          "name": "stdout",
          "text": [
            "Porcentaje de presicion: 0.9426788847728602\n"
          ]
        }
      ]
    },
    {
      "cell_type": "code",
      "source": [
        "# INFORME DE CLASIFICACIÓN\n",
        "from sklearn.metrics import classification_report\n",
        "\n",
        "print(classification_report(y_test, pred))"
      ],
      "metadata": {
        "colab": {
          "base_uri": "https://localhost:8080/"
        },
        "id": "51_2NZPKtZZ5",
        "outputId": "87f0ba34-9b17-419b-cde4-e4354a9ff220"
      },
      "execution_count": null,
      "outputs": [
        {
          "output_type": "stream",
          "name": "stdout",
          "text": [
            "              precision    recall  f1-score   support\n",
            "\n",
            "           1       0.91      1.00      0.95       789\n",
            "           2       1.00      0.84      0.91       894\n",
            "           3       0.88      1.00      0.94       960\n",
            "           4       1.00      0.89      0.94       897\n",
            "           5       0.92      1.00      0.96       809\n",
            "           6       0.97      0.90      0.93       384\n",
            "           7       1.00      0.97      0.99       396\n",
            "\n",
            "    accuracy                           0.94      5129\n",
            "   macro avg       0.95      0.94      0.95      5129\n",
            "weighted avg       0.95      0.94      0.94      5129\n",
            "\n"
          ]
        }
      ]
    },
    {
      "cell_type": "code",
      "source": [
        "df_digital.tail()"
      ],
      "metadata": {
        "colab": {
          "base_uri": "https://localhost:8080/",
          "height": 538
        },
        "id": "X4pl7Cyo0m0T",
        "outputId": "47f6438e-ffd4-4f84-a6d5-eaef4c50cb59"
      },
      "execution_count": null,
      "outputs": [
        {
          "output_type": "execute_result",
          "data": {
            "text/plain": [
              "                                                  Titulo  \\\n",
              "17089  El liderazgo integral y su importancia en la e...   \n",
              "17090  ¿Cuál será el futuro del Administrador en la e...   \n",
              "17091  Siete cosas que debes tomar en cuenta para via...   \n",
              "17092  30 años de la carrera de Medicina: Celebramos ...   \n",
              "17093  Generando más de 500 modelos de negocio a trav...   \n",
              "\n",
              "                           Secciones_Web        Fecha_Publicacion  \\\n",
              "17089  Te Puede Interesar, Universidades  Jun 11, 2024 - 02:49 PM   \n",
              "17090  Te Puede Interesar, Universidades  Jun 10, 2024 - 03:08 PM   \n",
              "17091                         Tendencias   Jan 6, 2024 - 07:00 AM   \n",
              "17092                      Universidades  Jun 25, 2024 - 05:11 PM   \n",
              "17093                      Universidades   Jun 3, 2024 - 04:21 PM   \n",
              "\n",
              "                Fecha_Creacion      Firma          Periodista  \\\n",
              "17089  Jun 11, 2024 - 03:12 PM  SIN_FIRMA      Angela Colodro   \n",
              "17090  Jun 10, 2024 - 03:06 PM  SIN_FIRMA      Angela Colodro   \n",
              "17091   Jan 5, 2024 - 10:13 PM   EL DEBER  Lourdes Molina Rea   \n",
              "17092  Jun 25, 2024 - 05:14 PM   EL DEBER     Mauricio Torrez   \n",
              "17093   Jun 3, 2024 - 03:51 PM  SIN_FIRMA      Angela Colodro   \n",
              "\n",
              "                                                    Link  Mes  Dia      Hora  \\\n",
              "17089  https://eldeber.com.bo/370869_el-liderazgo-int...  Jun   11  02:49 PM   \n",
              "17090  https://eldeber.com.bo/370755_cual-sera-el-fut...  Jun   10  03:08 PM   \n",
              "17091  https://eldeber.com.bo/352575_siete-cosas-que-...  Jan    6  07:00 AM   \n",
              "17092  https://eldeber.com.bo/373175_30-anos-de-la-ca...  Jun   25  05:11 PM   \n",
              "17093  https://eldeber.com.bo/370088_generando-mas-de...  Jun    3  04:21 PM   \n",
              "\n",
              "       Hora_Publicacion   Seccion  Cod_Impacto       Impacto  Visitas  \\\n",
              "17089                14  SOCIEDAD            1  Cero Impacto      687   \n",
              "17090                15  SOCIEDAD            1  Cero Impacto      122   \n",
              "17091                 7  SOCIEDAD            1  Cero Impacto      882   \n",
              "17092                17  SOCIEDAD            1  Cero Impacto      987   \n",
              "17093                16  SOCIEDAD            1  Cero Impacto      615   \n",
              "\n",
              "       n_Periodista  n_Seccion  \n",
              "17089             0          8  \n",
              "17090             0          8  \n",
              "17091            36          8  \n",
              "17092            42          8  \n",
              "17093             0          8  "
            ],
            "text/html": [
              "\n",
              "  <div id=\"df-fdf2270d-1947-4900-904b-db2131235f06\" class=\"colab-df-container\">\n",
              "    <div>\n",
              "<style scoped>\n",
              "    .dataframe tbody tr th:only-of-type {\n",
              "        vertical-align: middle;\n",
              "    }\n",
              "\n",
              "    .dataframe tbody tr th {\n",
              "        vertical-align: top;\n",
              "    }\n",
              "\n",
              "    .dataframe thead th {\n",
              "        text-align: right;\n",
              "    }\n",
              "</style>\n",
              "<table border=\"1\" class=\"dataframe\">\n",
              "  <thead>\n",
              "    <tr style=\"text-align: right;\">\n",
              "      <th></th>\n",
              "      <th>Titulo</th>\n",
              "      <th>Secciones_Web</th>\n",
              "      <th>Fecha_Publicacion</th>\n",
              "      <th>Fecha_Creacion</th>\n",
              "      <th>Firma</th>\n",
              "      <th>Periodista</th>\n",
              "      <th>Link</th>\n",
              "      <th>Mes</th>\n",
              "      <th>Dia</th>\n",
              "      <th>Hora</th>\n",
              "      <th>Hora_Publicacion</th>\n",
              "      <th>Seccion</th>\n",
              "      <th>Cod_Impacto</th>\n",
              "      <th>Impacto</th>\n",
              "      <th>Visitas</th>\n",
              "      <th>n_Periodista</th>\n",
              "      <th>n_Seccion</th>\n",
              "    </tr>\n",
              "  </thead>\n",
              "  <tbody>\n",
              "    <tr>\n",
              "      <th>17089</th>\n",
              "      <td>El liderazgo integral y su importancia en la e...</td>\n",
              "      <td>Te Puede Interesar, Universidades</td>\n",
              "      <td>Jun 11, 2024 - 02:49 PM</td>\n",
              "      <td>Jun 11, 2024 - 03:12 PM</td>\n",
              "      <td>SIN_FIRMA</td>\n",
              "      <td>Angela Colodro</td>\n",
              "      <td>https://eldeber.com.bo/370869_el-liderazgo-int...</td>\n",
              "      <td>Jun</td>\n",
              "      <td>11</td>\n",
              "      <td>02:49 PM</td>\n",
              "      <td>14</td>\n",
              "      <td>SOCIEDAD</td>\n",
              "      <td>1</td>\n",
              "      <td>Cero Impacto</td>\n",
              "      <td>687</td>\n",
              "      <td>0</td>\n",
              "      <td>8</td>\n",
              "    </tr>\n",
              "    <tr>\n",
              "      <th>17090</th>\n",
              "      <td>¿Cuál será el futuro del Administrador en la e...</td>\n",
              "      <td>Te Puede Interesar, Universidades</td>\n",
              "      <td>Jun 10, 2024 - 03:08 PM</td>\n",
              "      <td>Jun 10, 2024 - 03:06 PM</td>\n",
              "      <td>SIN_FIRMA</td>\n",
              "      <td>Angela Colodro</td>\n",
              "      <td>https://eldeber.com.bo/370755_cual-sera-el-fut...</td>\n",
              "      <td>Jun</td>\n",
              "      <td>10</td>\n",
              "      <td>03:08 PM</td>\n",
              "      <td>15</td>\n",
              "      <td>SOCIEDAD</td>\n",
              "      <td>1</td>\n",
              "      <td>Cero Impacto</td>\n",
              "      <td>122</td>\n",
              "      <td>0</td>\n",
              "      <td>8</td>\n",
              "    </tr>\n",
              "    <tr>\n",
              "      <th>17091</th>\n",
              "      <td>Siete cosas que debes tomar en cuenta para via...</td>\n",
              "      <td>Tendencias</td>\n",
              "      <td>Jan 6, 2024 - 07:00 AM</td>\n",
              "      <td>Jan 5, 2024 - 10:13 PM</td>\n",
              "      <td>EL DEBER</td>\n",
              "      <td>Lourdes Molina Rea</td>\n",
              "      <td>https://eldeber.com.bo/352575_siete-cosas-que-...</td>\n",
              "      <td>Jan</td>\n",
              "      <td>6</td>\n",
              "      <td>07:00 AM</td>\n",
              "      <td>7</td>\n",
              "      <td>SOCIEDAD</td>\n",
              "      <td>1</td>\n",
              "      <td>Cero Impacto</td>\n",
              "      <td>882</td>\n",
              "      <td>36</td>\n",
              "      <td>8</td>\n",
              "    </tr>\n",
              "    <tr>\n",
              "      <th>17092</th>\n",
              "      <td>30 años de la carrera de Medicina: Celebramos ...</td>\n",
              "      <td>Universidades</td>\n",
              "      <td>Jun 25, 2024 - 05:11 PM</td>\n",
              "      <td>Jun 25, 2024 - 05:14 PM</td>\n",
              "      <td>EL DEBER</td>\n",
              "      <td>Mauricio Torrez</td>\n",
              "      <td>https://eldeber.com.bo/373175_30-anos-de-la-ca...</td>\n",
              "      <td>Jun</td>\n",
              "      <td>25</td>\n",
              "      <td>05:11 PM</td>\n",
              "      <td>17</td>\n",
              "      <td>SOCIEDAD</td>\n",
              "      <td>1</td>\n",
              "      <td>Cero Impacto</td>\n",
              "      <td>987</td>\n",
              "      <td>42</td>\n",
              "      <td>8</td>\n",
              "    </tr>\n",
              "    <tr>\n",
              "      <th>17093</th>\n",
              "      <td>Generando más de 500 modelos de negocio a trav...</td>\n",
              "      <td>Universidades</td>\n",
              "      <td>Jun 3, 2024 - 04:21 PM</td>\n",
              "      <td>Jun 3, 2024 - 03:51 PM</td>\n",
              "      <td>SIN_FIRMA</td>\n",
              "      <td>Angela Colodro</td>\n",
              "      <td>https://eldeber.com.bo/370088_generando-mas-de...</td>\n",
              "      <td>Jun</td>\n",
              "      <td>3</td>\n",
              "      <td>04:21 PM</td>\n",
              "      <td>16</td>\n",
              "      <td>SOCIEDAD</td>\n",
              "      <td>1</td>\n",
              "      <td>Cero Impacto</td>\n",
              "      <td>615</td>\n",
              "      <td>0</td>\n",
              "      <td>8</td>\n",
              "    </tr>\n",
              "  </tbody>\n",
              "</table>\n",
              "</div>\n",
              "    <div class=\"colab-df-buttons\">\n",
              "\n",
              "  <div class=\"colab-df-container\">\n",
              "    <button class=\"colab-df-convert\" onclick=\"convertToInteractive('df-fdf2270d-1947-4900-904b-db2131235f06')\"\n",
              "            title=\"Convert this dataframe to an interactive table.\"\n",
              "            style=\"display:none;\">\n",
              "\n",
              "  <svg xmlns=\"http://www.w3.org/2000/svg\" height=\"24px\" viewBox=\"0 -960 960 960\">\n",
              "    <path d=\"M120-120v-720h720v720H120Zm60-500h600v-160H180v160Zm220 220h160v-160H400v160Zm0 220h160v-160H400v160ZM180-400h160v-160H180v160Zm440 0h160v-160H620v160ZM180-180h160v-160H180v160Zm440 0h160v-160H620v160Z\"/>\n",
              "  </svg>\n",
              "    </button>\n",
              "\n",
              "  <style>\n",
              "    .colab-df-container {\n",
              "      display:flex;\n",
              "      gap: 12px;\n",
              "    }\n",
              "\n",
              "    .colab-df-convert {\n",
              "      background-color: #E8F0FE;\n",
              "      border: none;\n",
              "      border-radius: 50%;\n",
              "      cursor: pointer;\n",
              "      display: none;\n",
              "      fill: #1967D2;\n",
              "      height: 32px;\n",
              "      padding: 0 0 0 0;\n",
              "      width: 32px;\n",
              "    }\n",
              "\n",
              "    .colab-df-convert:hover {\n",
              "      background-color: #E2EBFA;\n",
              "      box-shadow: 0px 1px 2px rgba(60, 64, 67, 0.3), 0px 1px 3px 1px rgba(60, 64, 67, 0.15);\n",
              "      fill: #174EA6;\n",
              "    }\n",
              "\n",
              "    .colab-df-buttons div {\n",
              "      margin-bottom: 4px;\n",
              "    }\n",
              "\n",
              "    [theme=dark] .colab-df-convert {\n",
              "      background-color: #3B4455;\n",
              "      fill: #D2E3FC;\n",
              "    }\n",
              "\n",
              "    [theme=dark] .colab-df-convert:hover {\n",
              "      background-color: #434B5C;\n",
              "      box-shadow: 0px 1px 3px 1px rgba(0, 0, 0, 0.15);\n",
              "      filter: drop-shadow(0px 1px 2px rgba(0, 0, 0, 0.3));\n",
              "      fill: #FFFFFF;\n",
              "    }\n",
              "  </style>\n",
              "\n",
              "    <script>\n",
              "      const buttonEl =\n",
              "        document.querySelector('#df-fdf2270d-1947-4900-904b-db2131235f06 button.colab-df-convert');\n",
              "      buttonEl.style.display =\n",
              "        google.colab.kernel.accessAllowed ? 'block' : 'none';\n",
              "\n",
              "      async function convertToInteractive(key) {\n",
              "        const element = document.querySelector('#df-fdf2270d-1947-4900-904b-db2131235f06');\n",
              "        const dataTable =\n",
              "          await google.colab.kernel.invokeFunction('convertToInteractive',\n",
              "                                                    [key], {});\n",
              "        if (!dataTable) return;\n",
              "\n",
              "        const docLinkHtml = 'Like what you see? Visit the ' +\n",
              "          '<a target=\"_blank\" href=https://colab.research.google.com/notebooks/data_table.ipynb>data table notebook</a>'\n",
              "          + ' to learn more about interactive tables.';\n",
              "        element.innerHTML = '';\n",
              "        dataTable['output_type'] = 'display_data';\n",
              "        await google.colab.output.renderOutput(dataTable, element);\n",
              "        const docLink = document.createElement('div');\n",
              "        docLink.innerHTML = docLinkHtml;\n",
              "        element.appendChild(docLink);\n",
              "      }\n",
              "    </script>\n",
              "  </div>\n",
              "\n",
              "\n",
              "<div id=\"df-050bcb78-88bc-4c63-a570-bd2220cfc2f4\">\n",
              "  <button class=\"colab-df-quickchart\" onclick=\"quickchart('df-050bcb78-88bc-4c63-a570-bd2220cfc2f4')\"\n",
              "            title=\"Suggest charts\"\n",
              "            style=\"display:none;\">\n",
              "\n",
              "<svg xmlns=\"http://www.w3.org/2000/svg\" height=\"24px\"viewBox=\"0 0 24 24\"\n",
              "     width=\"24px\">\n",
              "    <g>\n",
              "        <path d=\"M19 3H5c-1.1 0-2 .9-2 2v14c0 1.1.9 2 2 2h14c1.1 0 2-.9 2-2V5c0-1.1-.9-2-2-2zM9 17H7v-7h2v7zm4 0h-2V7h2v10zm4 0h-2v-4h2v4z\"/>\n",
              "    </g>\n",
              "</svg>\n",
              "  </button>\n",
              "\n",
              "<style>\n",
              "  .colab-df-quickchart {\n",
              "      --bg-color: #E8F0FE;\n",
              "      --fill-color: #1967D2;\n",
              "      --hover-bg-color: #E2EBFA;\n",
              "      --hover-fill-color: #174EA6;\n",
              "      --disabled-fill-color: #AAA;\n",
              "      --disabled-bg-color: #DDD;\n",
              "  }\n",
              "\n",
              "  [theme=dark] .colab-df-quickchart {\n",
              "      --bg-color: #3B4455;\n",
              "      --fill-color: #D2E3FC;\n",
              "      --hover-bg-color: #434B5C;\n",
              "      --hover-fill-color: #FFFFFF;\n",
              "      --disabled-bg-color: #3B4455;\n",
              "      --disabled-fill-color: #666;\n",
              "  }\n",
              "\n",
              "  .colab-df-quickchart {\n",
              "    background-color: var(--bg-color);\n",
              "    border: none;\n",
              "    border-radius: 50%;\n",
              "    cursor: pointer;\n",
              "    display: none;\n",
              "    fill: var(--fill-color);\n",
              "    height: 32px;\n",
              "    padding: 0;\n",
              "    width: 32px;\n",
              "  }\n",
              "\n",
              "  .colab-df-quickchart:hover {\n",
              "    background-color: var(--hover-bg-color);\n",
              "    box-shadow: 0 1px 2px rgba(60, 64, 67, 0.3), 0 1px 3px 1px rgba(60, 64, 67, 0.15);\n",
              "    fill: var(--button-hover-fill-color);\n",
              "  }\n",
              "\n",
              "  .colab-df-quickchart-complete:disabled,\n",
              "  .colab-df-quickchart-complete:disabled:hover {\n",
              "    background-color: var(--disabled-bg-color);\n",
              "    fill: var(--disabled-fill-color);\n",
              "    box-shadow: none;\n",
              "  }\n",
              "\n",
              "  .colab-df-spinner {\n",
              "    border: 2px solid var(--fill-color);\n",
              "    border-color: transparent;\n",
              "    border-bottom-color: var(--fill-color);\n",
              "    animation:\n",
              "      spin 1s steps(1) infinite;\n",
              "  }\n",
              "\n",
              "  @keyframes spin {\n",
              "    0% {\n",
              "      border-color: transparent;\n",
              "      border-bottom-color: var(--fill-color);\n",
              "      border-left-color: var(--fill-color);\n",
              "    }\n",
              "    20% {\n",
              "      border-color: transparent;\n",
              "      border-left-color: var(--fill-color);\n",
              "      border-top-color: var(--fill-color);\n",
              "    }\n",
              "    30% {\n",
              "      border-color: transparent;\n",
              "      border-left-color: var(--fill-color);\n",
              "      border-top-color: var(--fill-color);\n",
              "      border-right-color: var(--fill-color);\n",
              "    }\n",
              "    40% {\n",
              "      border-color: transparent;\n",
              "      border-right-color: var(--fill-color);\n",
              "      border-top-color: var(--fill-color);\n",
              "    }\n",
              "    60% {\n",
              "      border-color: transparent;\n",
              "      border-right-color: var(--fill-color);\n",
              "    }\n",
              "    80% {\n",
              "      border-color: transparent;\n",
              "      border-right-color: var(--fill-color);\n",
              "      border-bottom-color: var(--fill-color);\n",
              "    }\n",
              "    90% {\n",
              "      border-color: transparent;\n",
              "      border-bottom-color: var(--fill-color);\n",
              "    }\n",
              "  }\n",
              "</style>\n",
              "\n",
              "  <script>\n",
              "    async function quickchart(key) {\n",
              "      const quickchartButtonEl =\n",
              "        document.querySelector('#' + key + ' button');\n",
              "      quickchartButtonEl.disabled = true;  // To prevent multiple clicks.\n",
              "      quickchartButtonEl.classList.add('colab-df-spinner');\n",
              "      try {\n",
              "        const charts = await google.colab.kernel.invokeFunction(\n",
              "            'suggestCharts', [key], {});\n",
              "      } catch (error) {\n",
              "        console.error('Error during call to suggestCharts:', error);\n",
              "      }\n",
              "      quickchartButtonEl.classList.remove('colab-df-spinner');\n",
              "      quickchartButtonEl.classList.add('colab-df-quickchart-complete');\n",
              "    }\n",
              "    (() => {\n",
              "      let quickchartButtonEl =\n",
              "        document.querySelector('#df-050bcb78-88bc-4c63-a570-bd2220cfc2f4 button');\n",
              "      quickchartButtonEl.style.display =\n",
              "        google.colab.kernel.accessAllowed ? 'block' : 'none';\n",
              "    })();\n",
              "  </script>\n",
              "</div>\n",
              "\n",
              "    </div>\n",
              "  </div>\n"
            ],
            "application/vnd.google.colaboratory.intrinsic+json": {
              "type": "dataframe",
              "repr_error": "0"
            }
          },
          "metadata": {},
          "execution_count": 41
        }
      ]
    },
    {
      "cell_type": "code",
      "source": [
        "#PREDECIR UN CASO PARTICULAR\n",
        "#Impactos: 1 (Cero Impacto), 2 (Bajo), 3 (Medio Bajo), 4 (Medio), 5(Medio Alto), 6(Alto), 7(Gran Impacto)\n",
        "p = {'Visitas':[100000],\n",
        "     'n_Periodista':[6],\n",
        "     'n_Seccion':[2],\n",
        "        'Hora_Publicacion':[9]}\n",
        "\n",
        "# Crear el DataFrame\n",
        "x_new = pd.DataFrame(p)\n",
        "x_new = x_new.values\n",
        "print(reg.predict(x_new))"
      ],
      "metadata": {
        "colab": {
          "base_uri": "https://localhost:8080/"
        },
        "id": "pSBQSPq709bf",
        "outputId": "7b17ceca-fada-4a0f-d840-62f4a4f7bd12"
      },
      "execution_count": null,
      "outputs": [
        {
          "output_type": "stream",
          "name": "stdout",
          "text": [
            "[7]\n"
          ]
        }
      ]
    },
    {
      "cell_type": "markdown",
      "source": [
        "El resultado es el código del impacto."
      ],
      "metadata": {
        "id": "n6k9N5SLqE7b"
      }
    },
    {
      "cell_type": "markdown",
      "source": [
        "## 4.3.2 Algoritmo Árbol de Decisiones"
      ],
      "metadata": {
        "id": "WsiqH1vp55u3"
      }
    },
    {
      "cell_type": "code",
      "source": [
        "from sklearn.tree import DecisionTreeClassifier, plot_tree\n",
        "from sklearn.model_selection import train_test_split\n",
        "from sklearn.metrics import accuracy_score\n",
        "\n",
        "print(df_digital.head())"
      ],
      "metadata": {
        "colab": {
          "base_uri": "https://localhost:8080/"
        },
        "id": "IVzyai_k55I5",
        "outputId": "17af3391-9586-4f2f-d45b-8397014d9e70"
      },
      "execution_count": null,
      "outputs": [
        {
          "output_type": "stream",
          "name": "stdout",
          "text": [
            "                                              Titulo  \\\n",
            "0  Bolivia pasará de país exportador  a transport...   \n",
            "1  La ANH garantiza abastecimiento de combustible...   \n",
            "2  Cainco: \"No dejemos que la política se siga co...   \n",
            "3  Bloquean ingreso de trenes a la ciudad y ponen...   \n",
            "4  Padrón de contribuyentes del SIN creció 4,2% e...   \n",
            "\n",
            "                       Secciones_Web        Fecha_Publicacion  \\\n",
            "0          ECONOMÍA, Edición Impresa  Jan 30, 2024 - 04:00 AM   \n",
            "1                           ECONOMÍA  Jan 29, 2024 - 12:17 PM   \n",
            "2                           ECONOMÍA  Jan 26, 2024 - 07:20 PM   \n",
            "3                           ECONOMÍA  Jan 24, 2024 - 09:02 AM   \n",
            "4  ECONOMÍA, Dinero, Edición Impresa  Jan 23, 2024 - 04:24 PM   \n",
            "\n",
            "            Fecha_Creacion                        Firma          Periodista  \\\n",
            "0  Jan 29, 2024 - 11:07 PM  Ernesto Estremadoiro Flores    Ernesto Guevarra   \n",
            "1  Jan 29, 2024 - 12:01 PM  Ernesto Estremadoiro Flores    Ernesto Guevarra   \n",
            "2  Jan 26, 2024 - 06:39 PM           Lourdes Molina Rea  Lourdes Molina Rea   \n",
            "3  Jan 24, 2024 - 09:10 AM               Raúl Domínguez   rado_bo@yahoo.com   \n",
            "4  Jan 23, 2024 - 04:28 PM               Raúl Domínguez      Beatriz Pinzon   \n",
            "\n",
            "                                                Link  Mes  Dia      Hora  \\\n",
            "0  https://eldeber.com.bo/355054_bolivia-pasara-d...  Jan   30  04:00 AM   \n",
            "1  https://eldeber.com.bo/354986_la-anh-garantiza...  Jan   29  12:17 PM   \n",
            "2  https://eldeber.com.bo/354746_cainco-no-dejemo...  Jan   26  07:20 PM   \n",
            "3  https://eldeber.com.bo/354409_bloquean-ingreso...  Jan   24  09:02 AM   \n",
            "4  https://eldeber.com.bo/354339_padron-de-contri...  Jan   23  04:24 PM   \n",
            "\n",
            "   Hora_Publicacion   Seccion  Cod_Impacto       Impacto  Visitas  \\\n",
            "0                 4  ECONOMÍA            7  Gran Impacto    91295   \n",
            "1                12  ECONOMÍA            7  Gran Impacto    85746   \n",
            "2                19  ECONOMÍA            7  Gran Impacto    54910   \n",
            "3                 9  ECONOMÍA            7  Gran Impacto    84434   \n",
            "4                16  ECONOMÍA            7  Gran Impacto    98429   \n",
            "\n",
            "   n_Periodista  n_Seccion  \n",
            "0            12          1  \n",
            "1            12          1  \n",
            "2            36          1  \n",
            "3            51          1  \n",
            "4             3          1  \n"
          ]
        }
      ]
    },
    {
      "cell_type": "code",
      "source": [
        "# DEFINIR LAS VARIABLES INDEPENDIENTES (x), Y LA VARIABLE DEPENDIENTE (y)\n",
        "x = df_digital[['Visitas', 'n_Periodista','n_Seccion','Hora_Publicacion']]\n",
        "y = df_digital['Cod_Impacto']\n",
        "\n",
        "# DIVIDIR LOS DATOS EN CONJUNTO DE ENTRENAMIENTO Y PRUEBA\n",
        "xad_train, xad_test, yad_train, yad_test = train_test_split(x, y, test_size=0.2, random_state=0)"
      ],
      "metadata": {
        "id": "1BJICagR6OUu"
      },
      "execution_count": null,
      "outputs": []
    },
    {
      "cell_type": "code",
      "source": [
        "xad_train.tail()"
      ],
      "metadata": {
        "colab": {
          "base_uri": "https://localhost:8080/",
          "height": 206
        },
        "id": "mieWL0-h6SGb",
        "outputId": "b3b04a51-0c25-4da9-acba-29d69d8f740d"
      },
      "execution_count": null,
      "outputs": [
        {
          "output_type": "execute_result",
          "data": {
            "text/plain": [
              "       Visitas  n_Periodista  n_Seccion  Hora_Publicacion\n",
              "9225      6468            11          2                12\n",
              "13123     4769            36          3                20\n",
              "9845      7034             3          2                 9\n",
              "10799     8949            50          4                 8\n",
              "2732     25317            45          0                 8"
            ],
            "text/html": [
              "\n",
              "  <div id=\"df-26492d8d-d01f-4b7f-9e0f-c02bc21cb0e4\" class=\"colab-df-container\">\n",
              "    <div>\n",
              "<style scoped>\n",
              "    .dataframe tbody tr th:only-of-type {\n",
              "        vertical-align: middle;\n",
              "    }\n",
              "\n",
              "    .dataframe tbody tr th {\n",
              "        vertical-align: top;\n",
              "    }\n",
              "\n",
              "    .dataframe thead th {\n",
              "        text-align: right;\n",
              "    }\n",
              "</style>\n",
              "<table border=\"1\" class=\"dataframe\">\n",
              "  <thead>\n",
              "    <tr style=\"text-align: right;\">\n",
              "      <th></th>\n",
              "      <th>Visitas</th>\n",
              "      <th>n_Periodista</th>\n",
              "      <th>n_Seccion</th>\n",
              "      <th>Hora_Publicacion</th>\n",
              "    </tr>\n",
              "  </thead>\n",
              "  <tbody>\n",
              "    <tr>\n",
              "      <th>9225</th>\n",
              "      <td>6468</td>\n",
              "      <td>11</td>\n",
              "      <td>2</td>\n",
              "      <td>12</td>\n",
              "    </tr>\n",
              "    <tr>\n",
              "      <th>13123</th>\n",
              "      <td>4769</td>\n",
              "      <td>36</td>\n",
              "      <td>3</td>\n",
              "      <td>20</td>\n",
              "    </tr>\n",
              "    <tr>\n",
              "      <th>9845</th>\n",
              "      <td>7034</td>\n",
              "      <td>3</td>\n",
              "      <td>2</td>\n",
              "      <td>9</td>\n",
              "    </tr>\n",
              "    <tr>\n",
              "      <th>10799</th>\n",
              "      <td>8949</td>\n",
              "      <td>50</td>\n",
              "      <td>4</td>\n",
              "      <td>8</td>\n",
              "    </tr>\n",
              "    <tr>\n",
              "      <th>2732</th>\n",
              "      <td>25317</td>\n",
              "      <td>45</td>\n",
              "      <td>0</td>\n",
              "      <td>8</td>\n",
              "    </tr>\n",
              "  </tbody>\n",
              "</table>\n",
              "</div>\n",
              "    <div class=\"colab-df-buttons\">\n",
              "\n",
              "  <div class=\"colab-df-container\">\n",
              "    <button class=\"colab-df-convert\" onclick=\"convertToInteractive('df-26492d8d-d01f-4b7f-9e0f-c02bc21cb0e4')\"\n",
              "            title=\"Convert this dataframe to an interactive table.\"\n",
              "            style=\"display:none;\">\n",
              "\n",
              "  <svg xmlns=\"http://www.w3.org/2000/svg\" height=\"24px\" viewBox=\"0 -960 960 960\">\n",
              "    <path d=\"M120-120v-720h720v720H120Zm60-500h600v-160H180v160Zm220 220h160v-160H400v160Zm0 220h160v-160H400v160ZM180-400h160v-160H180v160Zm440 0h160v-160H620v160ZM180-180h160v-160H180v160Zm440 0h160v-160H620v160Z\"/>\n",
              "  </svg>\n",
              "    </button>\n",
              "\n",
              "  <style>\n",
              "    .colab-df-container {\n",
              "      display:flex;\n",
              "      gap: 12px;\n",
              "    }\n",
              "\n",
              "    .colab-df-convert {\n",
              "      background-color: #E8F0FE;\n",
              "      border: none;\n",
              "      border-radius: 50%;\n",
              "      cursor: pointer;\n",
              "      display: none;\n",
              "      fill: #1967D2;\n",
              "      height: 32px;\n",
              "      padding: 0 0 0 0;\n",
              "      width: 32px;\n",
              "    }\n",
              "\n",
              "    .colab-df-convert:hover {\n",
              "      background-color: #E2EBFA;\n",
              "      box-shadow: 0px 1px 2px rgba(60, 64, 67, 0.3), 0px 1px 3px 1px rgba(60, 64, 67, 0.15);\n",
              "      fill: #174EA6;\n",
              "    }\n",
              "\n",
              "    .colab-df-buttons div {\n",
              "      margin-bottom: 4px;\n",
              "    }\n",
              "\n",
              "    [theme=dark] .colab-df-convert {\n",
              "      background-color: #3B4455;\n",
              "      fill: #D2E3FC;\n",
              "    }\n",
              "\n",
              "    [theme=dark] .colab-df-convert:hover {\n",
              "      background-color: #434B5C;\n",
              "      box-shadow: 0px 1px 3px 1px rgba(0, 0, 0, 0.15);\n",
              "      filter: drop-shadow(0px 1px 2px rgba(0, 0, 0, 0.3));\n",
              "      fill: #FFFFFF;\n",
              "    }\n",
              "  </style>\n",
              "\n",
              "    <script>\n",
              "      const buttonEl =\n",
              "        document.querySelector('#df-26492d8d-d01f-4b7f-9e0f-c02bc21cb0e4 button.colab-df-convert');\n",
              "      buttonEl.style.display =\n",
              "        google.colab.kernel.accessAllowed ? 'block' : 'none';\n",
              "\n",
              "      async function convertToInteractive(key) {\n",
              "        const element = document.querySelector('#df-26492d8d-d01f-4b7f-9e0f-c02bc21cb0e4');\n",
              "        const dataTable =\n",
              "          await google.colab.kernel.invokeFunction('convertToInteractive',\n",
              "                                                    [key], {});\n",
              "        if (!dataTable) return;\n",
              "\n",
              "        const docLinkHtml = 'Like what you see? Visit the ' +\n",
              "          '<a target=\"_blank\" href=https://colab.research.google.com/notebooks/data_table.ipynb>data table notebook</a>'\n",
              "          + ' to learn more about interactive tables.';\n",
              "        element.innerHTML = '';\n",
              "        dataTable['output_type'] = 'display_data';\n",
              "        await google.colab.output.renderOutput(dataTable, element);\n",
              "        const docLink = document.createElement('div');\n",
              "        docLink.innerHTML = docLinkHtml;\n",
              "        element.appendChild(docLink);\n",
              "      }\n",
              "    </script>\n",
              "  </div>\n",
              "\n",
              "\n",
              "<div id=\"df-67a6ed98-c217-414f-a757-ee240415901b\">\n",
              "  <button class=\"colab-df-quickchart\" onclick=\"quickchart('df-67a6ed98-c217-414f-a757-ee240415901b')\"\n",
              "            title=\"Suggest charts\"\n",
              "            style=\"display:none;\">\n",
              "\n",
              "<svg xmlns=\"http://www.w3.org/2000/svg\" height=\"24px\"viewBox=\"0 0 24 24\"\n",
              "     width=\"24px\">\n",
              "    <g>\n",
              "        <path d=\"M19 3H5c-1.1 0-2 .9-2 2v14c0 1.1.9 2 2 2h14c1.1 0 2-.9 2-2V5c0-1.1-.9-2-2-2zM9 17H7v-7h2v7zm4 0h-2V7h2v10zm4 0h-2v-4h2v4z\"/>\n",
              "    </g>\n",
              "</svg>\n",
              "  </button>\n",
              "\n",
              "<style>\n",
              "  .colab-df-quickchart {\n",
              "      --bg-color: #E8F0FE;\n",
              "      --fill-color: #1967D2;\n",
              "      --hover-bg-color: #E2EBFA;\n",
              "      --hover-fill-color: #174EA6;\n",
              "      --disabled-fill-color: #AAA;\n",
              "      --disabled-bg-color: #DDD;\n",
              "  }\n",
              "\n",
              "  [theme=dark] .colab-df-quickchart {\n",
              "      --bg-color: #3B4455;\n",
              "      --fill-color: #D2E3FC;\n",
              "      --hover-bg-color: #434B5C;\n",
              "      --hover-fill-color: #FFFFFF;\n",
              "      --disabled-bg-color: #3B4455;\n",
              "      --disabled-fill-color: #666;\n",
              "  }\n",
              "\n",
              "  .colab-df-quickchart {\n",
              "    background-color: var(--bg-color);\n",
              "    border: none;\n",
              "    border-radius: 50%;\n",
              "    cursor: pointer;\n",
              "    display: none;\n",
              "    fill: var(--fill-color);\n",
              "    height: 32px;\n",
              "    padding: 0;\n",
              "    width: 32px;\n",
              "  }\n",
              "\n",
              "  .colab-df-quickchart:hover {\n",
              "    background-color: var(--hover-bg-color);\n",
              "    box-shadow: 0 1px 2px rgba(60, 64, 67, 0.3), 0 1px 3px 1px rgba(60, 64, 67, 0.15);\n",
              "    fill: var(--button-hover-fill-color);\n",
              "  }\n",
              "\n",
              "  .colab-df-quickchart-complete:disabled,\n",
              "  .colab-df-quickchart-complete:disabled:hover {\n",
              "    background-color: var(--disabled-bg-color);\n",
              "    fill: var(--disabled-fill-color);\n",
              "    box-shadow: none;\n",
              "  }\n",
              "\n",
              "  .colab-df-spinner {\n",
              "    border: 2px solid var(--fill-color);\n",
              "    border-color: transparent;\n",
              "    border-bottom-color: var(--fill-color);\n",
              "    animation:\n",
              "      spin 1s steps(1) infinite;\n",
              "  }\n",
              "\n",
              "  @keyframes spin {\n",
              "    0% {\n",
              "      border-color: transparent;\n",
              "      border-bottom-color: var(--fill-color);\n",
              "      border-left-color: var(--fill-color);\n",
              "    }\n",
              "    20% {\n",
              "      border-color: transparent;\n",
              "      border-left-color: var(--fill-color);\n",
              "      border-top-color: var(--fill-color);\n",
              "    }\n",
              "    30% {\n",
              "      border-color: transparent;\n",
              "      border-left-color: var(--fill-color);\n",
              "      border-top-color: var(--fill-color);\n",
              "      border-right-color: var(--fill-color);\n",
              "    }\n",
              "    40% {\n",
              "      border-color: transparent;\n",
              "      border-right-color: var(--fill-color);\n",
              "      border-top-color: var(--fill-color);\n",
              "    }\n",
              "    60% {\n",
              "      border-color: transparent;\n",
              "      border-right-color: var(--fill-color);\n",
              "    }\n",
              "    80% {\n",
              "      border-color: transparent;\n",
              "      border-right-color: var(--fill-color);\n",
              "      border-bottom-color: var(--fill-color);\n",
              "    }\n",
              "    90% {\n",
              "      border-color: transparent;\n",
              "      border-bottom-color: var(--fill-color);\n",
              "    }\n",
              "  }\n",
              "</style>\n",
              "\n",
              "  <script>\n",
              "    async function quickchart(key) {\n",
              "      const quickchartButtonEl =\n",
              "        document.querySelector('#' + key + ' button');\n",
              "      quickchartButtonEl.disabled = true;  // To prevent multiple clicks.\n",
              "      quickchartButtonEl.classList.add('colab-df-spinner');\n",
              "      try {\n",
              "        const charts = await google.colab.kernel.invokeFunction(\n",
              "            'suggestCharts', [key], {});\n",
              "      } catch (error) {\n",
              "        console.error('Error during call to suggestCharts:', error);\n",
              "      }\n",
              "      quickchartButtonEl.classList.remove('colab-df-spinner');\n",
              "      quickchartButtonEl.classList.add('colab-df-quickchart-complete');\n",
              "    }\n",
              "    (() => {\n",
              "      let quickchartButtonEl =\n",
              "        document.querySelector('#df-67a6ed98-c217-414f-a757-ee240415901b button');\n",
              "      quickchartButtonEl.style.display =\n",
              "        google.colab.kernel.accessAllowed ? 'block' : 'none';\n",
              "    })();\n",
              "  </script>\n",
              "</div>\n",
              "\n",
              "    </div>\n",
              "  </div>\n"
            ],
            "application/vnd.google.colaboratory.intrinsic+json": {
              "type": "dataframe",
              "summary": "{\n  \"name\": \"xad_train\",\n  \"rows\": 5,\n  \"fields\": [\n    {\n      \"column\": \"Visitas\",\n      \"properties\": {\n        \"dtype\": \"number\",\n        \"std\": 8412,\n        \"min\": 4769,\n        \"max\": 25317,\n        \"num_unique_values\": 5,\n        \"samples\": [\n          4769,\n          25317,\n          7034\n        ],\n        \"semantic_type\": \"\",\n        \"description\": \"\"\n      }\n    },\n    {\n      \"column\": \"n_Periodista\",\n      \"properties\": {\n        \"dtype\": \"number\",\n        \"std\": 20,\n        \"min\": 3,\n        \"max\": 50,\n        \"num_unique_values\": 5,\n        \"samples\": [\n          36,\n          45,\n          3\n        ],\n        \"semantic_type\": \"\",\n        \"description\": \"\"\n      }\n    },\n    {\n      \"column\": \"n_Seccion\",\n      \"properties\": {\n        \"dtype\": \"number\",\n        \"std\": 1,\n        \"min\": 0,\n        \"max\": 4,\n        \"num_unique_values\": 4,\n        \"samples\": [\n          3,\n          0,\n          2\n        ],\n        \"semantic_type\": \"\",\n        \"description\": \"\"\n      }\n    },\n    {\n      \"column\": \"Hora_Publicacion\",\n      \"properties\": {\n        \"dtype\": \"number\",\n        \"std\": 5,\n        \"min\": 8,\n        \"max\": 20,\n        \"num_unique_values\": 4,\n        \"samples\": [\n          20,\n          8,\n          12\n        ],\n        \"semantic_type\": \"\",\n        \"description\": \"\"\n      }\n    }\n  ]\n}"
            }
          },
          "metadata": {},
          "execution_count": 45
        }
      ]
    },
    {
      "cell_type": "code",
      "source": [
        "# Cantidad de datos de entrenamiento\n",
        "xad_train.shape"
      ],
      "metadata": {
        "colab": {
          "base_uri": "https://localhost:8080/"
        },
        "id": "zSh1O2g76VYH",
        "outputId": "eb3fc76c-017d-4f4d-89c3-9288999a1823"
      },
      "execution_count": null,
      "outputs": [
        {
          "output_type": "execute_result",
          "data": {
            "text/plain": [
              "(13675, 4)"
            ]
          },
          "metadata": {},
          "execution_count": 46
        }
      ]
    },
    {
      "cell_type": "code",
      "source": [
        "# Modelado\n",
        "# ENTROPIA = Mide la impureza del conjunto de entrada.\n",
        "#            En física y matemáticas, la entropía se conoce como aleatoriedad o impureza en el sistema.\n",
        "#            En teoría de la información, se refiere a la impureza en un grupo de ejemplos.\n",
        "#            La ganancia de información es una disminución de la entropía.\n",
        "# GINI = El índice de Gini calcula la cantidad de probabilidad de que una característica específica se\n",
        "#        clasifique incorrectamente cuando se selecciona al azar.\n",
        "\n",
        "drugTree = DecisionTreeClassifier(criterion=\"entropy\", max_depth = 4)\n",
        "drugTree # muestra los parámetros por omisión"
      ],
      "metadata": {
        "colab": {
          "base_uri": "https://localhost:8080/",
          "height": 74
        },
        "id": "trlrArhz6Zjp",
        "outputId": "adfd8aab-8ba8-4b6f-b521-1fda31928eca"
      },
      "execution_count": null,
      "outputs": [
        {
          "output_type": "execute_result",
          "data": {
            "text/plain": [
              "DecisionTreeClassifier(criterion='entropy', max_depth=4)"
            ],
            "text/html": [
              "<style>#sk-container-id-1 {color: black;}#sk-container-id-1 pre{padding: 0;}#sk-container-id-1 div.sk-toggleable {background-color: white;}#sk-container-id-1 label.sk-toggleable__label {cursor: pointer;display: block;width: 100%;margin-bottom: 0;padding: 0.3em;box-sizing: border-box;text-align: center;}#sk-container-id-1 label.sk-toggleable__label-arrow:before {content: \"▸\";float: left;margin-right: 0.25em;color: #696969;}#sk-container-id-1 label.sk-toggleable__label-arrow:hover:before {color: black;}#sk-container-id-1 div.sk-estimator:hover label.sk-toggleable__label-arrow:before {color: black;}#sk-container-id-1 div.sk-toggleable__content {max-height: 0;max-width: 0;overflow: hidden;text-align: left;background-color: #f0f8ff;}#sk-container-id-1 div.sk-toggleable__content pre {margin: 0.2em;color: black;border-radius: 0.25em;background-color: #f0f8ff;}#sk-container-id-1 input.sk-toggleable__control:checked~div.sk-toggleable__content {max-height: 200px;max-width: 100%;overflow: auto;}#sk-container-id-1 input.sk-toggleable__control:checked~label.sk-toggleable__label-arrow:before {content: \"▾\";}#sk-container-id-1 div.sk-estimator input.sk-toggleable__control:checked~label.sk-toggleable__label {background-color: #d4ebff;}#sk-container-id-1 div.sk-label input.sk-toggleable__control:checked~label.sk-toggleable__label {background-color: #d4ebff;}#sk-container-id-1 input.sk-hidden--visually {border: 0;clip: rect(1px 1px 1px 1px);clip: rect(1px, 1px, 1px, 1px);height: 1px;margin: -1px;overflow: hidden;padding: 0;position: absolute;width: 1px;}#sk-container-id-1 div.sk-estimator {font-family: monospace;background-color: #f0f8ff;border: 1px dotted black;border-radius: 0.25em;box-sizing: border-box;margin-bottom: 0.5em;}#sk-container-id-1 div.sk-estimator:hover {background-color: #d4ebff;}#sk-container-id-1 div.sk-parallel-item::after {content: \"\";width: 100%;border-bottom: 1px solid gray;flex-grow: 1;}#sk-container-id-1 div.sk-label:hover label.sk-toggleable__label {background-color: #d4ebff;}#sk-container-id-1 div.sk-serial::before {content: \"\";position: absolute;border-left: 1px solid gray;box-sizing: border-box;top: 0;bottom: 0;left: 50%;z-index: 0;}#sk-container-id-1 div.sk-serial {display: flex;flex-direction: column;align-items: center;background-color: white;padding-right: 0.2em;padding-left: 0.2em;position: relative;}#sk-container-id-1 div.sk-item {position: relative;z-index: 1;}#sk-container-id-1 div.sk-parallel {display: flex;align-items: stretch;justify-content: center;background-color: white;position: relative;}#sk-container-id-1 div.sk-item::before, #sk-container-id-1 div.sk-parallel-item::before {content: \"\";position: absolute;border-left: 1px solid gray;box-sizing: border-box;top: 0;bottom: 0;left: 50%;z-index: -1;}#sk-container-id-1 div.sk-parallel-item {display: flex;flex-direction: column;z-index: 1;position: relative;background-color: white;}#sk-container-id-1 div.sk-parallel-item:first-child::after {align-self: flex-end;width: 50%;}#sk-container-id-1 div.sk-parallel-item:last-child::after {align-self: flex-start;width: 50%;}#sk-container-id-1 div.sk-parallel-item:only-child::after {width: 0;}#sk-container-id-1 div.sk-dashed-wrapped {border: 1px dashed gray;margin: 0 0.4em 0.5em 0.4em;box-sizing: border-box;padding-bottom: 0.4em;background-color: white;}#sk-container-id-1 div.sk-label label {font-family: monospace;font-weight: bold;display: inline-block;line-height: 1.2em;}#sk-container-id-1 div.sk-label-container {text-align: center;}#sk-container-id-1 div.sk-container {/* jupyter's `normalize.less` sets `[hidden] { display: none; }` but bootstrap.min.css set `[hidden] { display: none !important; }` so we also need the `!important` here to be able to override the default hidden behavior on the sphinx rendered scikit-learn.org. See: https://github.com/scikit-learn/scikit-learn/issues/21755 */display: inline-block !important;position: relative;}#sk-container-id-1 div.sk-text-repr-fallback {display: none;}</style><div id=\"sk-container-id-1\" class=\"sk-top-container\"><div class=\"sk-text-repr-fallback\"><pre>DecisionTreeClassifier(criterion=&#x27;entropy&#x27;, max_depth=4)</pre><b>In a Jupyter environment, please rerun this cell to show the HTML representation or trust the notebook. <br />On GitHub, the HTML representation is unable to render, please try loading this page with nbviewer.org.</b></div><div class=\"sk-container\" hidden><div class=\"sk-item\"><div class=\"sk-estimator sk-toggleable\"><input class=\"sk-toggleable__control sk-hidden--visually\" id=\"sk-estimator-id-1\" type=\"checkbox\" checked><label for=\"sk-estimator-id-1\" class=\"sk-toggleable__label sk-toggleable__label-arrow\">DecisionTreeClassifier</label><div class=\"sk-toggleable__content\"><pre>DecisionTreeClassifier(criterion=&#x27;entropy&#x27;, max_depth=4)</pre></div></div></div></div></div>"
            ]
          },
          "metadata": {},
          "execution_count": 47
        }
      ]
    },
    {
      "cell_type": "code",
      "source": [
        "# Entrenamiento\n",
        "drugTree.fit(xad_train, yad_train)"
      ],
      "metadata": {
        "colab": {
          "base_uri": "https://localhost:8080/",
          "height": 74
        },
        "id": "B7MkQs0c6cv6",
        "outputId": "d09c5bc4-d4a2-469b-9fa2-b50ce9ef0f25"
      },
      "execution_count": null,
      "outputs": [
        {
          "output_type": "execute_result",
          "data": {
            "text/plain": [
              "DecisionTreeClassifier(criterion='entropy', max_depth=4)"
            ],
            "text/html": [
              "<style>#sk-container-id-2 {color: black;}#sk-container-id-2 pre{padding: 0;}#sk-container-id-2 div.sk-toggleable {background-color: white;}#sk-container-id-2 label.sk-toggleable__label {cursor: pointer;display: block;width: 100%;margin-bottom: 0;padding: 0.3em;box-sizing: border-box;text-align: center;}#sk-container-id-2 label.sk-toggleable__label-arrow:before {content: \"▸\";float: left;margin-right: 0.25em;color: #696969;}#sk-container-id-2 label.sk-toggleable__label-arrow:hover:before {color: black;}#sk-container-id-2 div.sk-estimator:hover label.sk-toggleable__label-arrow:before {color: black;}#sk-container-id-2 div.sk-toggleable__content {max-height: 0;max-width: 0;overflow: hidden;text-align: left;background-color: #f0f8ff;}#sk-container-id-2 div.sk-toggleable__content pre {margin: 0.2em;color: black;border-radius: 0.25em;background-color: #f0f8ff;}#sk-container-id-2 input.sk-toggleable__control:checked~div.sk-toggleable__content {max-height: 200px;max-width: 100%;overflow: auto;}#sk-container-id-2 input.sk-toggleable__control:checked~label.sk-toggleable__label-arrow:before {content: \"▾\";}#sk-container-id-2 div.sk-estimator input.sk-toggleable__control:checked~label.sk-toggleable__label {background-color: #d4ebff;}#sk-container-id-2 div.sk-label input.sk-toggleable__control:checked~label.sk-toggleable__label {background-color: #d4ebff;}#sk-container-id-2 input.sk-hidden--visually {border: 0;clip: rect(1px 1px 1px 1px);clip: rect(1px, 1px, 1px, 1px);height: 1px;margin: -1px;overflow: hidden;padding: 0;position: absolute;width: 1px;}#sk-container-id-2 div.sk-estimator {font-family: monospace;background-color: #f0f8ff;border: 1px dotted black;border-radius: 0.25em;box-sizing: border-box;margin-bottom: 0.5em;}#sk-container-id-2 div.sk-estimator:hover {background-color: #d4ebff;}#sk-container-id-2 div.sk-parallel-item::after {content: \"\";width: 100%;border-bottom: 1px solid gray;flex-grow: 1;}#sk-container-id-2 div.sk-label:hover label.sk-toggleable__label {background-color: #d4ebff;}#sk-container-id-2 div.sk-serial::before {content: \"\";position: absolute;border-left: 1px solid gray;box-sizing: border-box;top: 0;bottom: 0;left: 50%;z-index: 0;}#sk-container-id-2 div.sk-serial {display: flex;flex-direction: column;align-items: center;background-color: white;padding-right: 0.2em;padding-left: 0.2em;position: relative;}#sk-container-id-2 div.sk-item {position: relative;z-index: 1;}#sk-container-id-2 div.sk-parallel {display: flex;align-items: stretch;justify-content: center;background-color: white;position: relative;}#sk-container-id-2 div.sk-item::before, #sk-container-id-2 div.sk-parallel-item::before {content: \"\";position: absolute;border-left: 1px solid gray;box-sizing: border-box;top: 0;bottom: 0;left: 50%;z-index: -1;}#sk-container-id-2 div.sk-parallel-item {display: flex;flex-direction: column;z-index: 1;position: relative;background-color: white;}#sk-container-id-2 div.sk-parallel-item:first-child::after {align-self: flex-end;width: 50%;}#sk-container-id-2 div.sk-parallel-item:last-child::after {align-self: flex-start;width: 50%;}#sk-container-id-2 div.sk-parallel-item:only-child::after {width: 0;}#sk-container-id-2 div.sk-dashed-wrapped {border: 1px dashed gray;margin: 0 0.4em 0.5em 0.4em;box-sizing: border-box;padding-bottom: 0.4em;background-color: white;}#sk-container-id-2 div.sk-label label {font-family: monospace;font-weight: bold;display: inline-block;line-height: 1.2em;}#sk-container-id-2 div.sk-label-container {text-align: center;}#sk-container-id-2 div.sk-container {/* jupyter's `normalize.less` sets `[hidden] { display: none; }` but bootstrap.min.css set `[hidden] { display: none !important; }` so we also need the `!important` here to be able to override the default hidden behavior on the sphinx rendered scikit-learn.org. See: https://github.com/scikit-learn/scikit-learn/issues/21755 */display: inline-block !important;position: relative;}#sk-container-id-2 div.sk-text-repr-fallback {display: none;}</style><div id=\"sk-container-id-2\" class=\"sk-top-container\"><div class=\"sk-text-repr-fallback\"><pre>DecisionTreeClassifier(criterion=&#x27;entropy&#x27;, max_depth=4)</pre><b>In a Jupyter environment, please rerun this cell to show the HTML representation or trust the notebook. <br />On GitHub, the HTML representation is unable to render, please try loading this page with nbviewer.org.</b></div><div class=\"sk-container\" hidden><div class=\"sk-item\"><div class=\"sk-estimator sk-toggleable\"><input class=\"sk-toggleable__control sk-hidden--visually\" id=\"sk-estimator-id-2\" type=\"checkbox\" checked><label for=\"sk-estimator-id-2\" class=\"sk-toggleable__label sk-toggleable__label-arrow\">DecisionTreeClassifier</label><div class=\"sk-toggleable__content\"><pre>DecisionTreeClassifier(criterion=&#x27;entropy&#x27;, max_depth=4)</pre></div></div></div></div></div>"
            ]
          },
          "metadata": {},
          "execution_count": 48
        }
      ]
    },
    {
      "cell_type": "code",
      "source": [
        "# Realizar predicciones en el conjunto de prueba\n",
        "predTree = drugTree.predict(xad_test)\n",
        "print (predTree [0:50])\n",
        "print (yad_test [0:10])"
      ],
      "metadata": {
        "colab": {
          "base_uri": "https://localhost:8080/"
        },
        "id": "YJqmF8UG6fAP",
        "outputId": "1a452a83-600d-432a-c39b-ae92e9175b26"
      },
      "execution_count": null,
      "outputs": [
        {
          "output_type": "stream",
          "name": "stdout",
          "text": [
            "[5 7 3 2 4 2 3 1 3 1 3 5 4 2 4 2 1 3 4 3 1 5 1 6 7 6 7 4 2 4 7 3 7 4 1 2 5\n",
            " 4 4 1 2 2 5 2 4 3 3 7 3 2]\n",
            "3740     5\n",
            "971      7\n",
            "9296     3\n",
            "12196    2\n",
            "7710     4\n",
            "14309    2\n",
            "10989    3\n",
            "15289    1\n",
            "11354    3\n",
            "15235    1\n",
            "Name: Cod_Impacto, dtype: int64\n"
          ]
        }
      ]
    },
    {
      "cell_type": "code",
      "source": [
        "# Evaluacion\n",
        "# Porcentaje de presición\n",
        "from sklearn import metrics\n",
        "import matplotlib.pyplot as plt\n",
        "\n",
        "print(\"Precisión del Arbol de Decisión: \", metrics.accuracy_score(yad_test, predTree))"
      ],
      "metadata": {
        "colab": {
          "base_uri": "https://localhost:8080/"
        },
        "id": "9S-PvRSB6jgj",
        "outputId": "114219c1-92cc-43ee-f53c-8c1b42776c58"
      },
      "execution_count": null,
      "outputs": [
        {
          "output_type": "stream",
          "name": "stdout",
          "text": [
            "Precisión del Arbol de Decisión:  1.0\n"
          ]
        }
      ]
    },
    {
      "cell_type": "code",
      "source": [
        "# Matriz de confusión\n",
        "# from sklearn.metrics import confusion_matrix\n",
        "\n",
        "conf_mat = confusion_matrix(yad_test, predTree)\n",
        "conf_mat"
      ],
      "metadata": {
        "colab": {
          "base_uri": "https://localhost:8080/"
        },
        "id": "ls0oew1Z6nPQ",
        "outputId": "d32c133a-dbd9-45d7-921f-60f99689b497"
      },
      "execution_count": null,
      "outputs": [
        {
          "output_type": "execute_result",
          "data": {
            "text/plain": [
              "array([[564,   0,   0,   0,   0,   0,   0],\n",
              "       [  0, 582,   0,   0,   0,   0,   0],\n",
              "       [  0,   0, 619,   0,   0,   0,   0],\n",
              "       [  0,   0,   0, 574,   0,   0,   0],\n",
              "       [  0,   0,   0,   0, 545,   0,   0],\n",
              "       [  0,   0,   0,   0,   0, 265,   0],\n",
              "       [  0,   0,   0,   0,   0,   0, 270]])"
            ]
          },
          "metadata": {},
          "execution_count": 51
        }
      ]
    },
    {
      "cell_type": "code",
      "source": [
        "# Reporte de Clasificación\n",
        "print(classification_report(yad_test, predTree))"
      ],
      "metadata": {
        "colab": {
          "base_uri": "https://localhost:8080/"
        },
        "id": "h5lbXr2M6rAl",
        "outputId": "02388a4f-6b00-4238-b881-0dcbfe528ed1"
      },
      "execution_count": null,
      "outputs": [
        {
          "output_type": "stream",
          "name": "stdout",
          "text": [
            "              precision    recall  f1-score   support\n",
            "\n",
            "           1       1.00      1.00      1.00       564\n",
            "           2       1.00      1.00      1.00       582\n",
            "           3       1.00      1.00      1.00       619\n",
            "           4       1.00      1.00      1.00       574\n",
            "           5       1.00      1.00      1.00       545\n",
            "           6       1.00      1.00      1.00       265\n",
            "           7       1.00      1.00      1.00       270\n",
            "\n",
            "    accuracy                           1.00      3419\n",
            "   macro avg       1.00      1.00      1.00      3419\n",
            "weighted avg       1.00      1.00      1.00      3419\n",
            "\n"
          ]
        }
      ]
    },
    {
      "cell_type": "code",
      "source": [
        "# Predecir un caso particular\n",
        "\n",
        "q = {'Visitas':[100000],\n",
        "     'n_Periodista':[6],\n",
        "     'n_Seccion':[2],\n",
        "        'Hora_Publicacion':[9]}\n",
        "\n",
        "\n",
        "# Create DataFrame\n",
        "x_new = pd.DataFrame(q)\n",
        "drugTree.predict(x_new)"
      ],
      "metadata": {
        "colab": {
          "base_uri": "https://localhost:8080/"
        },
        "id": "nTrUjdcz9LrC",
        "outputId": "4072bed3-8a28-4756-d078-25fa34c15540"
      },
      "execution_count": null,
      "outputs": [
        {
          "output_type": "execute_result",
          "data": {
            "text/plain": [
              "array([7])"
            ]
          },
          "metadata": {},
          "execution_count": 53
        }
      ]
    },
    {
      "cell_type": "code",
      "source": [
        "# Visualizar el árbol de decisión\n",
        "from sklearn import tree\n",
        "import graphviz\n",
        "\n",
        "plt.figure(figsize=(15, 7))\n",
        "plot_tree(drugTree, filled=True)\n",
        "plt.show()"
      ],
      "metadata": {
        "colab": {
          "base_uri": "https://localhost:8080/",
          "height": 576
        },
        "id": "HjsEoTlL9lAz",
        "outputId": "46a576de-16af-4461-a19e-649f825395d6"
      },
      "execution_count": null,
      "outputs": [
        {
          "output_type": "display_data",
          "data": {
            "text/plain": [
              "<Figure size 1500x700 with 1 Axes>"
            ],
            "image/png": "[encoded data removed]"
          },
          "metadata": {}
        }
      ]
    },
    {
      "cell_type": "code",
      "source": [
        "# Otra forma de graficar\n",
        "# DOT data\n",
        "dot_data = tree.export_graphviz(drugTree, out_file=None, filled=True)\n",
        "# Draw graph\n",
        "graph = graphviz.Source(dot_data, format=\"png\")\n",
        "graph"
      ],
      "metadata": {
        "colab": {
          "base_uri": "https://localhost:8080/",
          "height": 678
        },
        "id": "-u4ltD5k90cU",
        "outputId": "6532a9ca-9bed-4903-f0b2-cb88c51abb5f"
      },
      "execution_count": null,
      "outputs": [
        {
          "output_type": "execute_result",
          "data": {
            "image/svg+xml": "<?xml version=\"1.0\" encoding=\"UTF-8\" standalone=\"no\"?>\n<!DOCTYPE svg PUBLIC \"-//W3C//DTD SVG 1.1//EN\"\n \"http://www.w3.org/Graphics/SVG/1.1/DTD/svg11.dtd\">\n<!-- Generated by graphviz version 2.43.0 (0)\n -->\n<!-- Title: Tree Pages: 1 -->\n<svg width=\"1313pt\" height=\"477pt\"\n viewBox=\"0.00 0.00 1313.00 477.00\" xmlns=\"http://www.w3.org/2000/svg\" xmlns:xlink=\"http://www.w3.org/1999/xlink\">\n<g id=\"graph0\" class=\"graph\" transform=\"scale(1 1) rotate(0) translate(4 473)\">\n<title>Tree</title>\n<polygon fill=\"white\" stroke=\"transparent\" points=\"-4,4 -4,-473 1309,-473 1309,4 -4,4\"/>\n<!-- 0 -->\n<g id=\"node1\" class=\"node\">\n<title>0</title>\n<polygon fill=\"#fafefb\" stroke=\"black\" points=\"803.5,-469 476.5,-469 476.5,-401 803.5,-401 803.5,-469\"/>\n<text text-anchor=\"middle\" x=\"640\" y=\"-453.8\" font-family=\"Helvetica,sans-Serif\" font-size=\"14.00\">x[0] &lt;= 10001.0</text>\n<text text-anchor=\"middle\" x=\"640\" y=\"-438.8\" font-family=\"Helvetica,sans-Serif\" font-size=\"14.00\">entropy = 2.732</text>\n<text text-anchor=\"middle\" x=\"640\" y=\"-423.8\" font-family=\"Helvetica,sans-Serif\" font-size=\"14.00\">samples = 13675</text>\n<text text-anchor=\"middle\" x=\"640\" y=\"-408.8\" font-family=\"Helvetica,sans-Serif\" font-size=\"14.00\">value = [2019, 2347, 2618, 2258, 2350, 1028, 1055]</text>\n</g>\n<!-- 1 -->\n<g id=\"node2\" class=\"node\">\n<title>1</title>\n<polygon fill=\"#f3fdf5\" stroke=\"black\" points=\"625.5,-365 388.5,-365 388.5,-297 625.5,-297 625.5,-365\"/>\n<text text-anchor=\"middle\" x=\"507\" y=\"-349.8\" font-family=\"Helvetica,sans-Serif\" font-size=\"14.00\">x[0] &lt;= 5000.0</text>\n<text text-anchor=\"middle\" x=\"507\" y=\"-334.8\" font-family=\"Helvetica,sans-Serif\" font-size=\"14.00\">entropy = 1.577</text>\n<text text-anchor=\"middle\" x=\"507\" y=\"-319.8\" font-family=\"Helvetica,sans-Serif\" font-size=\"14.00\">samples = 6984</text>\n<text text-anchor=\"middle\" x=\"507\" y=\"-304.8\" font-family=\"Helvetica,sans-Serif\" font-size=\"14.00\">value = [2019, 2347, 2618, 0, 0, 0, 0]</text>\n</g>\n<!-- 0&#45;&gt;1 -->\n<g id=\"edge1\" class=\"edge\">\n<title>0&#45;&gt;1</title>\n<path fill=\"none\" stroke=\"black\" d=\"M596.82,-400.88C584.62,-391.53 571.23,-381.26 558.59,-371.57\"/>\n<polygon fill=\"black\" stroke=\"black\" points=\"560.48,-368.61 550.42,-365.3 556.22,-374.16 560.48,-368.61\"/>\n<text text-anchor=\"middle\" x=\"553.69\" y=\"-386.38\" font-family=\"Helvetica,sans-Serif\" font-size=\"14.00\">True</text>\n</g>\n<!-- 8 -->\n<g id=\"node9\" class=\"node\">\n<title>8</title>\n<polygon fill=\"#fbfbfe\" stroke=\"black\" points=\"904,-365 644,-365 644,-297 904,-297 904,-365\"/>\n<text text-anchor=\"middle\" x=\"774\" y=\"-349.8\" font-family=\"Helvetica,sans-Serif\" font-size=\"14.00\">x[0] &lt;= 20000.0</text>\n<text text-anchor=\"middle\" x=\"774\" y=\"-334.8\" font-family=\"Helvetica,sans-Serif\" font-size=\"14.00\">entropy = 1.894</text>\n<text text-anchor=\"middle\" x=\"774\" y=\"-319.8\" font-family=\"Helvetica,sans-Serif\" font-size=\"14.00\">samples = 6691</text>\n<text text-anchor=\"middle\" x=\"774\" y=\"-304.8\" font-family=\"Helvetica,sans-Serif\" font-size=\"14.00\">value = [0, 0, 0, 2258, 2350, 1028, 1055]</text>\n</g>\n<!-- 0&#45;&gt;8 -->\n<g id=\"edge8\" class=\"edge\">\n<title>0&#45;&gt;8</title>\n<path fill=\"none\" stroke=\"black\" d=\"M683.51,-400.88C695.79,-391.53 709.29,-381.26 722.02,-371.57\"/>\n<polygon fill=\"black\" stroke=\"black\" points=\"724.42,-374.14 730.25,-365.3 720.18,-368.57 724.42,-374.14\"/>\n<text text-anchor=\"middle\" x=\"726.89\" y=\"-386.37\" font-family=\"Helvetica,sans-Serif\" font-size=\"14.00\">False</text>\n</g>\n<!-- 2 -->\n<g id=\"node3\" class=\"node\">\n<title>2</title>\n<polygon fill=\"#f5fbe3\" stroke=\"black\" points=\"407.5,-261 192.5,-261 192.5,-193 407.5,-193 407.5,-261\"/>\n<text text-anchor=\"middle\" x=\"300\" y=\"-245.8\" font-family=\"Helvetica,sans-Serif\" font-size=\"14.00\">x[0] &lt;= 1002.0</text>\n<text text-anchor=\"middle\" x=\"300\" y=\"-230.8\" font-family=\"Helvetica,sans-Serif\" font-size=\"14.00\">entropy = 0.996</text>\n<text text-anchor=\"middle\" x=\"300\" y=\"-215.8\" font-family=\"Helvetica,sans-Serif\" font-size=\"14.00\">samples = 4366</text>\n<text text-anchor=\"middle\" x=\"300\" y=\"-200.8\" font-family=\"Helvetica,sans-Serif\" font-size=\"14.00\">value = [2019, 2347, 0, 0, 0, 0, 0]</text>\n</g>\n<!-- 1&#45;&gt;2 -->\n<g id=\"edge2\" class=\"edge\">\n<title>1&#45;&gt;2</title>\n<path fill=\"none\" stroke=\"black\" d=\"M439.79,-296.88C419.53,-286.9 397.15,-275.87 376.35,-265.62\"/>\n<polygon fill=\"black\" stroke=\"black\" points=\"377.74,-262.41 367.22,-261.12 374.65,-268.68 377.74,-262.41\"/>\n</g>\n<!-- 7 -->\n<g id=\"node8\" class=\"node\">\n<title>7</title>\n<polygon fill=\"#39e54d\" stroke=\"black\" points=\"618,-253.5 426,-253.5 426,-200.5 618,-200.5 618,-253.5\"/>\n<text text-anchor=\"middle\" x=\"522\" y=\"-238.3\" font-family=\"Helvetica,sans-Serif\" font-size=\"14.00\">entropy = 0.0</text>\n<text text-anchor=\"middle\" x=\"522\" y=\"-223.3\" font-family=\"Helvetica,sans-Serif\" font-size=\"14.00\">samples = 2618</text>\n<text text-anchor=\"middle\" x=\"522\" y=\"-208.3\" font-family=\"Helvetica,sans-Serif\" font-size=\"14.00\">value = [0, 0, 2618, 0, 0, 0, 0]</text>\n</g>\n<!-- 1&#45;&gt;7 -->\n<g id=\"edge7\" class=\"edge\">\n<title>1&#45;&gt;7</title>\n<path fill=\"none\" stroke=\"black\" d=\"M511.87,-296.88C513.44,-286.22 515.18,-274.35 516.78,-263.52\"/>\n<polygon fill=\"black\" stroke=\"black\" points=\"520.25,-263.92 518.25,-253.52 513.33,-262.9 520.25,-263.92\"/>\n</g>\n<!-- 3 -->\n<g id=\"node4\" class=\"node\">\n<title>3</title>\n<polygon fill=\"#e58139\" stroke=\"black\" points=\"291,-157 99,-157 99,-89 291,-89 291,-157\"/>\n<text text-anchor=\"middle\" x=\"195\" y=\"-141.8\" font-family=\"Helvetica,sans-Serif\" font-size=\"14.00\">x[0] &lt;= 999.5</text>\n<text text-anchor=\"middle\" x=\"195\" y=\"-126.8\" font-family=\"Helvetica,sans-Serif\" font-size=\"14.00\">entropy = 0.006</text>\n<text text-anchor=\"middle\" x=\"195\" y=\"-111.8\" font-family=\"Helvetica,sans-Serif\" font-size=\"14.00\">samples = 2020</text>\n<text text-anchor=\"middle\" x=\"195\" y=\"-96.8\" font-family=\"Helvetica,sans-Serif\" font-size=\"14.00\">value = [2019, 1, 0, 0, 0, 0, 0]</text>\n</g>\n<!-- 2&#45;&gt;3 -->\n<g id=\"edge3\" class=\"edge\">\n<title>2&#45;&gt;3</title>\n<path fill=\"none\" stroke=\"black\" d=\"M265.91,-192.88C256.56,-183.8 246.31,-173.85 236.59,-164.4\"/>\n<polygon fill=\"black\" stroke=\"black\" points=\"238.89,-161.76 229.28,-157.3 234.01,-166.78 238.89,-161.76\"/>\n</g>\n<!-- 6 -->\n<g id=\"node7\" class=\"node\">\n<title>6</title>\n<polygon fill=\"#b7e539\" stroke=\"black\" points=\"501,-149.5 309,-149.5 309,-96.5 501,-96.5 501,-149.5\"/>\n<text text-anchor=\"middle\" x=\"405\" y=\"-134.3\" font-family=\"Helvetica,sans-Serif\" font-size=\"14.00\">entropy = 0.0</text>\n<text text-anchor=\"middle\" x=\"405\" y=\"-119.3\" font-family=\"Helvetica,sans-Serif\" font-size=\"14.00\">samples = 2346</text>\n<text text-anchor=\"middle\" x=\"405\" y=\"-104.3\" font-family=\"Helvetica,sans-Serif\" font-size=\"14.00\">value = [0, 2346, 0, 0, 0, 0, 0]</text>\n</g>\n<!-- 2&#45;&gt;6 -->\n<g id=\"edge6\" class=\"edge\">\n<title>2&#45;&gt;6</title>\n<path fill=\"none\" stroke=\"black\" d=\"M334.09,-192.88C346.09,-181.23 359.56,-168.14 371.51,-156.53\"/>\n<polygon fill=\"black\" stroke=\"black\" points=\"374,-159 378.73,-149.52 369.12,-153.98 374,-159\"/>\n</g>\n<!-- 4 -->\n<g id=\"node5\" class=\"node\">\n<title>4</title>\n<polygon fill=\"#e58139\" stroke=\"black\" points=\"192,-53 0,-53 0,0 192,0 192,-53\"/>\n<text text-anchor=\"middle\" x=\"96\" y=\"-37.8\" font-family=\"Helvetica,sans-Serif\" font-size=\"14.00\">entropy = 0.0</text>\n<text text-anchor=\"middle\" x=\"96\" y=\"-22.8\" font-family=\"Helvetica,sans-Serif\" font-size=\"14.00\">samples = 2017</text>\n<text text-anchor=\"middle\" x=\"96\" y=\"-7.8\" font-family=\"Helvetica,sans-Serif\" font-size=\"14.00\">value = [2017, 0, 0, 0, 0, 0, 0]</text>\n</g>\n<!-- 3&#45;&gt;4 -->\n<g id=\"edge4\" class=\"edge\">\n<title>3&#45;&gt;4</title>\n<path fill=\"none\" stroke=\"black\" d=\"M160.37,-88.95C150.6,-79.62 139.97,-69.47 130.22,-60.16\"/>\n<polygon fill=\"black\" stroke=\"black\" points=\"132.61,-57.61 122.96,-53.24 127.78,-62.67 132.61,-57.61\"/>\n</g>\n<!-- 5 -->\n<g id=\"node6\" class=\"node\">\n<title>5</title>\n<polygon fill=\"#f2c09c\" stroke=\"black\" points=\"380,-53 210,-53 210,0 380,0 380,-53\"/>\n<text text-anchor=\"middle\" x=\"295\" y=\"-37.8\" font-family=\"Helvetica,sans-Serif\" font-size=\"14.00\">entropy = 0.918</text>\n<text text-anchor=\"middle\" x=\"295\" y=\"-22.8\" font-family=\"Helvetica,sans-Serif\" font-size=\"14.00\">samples = 3</text>\n<text text-anchor=\"middle\" x=\"295\" y=\"-7.8\" font-family=\"Helvetica,sans-Serif\" font-size=\"14.00\">value = [2, 1, 0, 0, 0, 0, 0]</text>\n</g>\n<!-- 3&#45;&gt;5 -->\n<g id=\"edge5\" class=\"edge\">\n<title>3&#45;&gt;5</title>\n<path fill=\"none\" stroke=\"black\" d=\"M229.98,-88.95C239.85,-79.62 250.59,-69.47 260.43,-60.16\"/>\n<polygon fill=\"black\" stroke=\"black\" points=\"262.9,-62.65 267.77,-53.24 258.09,-57.56 262.9,-62.65\"/>\n</g>\n<!-- 9 -->\n<g id=\"node10\" class=\"node\">\n<title>9</title>\n<polygon fill=\"#39e5e2\" stroke=\"black\" points=\"856,-253.5 664,-253.5 664,-200.5 856,-200.5 856,-253.5\"/>\n<text text-anchor=\"middle\" x=\"760\" y=\"-238.3\" font-family=\"Helvetica,sans-Serif\" font-size=\"14.00\">entropy = 0.0</text>\n<text text-anchor=\"middle\" x=\"760\" y=\"-223.3\" font-family=\"Helvetica,sans-Serif\" font-size=\"14.00\">samples = 2258</text>\n<text text-anchor=\"middle\" x=\"760\" y=\"-208.3\" font-family=\"Helvetica,sans-Serif\" font-size=\"14.00\">value = [0, 0, 0, 2258, 0, 0, 0]</text>\n</g>\n<!-- 8&#45;&gt;9 -->\n<g id=\"edge9\" class=\"edge\">\n<title>8&#45;&gt;9</title>\n<path fill=\"none\" stroke=\"black\" d=\"M769.45,-296.88C767.99,-286.22 766.36,-274.35 764.88,-263.52\"/>\n<polygon fill=\"black\" stroke=\"black\" points=\"768.33,-262.95 763.5,-253.52 761.4,-263.9 768.33,-262.95\"/>\n</g>\n<!-- 10 -->\n<g id=\"node11\" class=\"node\">\n<title>10</title>\n<polygon fill=\"#b3bef5\" stroke=\"black\" points=\"1111.5,-261 874.5,-261 874.5,-193 1111.5,-193 1111.5,-261\"/>\n<text text-anchor=\"middle\" x=\"993\" y=\"-245.8\" font-family=\"Helvetica,sans-Serif\" font-size=\"14.00\">x[0] &lt;= 30001.5</text>\n<text text-anchor=\"middle\" x=\"993\" y=\"-230.8\" font-family=\"Helvetica,sans-Serif\" font-size=\"14.00\">entropy = 1.467</text>\n<text text-anchor=\"middle\" x=\"993\" y=\"-215.8\" font-family=\"Helvetica,sans-Serif\" font-size=\"14.00\">samples = 4433</text>\n<text text-anchor=\"middle\" x=\"993\" y=\"-200.8\" font-family=\"Helvetica,sans-Serif\" font-size=\"14.00\">value = [0, 0, 0, 0, 2350, 1028, 1055]</text>\n</g>\n<!-- 8&#45;&gt;10 -->\n<g id=\"edge10\" class=\"edge\">\n<title>8&#45;&gt;10</title>\n<path fill=\"none\" stroke=\"black\" d=\"M845.1,-296.88C866.63,-286.86 890.43,-275.77 912.52,-265.48\"/>\n<polygon fill=\"black\" stroke=\"black\" points=\"914.29,-268.52 921.88,-261.12 911.34,-262.17 914.29,-268.52\"/>\n</g>\n<!-- 11 -->\n<g id=\"node12\" class=\"node\">\n<title>11</title>\n<polygon fill=\"#3956e5\" stroke=\"black\" points=\"978,-149.5 786,-149.5 786,-96.5 978,-96.5 978,-149.5\"/>\n<text text-anchor=\"middle\" x=\"882\" y=\"-134.3\" font-family=\"Helvetica,sans-Serif\" font-size=\"14.00\">entropy = 0.0</text>\n<text text-anchor=\"middle\" x=\"882\" y=\"-119.3\" font-family=\"Helvetica,sans-Serif\" font-size=\"14.00\">samples = 2350</text>\n<text text-anchor=\"middle\" x=\"882\" y=\"-104.3\" font-family=\"Helvetica,sans-Serif\" font-size=\"14.00\">value = [0, 0, 0, 0, 2350, 0, 0]</text>\n</g>\n<!-- 10&#45;&gt;11 -->\n<g id=\"edge11\" class=\"edge\">\n<title>10&#45;&gt;11</title>\n<path fill=\"none\" stroke=\"black\" d=\"M956.96,-192.88C944.28,-181.23 930.04,-168.14 917.4,-156.53\"/>\n<polygon fill=\"black\" stroke=\"black\" points=\"919.5,-153.71 909.77,-149.52 914.77,-158.86 919.5,-153.71\"/>\n</g>\n<!-- 12 -->\n<g id=\"node13\" class=\"node\">\n<title>12</title>\n<polygon fill=\"#fefafc\" stroke=\"black\" points=\"1211.5,-157 996.5,-157 996.5,-89 1211.5,-89 1211.5,-157\"/>\n<text text-anchor=\"middle\" x=\"1104\" y=\"-141.8\" font-family=\"Helvetica,sans-Serif\" font-size=\"14.00\">x[0] &lt;= 49526.5</text>\n<text text-anchor=\"middle\" x=\"1104\" y=\"-126.8\" font-family=\"Helvetica,sans-Serif\" font-size=\"14.00\">entropy = 1.0</text>\n<text text-anchor=\"middle\" x=\"1104\" y=\"-111.8\" font-family=\"Helvetica,sans-Serif\" font-size=\"14.00\">samples = 2083</text>\n<text text-anchor=\"middle\" x=\"1104\" y=\"-96.8\" font-family=\"Helvetica,sans-Serif\" font-size=\"14.00\">value = [0, 0, 0, 0, 0, 1028, 1055]</text>\n</g>\n<!-- 10&#45;&gt;12 -->\n<g id=\"edge12\" class=\"edge\">\n<title>10&#45;&gt;12</title>\n<path fill=\"none\" stroke=\"black\" d=\"M1029.04,-192.88C1039.02,-183.71 1049.97,-173.65 1060.34,-164.12\"/>\n<polygon fill=\"black\" stroke=\"black\" points=\"1062.77,-166.64 1067.76,-157.3 1058.03,-161.49 1062.77,-166.64\"/>\n</g>\n<!-- 13 -->\n<g id=\"node14\" class=\"node\">\n<title>13</title>\n<polygon fill=\"#b139e5\" stroke=\"black\" points=\"1095,-53 903,-53 903,0 1095,0 1095,-53\"/>\n<text text-anchor=\"middle\" x=\"999\" y=\"-37.8\" font-family=\"Helvetica,sans-Serif\" font-size=\"14.00\">entropy = 0.0</text>\n<text text-anchor=\"middle\" x=\"999\" y=\"-22.8\" font-family=\"Helvetica,sans-Serif\" font-size=\"14.00\">samples = 1028</text>\n<text text-anchor=\"middle\" x=\"999\" y=\"-7.8\" font-family=\"Helvetica,sans-Serif\" font-size=\"14.00\">value = [0, 0, 0, 0, 0, 1028, 0]</text>\n</g>\n<!-- 12&#45;&gt;13 -->\n<g id=\"edge13\" class=\"edge\">\n<title>12&#45;&gt;13</title>\n<path fill=\"none\" stroke=\"black\" d=\"M1067.28,-88.95C1056.91,-79.62 1045.64,-69.47 1035.29,-60.16\"/>\n<polygon fill=\"black\" stroke=\"black\" points=\"1037.37,-57.32 1027.6,-53.24 1032.69,-62.53 1037.37,-57.32\"/>\n</g>\n<!-- 14 -->\n<g id=\"node15\" class=\"node\">\n<title>14</title>\n<polygon fill=\"#e53986\" stroke=\"black\" points=\"1305,-53 1113,-53 1113,0 1305,0 1305,-53\"/>\n<text text-anchor=\"middle\" x=\"1209\" y=\"-37.8\" font-family=\"Helvetica,sans-Serif\" font-size=\"14.00\">entropy = 0.0</text>\n<text text-anchor=\"middle\" x=\"1209\" y=\"-22.8\" font-family=\"Helvetica,sans-Serif\" font-size=\"14.00\">samples = 1055</text>\n<text text-anchor=\"middle\" x=\"1209\" y=\"-7.8\" font-family=\"Helvetica,sans-Serif\" font-size=\"14.00\">value = [0, 0, 0, 0, 0, 0, 1055]</text>\n</g>\n<!-- 12&#45;&gt;14 -->\n<g id=\"edge14\" class=\"edge\">\n<title>12&#45;&gt;14</title>\n<path fill=\"none\" stroke=\"black\" d=\"M1140.72,-88.95C1151.09,-79.62 1162.36,-69.47 1172.71,-60.16\"/>\n<polygon fill=\"black\" stroke=\"black\" points=\"1175.31,-62.53 1180.4,-53.24 1170.63,-57.32 1175.31,-62.53\"/>\n</g>\n</g>\n</svg>\n",
            "text/plain": [
              "<graphviz.sources.Source at 0x7c31c57ca920>"
            ]
          },
          "metadata": {},
          "execution_count": 55
        }
      ]
    },
    {
      "cell_type": "markdown",
      "source": [
        "# 5. EVALUACIÓN"
      ],
      "metadata": {
        "id": "XviqxC2UZZHQ"
      }
    },
    {
      "cell_type": "code",
      "source": [
        "print(':: REGRESION LOGISTICA\\n')\n",
        "print(classification_report(y_test, pred))\n",
        "print(\"% de presicion de Regresión :\", metrics.accuracy_score(y_test, pred))\n",
        "print(\"-----------------------------------------------------\\n\")\n",
        "print(':: ARBOL DE DESICIONES\\n')\n",
        "print(classification_report(yad_test, predTree))\n",
        "print(\"% de precisión del Arbol de Decisión: \", metrics.accuracy_score(yad_test, predTree))"
      ],
      "metadata": {
        "colab": {
          "base_uri": "https://localhost:8080/"
        },
        "id": "vZbGmb_V40A3",
        "outputId": "694c7f2a-949a-4104-c8ce-36639e5f4bae"
      },
      "execution_count": null,
      "outputs": [
        {
          "output_type": "stream",
          "name": "stdout",
          "text": [
            ":: REGRESION LOGISTICA\n",
            "\n",
            "              precision    recall  f1-score   support\n",
            "\n",
            "           1       0.91      1.00      0.95       789\n",
            "           2       1.00      0.84      0.91       894\n",
            "           3       0.88      1.00      0.94       960\n",
            "           4       1.00      0.89      0.94       897\n",
            "           5       0.92      1.00      0.96       809\n",
            "           6       0.97      0.90      0.93       384\n",
            "           7       1.00      0.97      0.99       396\n",
            "\n",
            "    accuracy                           0.94      5129\n",
            "   macro avg       0.95      0.94      0.95      5129\n",
            "weighted avg       0.95      0.94      0.94      5129\n",
            "\n",
            "% de presicion de Regresión : 0.9426788847728602\n",
            "-----------------------------------------------------\n",
            "\n",
            ":: ARBOL DE DESICIONES\n",
            "\n",
            "              precision    recall  f1-score   support\n",
            "\n",
            "           1       1.00      1.00      1.00       564\n",
            "           2       1.00      1.00      1.00       582\n",
            "           3       1.00      1.00      1.00       619\n",
            "           4       1.00      1.00      1.00       574\n",
            "           5       1.00      1.00      1.00       545\n",
            "           6       1.00      1.00      1.00       265\n",
            "           7       1.00      1.00      1.00       270\n",
            "\n",
            "    accuracy                           1.00      3419\n",
            "   macro avg       1.00      1.00      1.00      3419\n",
            "weighted avg       1.00      1.00      1.00      3419\n",
            "\n",
            "% de precisión del Arbol de Decisión:  1.0\n"
          ]
        }
      ]
    },
    {
      "cell_type": "markdown",
      "source": [
        "## 5.1 Evaluación y Comparación de Algoritmos mediante la curva de ROC"
      ],
      "metadata": {
        "id": "YqKNflDO-Cj4"
      }
    },
    {
      "cell_type": "code",
      "source": [
        "from sklearn.metrics import roc_curve, auc\n",
        "import matplotlib.pyplot as plt\n",
        "from sklearn.preprocessing import label_binarize\n",
        "from sklearn.multiclass import OneVsRestClassifier\n",
        "\n",
        "def area_bajo_curva(clfs, nombres): # lista de clasificadores a graficar\n",
        "  \"\"\"\n",
        "  Vamos a graficar el area bajo la curva (area under the curve - AUC) de la Característica Operativa del Receptor COR\n",
        "  mejor conocido como ROC en ingles.\n",
        "  la curva ROC nos permite ver el desempeño de la clasificacion de muestro modelo con diferentes umbrales de decision (por defecto se usa 0.5)\n",
        "  \"\"\"\n",
        "  # Binarize the output\n",
        "  y_test_bin = label_binarize(y_test, classes=np.unique(y_test))\n",
        "  n_classes = y_test_bin.shape[1]\n",
        "\n",
        "  fpr = dict()\n",
        "  tpr = dict()\n",
        "  roc_auc = dict()\n",
        "\n",
        "  plt.figure(figsize=(20,10))\n",
        "  lw = 2\n",
        "  plt.plot([0, 1], [0, 1], color='navy', lw=lw, linestyle='--', label='Base')\n",
        "  plt.xlim([0.0, 1.0])\n",
        "  plt.ylim([0.0, 1.05])\n",
        "  plt.xlabel('Proporcion de Falsos Positivos')\n",
        "  plt.ylabel('Proporcion de Verdaderos Positivos')\n",
        "  plt.title('ROC ejemplo')\n",
        "\n",
        "  for i, clf in enumerate(clfs):\n",
        "    classifier = OneVsRestClassifier(clf)\n",
        "    y_score = classifier.fit(x_train, y_train).predict_proba(x_test)\n",
        "\n",
        "    # Compute ROC curve and ROC area for each class\n",
        "    for j in range(n_classes):\n",
        "        fpr[j], tpr[j], _ = roc_curve(y_test_bin[:, j], y_score[:, j])\n",
        "        roc_auc[j] = auc(fpr[j], tpr[j])\n",
        "\n",
        "    # Compute micro-average ROC curve and ROC area\n",
        "    fpr[\"micro\"], tpr[\"micro\"], _ = roc_curve(y_test_bin.ravel(), y_score.ravel())\n",
        "    roc_auc[\"micro\"] = auc(fpr[\"micro\"], tpr[\"micro\"])\n",
        "\n",
        "    plt.plot(fpr[\"micro\"], tpr[\"micro\"], label='ROC %s (area = %0.2f)' % (nombres[i], roc_auc[\"micro\"]))\n",
        "\n",
        "  plt.legend(loc=\"lower right\")"
      ],
      "metadata": {
        "id": "IVCI2wuv6Le6"
      },
      "execution_count": null,
      "outputs": []
    },
    {
      "cell_type": "code",
      "source": [
        "area_bajo_curva([reg, drugTree], ['Reg. Logistica', 'Arbol de Desic.'])"
      ],
      "metadata": {
        "colab": {
          "base_uri": "https://localhost:8080/",
          "height": 757
        },
        "id": "Z5yHfJct-QZb",
        "outputId": "e5dce9b9-8a60-4c09-d365-7cd0070815b6"
      },
      "execution_count": null,
      "outputs": [
        {
          "output_type": "display_data",
          "data": {
            "text/plain": [
              "<Figure size 2000x1000 with 1 Axes>"
            ],
            "image/png": "[encoded data removed]"
          },
          "metadata": {}
        }
      ]
    },
    {
      "cell_type": "markdown",
      "source": [
        "La curva AUC-ROC representa la tasa de verdaderos positivos (True Positive Rate, TPR) frente a la tasa de falsos positivos (False Positive Rate, FPR) para diferentes umbrales de clasificación.\n",
        "\n",
        "La línea punteada en la gráfica representa el rendimiento esperado al azar (un clasificador inútil), y el área bajo la curva (AUC) mide el rendimiento del clasificador. Un valor de AUC cercano a 1 indica un buen clasificador, mientras que un valor cercano a 0.5 indica un clasificador que es comparable a la clasificación aleatoria."
      ],
      "metadata": {
        "id": "jMykNOb9--WO"
      }
    },
    {
      "cell_type": "markdown",
      "source": [
        "# 6. IMPLEMENTACIÓN"
      ],
      "metadata": {
        "id": "jjdjrkOxZdSR"
      }
    },
    {
      "cell_type": "markdown",
      "source": [
        "**FALTA !!!**\n",
        "Para proceder con la implementación, primero se debe hacer una retroalimentacion de los resultado obtenido segun la estimacion de presición de cada algoritmo y mejorar el modelado esto dependera de analizar otra vez el conjunto de datos que se tiene que elegir nuevamente las variables dindependientes y mediante algoritmos de optimizacion mejorar el porcentaje de estimación.\n",
        "\n",
        "Posteriormente se puede desarrollar una interface que me permita ingresar los datos de un cliente como ser su perfil bancario y poder estimar si comprará un Certificado de Depósito, esta herramienta seria muy util a la hora de contactarse con un cliente que acude al banco."
      ],
      "metadata": {
        "id": "8qKh6xpy_Gc1"
      }
    },
    {
      "cell_type": "markdown",
      "source": [
        "# 7. CONCLUSIONES"
      ],
      "metadata": {
        "id": "uzu-J6BRZfx4"
      }
    },
    {
      "cell_type": "markdown",
      "source": [
        "**Falta**!!\n",
        "Entre las conclusiones se tienen las sigueintes apresiaciones:\n",
        "\n",
        "En este proyecto, se construyo un modelo de clasificador mediante los algoritmos de progresión logística, y árbol de decisiones para predecir si un cliente del banco opta por comprar un certificado de depósito.\n",
        "El modelo de regresión logística, produce un rendimiento del 88% según sus métodos de evaluación de precisión, y el modelado con el algoritmo de árbol de decisiones con una presicion del 88% también.\n",
        "la seguridad del automóvil. Construyo dos modelos, uno con criterio índice de Gini y otro con criterio entropía. El modelo produce un rendimiento muy bueno como lo indica la precisión del modelo en ambos casos, que resultó ser 0,8021.\n",
        "En ambos casos, la puntuación de precisión del conjunto de entrenamiento y del conjunto de prueba es la misma. 70% de entrenamiento y 30% de testeo.\n",
        "La matriz de confusión y el informe de clasificación producen un rendimiento de modelo bueno.\n",
        "En ambos casos se pueden hacer predicciones utilizando los modelos datos ciertos parámetros esto es muy útil a la hora de entrevistarse con un cliente y ofrecerle un producto.\n",
        "Según el método de evaluación mediante la curva de ROC, el mejor modelo de predicción es de regresión logística.\n",
        "Según la curva de ROC se debe volver a revisar las variables independientes y mejorar el proceso de modelaje para la clasificación de datos y su posterior predicción."
      ],
      "metadata": {
        "id": "3usyJ6UT_MXq"
      }
    },
    {
      "cell_type": "markdown",
      "source": [
        "# TRABAJO EN CLASE\n",
        "# Modelos de clasificacion"
      ],
      "metadata": {
        "id": "LG8xSd6ryOp5"
      }
    },
    {
      "cell_type": "markdown",
      "source": [
        "x = df_digital[['Visitas', 'n_Periodista','n_Seccion','Hora_Publicacion']]\n",
        "\n",
        "y = df_digital['Cod_Impacto']"
      ],
      "metadata": {
        "id": "bHlaBVQbz-6y"
      }
    },
    {
      "cell_type": "code",
      "source": [
        "#from sklearn.datasets import load_breast_cancer\n",
        "from sklearn.model_selection import train_test_split\n",
        "\n",
        "#data = load_breast_cancer()\n",
        "#X, y = d.data, data.target\n",
        "\n",
        "\n",
        "X = df_digital[['Visitas', 'n_Periodista','n_Seccion','Hora_Publicacion']]\n",
        "y = df_digital['Cod_Impacto']\n",
        "#Etiqueta = df_digital['Impacto']\n",
        "Etiqueta = y\n",
        "\n",
        "print(\"Objetivos:\",Etiqueta)\n",
        "print(\"Dimension de X:\", X.shape)\n",
        "print(\"Dimension de Y:\", y.shape)"
      ],
      "metadata": {
        "colab": {
          "base_uri": "https://localhost:8080/"
        },
        "id": "6-QhJPisyN4P",
        "outputId": "b6b8dd18-e807-4925-c35a-c39f1238e37e"
      },
      "execution_count": null,
      "outputs": [
        {
          "output_type": "stream",
          "name": "stdout",
          "text": [
            "Objetivos: 0        7\n",
            "1        7\n",
            "2        7\n",
            "3        7\n",
            "4        7\n",
            "        ..\n",
            "17089    1\n",
            "17090    1\n",
            "17091    1\n",
            "17092    1\n",
            "17093    1\n",
            "Name: Cod_Impacto, Length: 17094, dtype: int64\n",
            "Dimension de X: (17094, 4)\n",
            "Dimension de Y: (17094,)\n"
          ]
        }
      ]
    },
    {
      "cell_type": "code",
      "source": [
        "#Dividimos el dataset en entrenamiento y test 80-20\n",
        "X_train, X_test, y_train, y_test = train_test_split(X, y,\n",
        "                                                    test_size=.2,   # 80% train; 20% test\n",
        "                                                    random_state=0) # colocamos el random seed to 0 para obtener el mismo resultado constantemente\n",
        "print(\"Dimension de X_train:\", X_train.shape)\n",
        "print(\"Dimension de y_train:\", y_train.shape)\n",
        "print(\"Dimension de X_test:\", X_test.shape)\n",
        "print(\"Dimension de y_test:\", y_test.shape)"
      ],
      "metadata": {
        "colab": {
          "base_uri": "https://localhost:8080/"
        },
        "id": "c2owiEjHyWe8",
        "outputId": "1c19f875-5932-4e7e-fa48-4b22e9193c4b"
      },
      "execution_count": null,
      "outputs": [
        {
          "output_type": "stream",
          "name": "stdout",
          "text": [
            "Dimension de X_train: (13675, 4)\n",
            "Dimension de y_train: (13675,)\n",
            "Dimension de X_test: (3419, 4)\n",
            "Dimension de y_test: (3419,)\n"
          ]
        }
      ]
    },
    {
      "cell_type": "code",
      "source": [
        "from sklearn.metrics import classification_report\n",
        "import pandas as pd\n",
        "\"\"\"\n",
        "Definimos un metodo para calcular el rendimiento de los clasificadores\n",
        "\"\"\"\n",
        "def calcular_rendimiento(clf,                     # modelo de classificacion\n",
        "                         imprimir_reporte=False): # por defecto no imprimir tabla reporte\n",
        "\n",
        "  y_pred = clf.predict(X_test) # clacificar con el modelo pasado como argumento\n",
        "  report = classification_report(y_test,                         # resultados verdaderos\n",
        "                                y_pred,                         # resultados clasificados\n",
        "                                #target_names=Etiqueta, # nombres de las classes\n",
        "                                output_dict=True)               # retornar reporte como diccionario para acceder a los resultados\n",
        "  if imprimir_reporte:\n",
        "    print(classification_report(y_test,                         # resultados verdaderos\n",
        "                                y_pred))                         # resultados clasificados\n",
        "                                #target_names=unique_labels))\n",
        "\n",
        "  accuracy = report['accuracy']\n",
        "  precision = report['macro avg']['precision']\n",
        "  recall = report['macro avg']['recall']\n",
        "  f1 = report['macro avg']['f1-score']\n",
        "\n",
        "# estas variables son las que aparecen en la parte final del reporte entre parentesis\n",
        "  return accuracy, precision, recall, f1"
      ],
      "metadata": {
        "id": "1QHZqrlxyZZy"
      },
      "execution_count": null,
      "outputs": []
    },
    {
      "cell_type": "code",
      "source": [
        "# Arbol de decisiones\n",
        "from sklearn.tree import DecisionTreeClassifier\n",
        "\n",
        "DT_clf = DecisionTreeClassifier(random_state=0).fit(X_train, y_train)\n",
        "calcular_rendimiento(DT_clf, imprimir_reporte = True)"
      ],
      "metadata": {
        "colab": {
          "base_uri": "https://localhost:8080/"
        },
        "id": "CDNBPdTYyZWz",
        "outputId": "ed9fc5e5-0997-453d-99a3-5404a5f7e017"
      },
      "execution_count": null,
      "outputs": [
        {
          "output_type": "stream",
          "name": "stdout",
          "text": [
            "              precision    recall  f1-score   support\n",
            "\n",
            "           1       1.00      1.00      1.00       564\n",
            "           2       1.00      1.00      1.00       582\n",
            "           3       1.00      1.00      1.00       619\n",
            "           4       1.00      1.00      1.00       574\n",
            "           5       1.00      1.00      1.00       545\n",
            "           6       1.00      1.00      1.00       265\n",
            "           7       1.00      1.00      1.00       270\n",
            "\n",
            "    accuracy                           1.00      3419\n",
            "   macro avg       1.00      1.00      1.00      3419\n",
            "weighted avg       1.00      1.00      1.00      3419\n",
            "\n"
          ]
        },
        {
          "output_type": "execute_result",
          "data": {
            "text/plain": [
              "(1.0, 1.0, 1.0, 1.0)"
            ]
          },
          "metadata": {},
          "execution_count": 129
        }
      ]
    },
    {
      "cell_type": "code",
      "source": [
        "# Regresión logística\n",
        "from sklearn.linear_model import LogisticRegression\n",
        "\n",
        "# max_iter 2500 por que el modelo no convergia, varemos mas adelante cual sera el mejor valor\n",
        "LR_clf = LogisticRegression(random_state=0,max_iter=5500).fit(X_train, y_train)\n",
        "calcular_rendimiento(LR_clf, imprimir_reporte=True)"
      ],
      "metadata": {
        "colab": {
          "base_uri": "https://localhost:8080/"
        },
        "id": "sT0F-Pm_yZTd",
        "outputId": "cf02aa9e-d5dd-4dc1-e944-2e9e935f460a"
      },
      "execution_count": null,
      "outputs": [
        {
          "output_type": "stream",
          "name": "stdout",
          "text": [
            "              precision    recall  f1-score   support\n",
            "\n",
            "           1       0.94      0.90      0.92       564\n",
            "           2       0.79      0.74      0.77       582\n",
            "           3       0.65      0.71      0.68       619\n",
            "           4       0.58      0.50      0.54       574\n",
            "           5       0.57      0.67      0.61       545\n",
            "           6       0.47      0.36      0.41       265\n",
            "           7       0.75      0.87      0.81       270\n",
            "\n",
            "    accuracy                           0.69      3419\n",
            "   macro avg       0.68      0.68      0.68      3419\n",
            "weighted avg       0.69      0.69      0.69      3419\n",
            "\n"
          ]
        },
        {
          "output_type": "stream",
          "name": "stderr",
          "text": [
            "/usr/local/lib/python3.10/dist-packages/sklearn/linear_model/_logistic.py:460: ConvergenceWarning: lbfgs failed to converge (status=1):\n",
            "STOP: TOTAL NO. of ITERATIONS REACHED LIMIT.\n",
            "\n",
            "Increase the number of iterations (max_iter) or scale the data as shown in:\n",
            "    https://scikit-learn.org/stable/modules/preprocessing.html\n",
            "Please also refer to the documentation for alternative solver options:\n",
            "    https://scikit-learn.org/stable/modules/linear_model.html#logistic-regression\n",
            "  n_iter_i = _check_optimize_result(\n"
          ]
        },
        {
          "output_type": "execute_result",
          "data": {
            "text/plain": [
              "(0.6902603100321731,\n",
              " 0.6779446642992664,\n",
              " 0.6787175430895697,\n",
              " 0.6754133559309274)"
            ]
          },
          "metadata": {},
          "execution_count": 86
        }
      ]
    },
    {
      "cell_type": "code",
      "source": [
        "# kNN\n",
        "from sklearn.neighbors import KNeighborsClassifier\n",
        "\n",
        "KNN_clf = KNeighborsClassifier(n_neighbors=3).fit(X_train, y_train)\n",
        "calcular_rendimiento(KNN_clf, imprimir_reporte=True)"
      ],
      "metadata": {
        "colab": {
          "base_uri": "https://localhost:8080/"
        },
        "id": "oM1RD-eeyZN2",
        "outputId": "3771b163-dec0-42c5-c5bc-504e1de574b3"
      },
      "execution_count": null,
      "outputs": [
        {
          "output_type": "stream",
          "name": "stdout",
          "text": [
            "              precision    recall  f1-score   support\n",
            "\n",
            "           1       1.00      1.00      1.00       564\n",
            "           2       1.00      0.99      1.00       582\n",
            "           3       1.00      1.00      1.00       619\n",
            "           4       1.00      1.00      1.00       574\n",
            "           5       1.00      1.00      1.00       545\n",
            "           6       1.00      1.00      1.00       265\n",
            "           7       1.00      1.00      1.00       270\n",
            "\n",
            "    accuracy                           1.00      3419\n",
            "   macro avg       1.00      1.00      1.00      3419\n",
            "weighted avg       1.00      1.00      1.00      3419\n",
            "\n"
          ]
        },
        {
          "output_type": "execute_result",
          "data": {
            "text/plain": [
              "(0.999122550453349, 0.9992870680827587, 0.9992636229749632, 0.9992739111219241)"
            ]
          },
          "metadata": {},
          "execution_count": 130
        }
      ]
    },
    {
      "cell_type": "code",
      "source": [
        "# Naive Bayes\n",
        "from sklearn.naive_bayes import GaussianNB\n",
        "\n",
        "GNB_clf = GaussianNB().fit(X_train, y_train)\n",
        "calcular_rendimiento(GNB_clf, imprimir_reporte=True)"
      ],
      "metadata": {
        "colab": {
          "base_uri": "https://localhost:8080/"
        },
        "id": "QIcdU0lcyZCb",
        "outputId": "cd8bc2f4-d541-432e-9f19-c882daf61c12"
      },
      "execution_count": null,
      "outputs": [
        {
          "output_type": "stream",
          "name": "stdout",
          "text": [
            "              precision    recall  f1-score   support\n",
            "\n",
            "           1       0.96      1.00      0.98       564\n",
            "           2       0.98      0.96      0.97       582\n",
            "           3       0.96      0.98      0.97       619\n",
            "           4       1.00      0.96      0.98       574\n",
            "           5       0.97      1.00      0.98       545\n",
            "           6       0.96      0.93      0.95       265\n",
            "           7       1.00      0.97      0.98       270\n",
            "\n",
            "    accuracy                           0.97      3419\n",
            "   macro avg       0.98      0.97      0.97      3419\n",
            "weighted avg       0.98      0.97      0.97      3419\n",
            "\n"
          ]
        },
        {
          "output_type": "execute_result",
          "data": {
            "text/plain": [
              "(0.974846446329336, 0.976301089029746, 0.9707970143287177, 0.9732901671551015)"
            ]
          },
          "metadata": {},
          "execution_count": 131
        }
      ]
    },
    {
      "cell_type": "markdown",
      "source": [
        "## Intentemos mejorar el rendimiento de los modelos"
      ],
      "metadata": {
        "id": "vGxO6JyfytZf"
      }
    },
    {
      "cell_type": "code",
      "source": [
        "# Arboles de decisión\n",
        "from sklearn.model_selection import GridSearchCV\n",
        "from sklearn.metrics import roc_curve, precision_recall_curve, auc, make_scorer, recall_score, accuracy_score, precision_score, confusion_matrix\n",
        "\n",
        "def optimo_grid_search(clf,                           # clasificador que vamos a tunear\n",
        "                       parametros,                    # parametros a tunear para el clasificador\n",
        "                       refit_score='precision'):      # parametro a optimizar, por defecto precision; puede ser [precision, recall, accuracy]\n",
        "\n",
        "   # Funcion para buscar los valores optimos de un classificador, usando GridSearch.\n",
        "\n",
        "    scorers = {                                       # definimos los parametros para comparar el rendimiento del clasificador (para saber si mejora o no)\n",
        "        'precision': make_scorer(precision_score),\n",
        "        'recall': make_scorer(recall_score),\n",
        "        'accuracy': make_scorer(accuracy_score)\n",
        "    }\n",
        "    grid_search = GridSearchCV(clf,                     # clasificador\n",
        "                               parametros,              # parametros para probar en el clasificador\n",
        "                               scoring=scorers,         # las metricas de comparacion\n",
        "                               refit=refit_score,       # cual de las metricas usara para optimizar\n",
        "                               return_train_score=True, # nos permite ver el impacto de cambiar los parametros\n",
        "                               n_jobs=-1)               # -1 = usar toda la capacidad del procesador(es)\n",
        "    grid_search.fit(X_train, y_train)\n",
        "\n",
        "    print('Los mejores parametros para {} son:'.format(refit_score))\n",
        "    print(grid_search.best_params_)\n",
        "\n",
        "    return grid_search"
      ],
      "metadata": {
        "id": "xaDDPiTkyjy8"
      },
      "execution_count": null,
      "outputs": []
    },
    {
      "cell_type": "code",
      "source": [
        "DT_clf_tuned = DecisionTreeClassifier(random_state=0)\n",
        "\n",
        "\n",
        "#Podemos ver todos los parametros que se pueden\n",
        "#tunear para los arboles de decision en:\n",
        "\n",
        "#https://scikit-learn.org/stable/modules/generated/sklearn.tree.DecisionTreeClassifier.html\n",
        "\n",
        "# Definimos los parámetros que queremos tunear\n",
        "parametros = {\n",
        "    'criterion': ['gini', 'entropy'],  # El nombre correcto es 'criterion'\n",
        "    'splitter': ['best', 'random'],\n",
        "    'max_depth': [None, 2, 4, 6, 10, 20]\n",
        "}\n",
        "\n",
        "# Realizamos la búsqueda de hiperparámetros con GridSearchCV\n",
        "grid_search = GridSearchCV(DT_clf_tuned, parametros, cv=5, scoring='accuracy')\n",
        "grid_search.fit(X_train, y_train)\n",
        "\n",
        "# El modelo optimizado se encuentra en grid_search.best_estimator_\n",
        "DT_clf_tuned = grid_search.best_estimator_\n",
        "\n",
        "# Calculamos el rendimiento del modelo optimizado\n",
        "print()\n",
        "calcular_rendimiento(DT_clf_tuned, imprimir_reporte=True)"
      ],
      "metadata": {
        "colab": {
          "base_uri": "https://localhost:8080/"
        },
        "id": "q07_S0U6yjp0",
        "outputId": "f4681fd2-d394-48f3-d895-a7463bf548e0"
      },
      "execution_count": null,
      "outputs": [
        {
          "output_type": "stream",
          "name": "stdout",
          "text": [
            "\n",
            "              precision    recall  f1-score   support\n",
            "\n",
            "           1       1.00      1.00      1.00       564\n",
            "           2       1.00      1.00      1.00       582\n",
            "           3       1.00      1.00      1.00       619\n",
            "           4       1.00      1.00      1.00       574\n",
            "           5       1.00      1.00      1.00       545\n",
            "           6       1.00      1.00      1.00       265\n",
            "           7       1.00      1.00      1.00       270\n",
            "\n",
            "    accuracy                           1.00      3419\n",
            "   macro avg       1.00      1.00      1.00      3419\n",
            "weighted avg       1.00      1.00      1.00      3419\n",
            "\n"
          ]
        },
        {
          "output_type": "execute_result",
          "data": {
            "text/plain": [
              "(1.0, 1.0, 1.0, 1.0)"
            ]
          },
          "metadata": {},
          "execution_count": 99
        }
      ]
    },
    {
      "cell_type": "code",
      "source": [
        "#Mejorado REGRESION LOGISTICA\n",
        "from sklearn.linear_model import LogisticRegression\n",
        "from sklearn.model_selection import RandomizedSearchCV\n",
        "from sklearn.preprocessing import StandardScaler\n",
        "from sklearn.pipeline import Pipeline\n",
        "from scipy.stats import randint\n",
        "import numpy as np\n",
        "\n",
        "# Definimos el pipeline que incluye el escalado de los datos\n",
        "pipeline = Pipeline([\n",
        "    ('scaler', StandardScaler()),  # Escalamos los datos\n",
        "    ('log_reg', LogisticRegression(random_state=0))\n",
        "])\n",
        "\n",
        "# Definimos los parámetros para la búsqueda de hiperparámetros\n",
        "parametros = {\n",
        "    'log_reg__max_iter': [500],  # Aumentamos las iteraciones\n",
        "    'log_reg__penalty': ['l2', None],         # Usamos 'l2' o None para la penalización\n",
        "    'log_reg__solver': ['saga', 'lbfgs'],     # Solvers compatibles con 'l2' y sin regularización\n",
        "    'log_reg__class_weight': ['balanced', None]  # Peso de las clases\n",
        "}\n",
        "\n",
        "# Realizamos la búsqueda de hiperparámetros con RandomizedSearchCV\n",
        "random_search = RandomizedSearchCV(pipeline, parametros, n_iter=50, cv=5, scoring='accuracy', random_state=42)\n",
        "random_search.fit(X_train, y_train)\n",
        "\n",
        "# El modelo optimizado se encuentra en random_search.best_estimator_\n",
        "LR_clf_tuned = random_search.best_estimator_\n",
        "\n",
        "# Calculamos el rendimiento del modelo optimizado\n",
        "print(\"Mejores parámetros encontrados:\", random_search.best_params_)\n",
        "calcular_rendimiento(LR_clf_tuned, imprimir_reporte=True)\n",
        "\n"
      ],
      "metadata": {
        "colab": {
          "base_uri": "https://localhost:8080/"
        },
        "id": "DGQ7LV1BEfXL",
        "outputId": "4b065149-9c18-4ce9-e27c-4c9a3c71f076"
      },
      "execution_count": null,
      "outputs": [
        {
          "output_type": "stream",
          "name": "stderr",
          "text": [
            "/usr/local/lib/python3.10/dist-packages/sklearn/model_selection/_search.py:307: UserWarning: The total space of parameters 8 is smaller than n_iter=50. Running 8 iterations. For exhaustive searches, use GridSearchCV.\n",
            "  warnings.warn(\n",
            "/usr/local/lib/python3.10/dist-packages/sklearn/linear_model/_sag.py:350: ConvergenceWarning: The max_iter was reached which means the coef_ did not converge\n",
            "  warnings.warn(\n",
            "/usr/local/lib/python3.10/dist-packages/sklearn/linear_model/_sag.py:350: ConvergenceWarning: The max_iter was reached which means the coef_ did not converge\n",
            "  warnings.warn(\n",
            "/usr/local/lib/python3.10/dist-packages/sklearn/linear_model/_sag.py:350: ConvergenceWarning: The max_iter was reached which means the coef_ did not converge\n",
            "  warnings.warn(\n",
            "/usr/local/lib/python3.10/dist-packages/sklearn/linear_model/_sag.py:350: ConvergenceWarning: The max_iter was reached which means the coef_ did not converge\n",
            "  warnings.warn(\n",
            "/usr/local/lib/python3.10/dist-packages/sklearn/linear_model/_sag.py:350: ConvergenceWarning: The max_iter was reached which means the coef_ did not converge\n",
            "  warnings.warn(\n",
            "/usr/local/lib/python3.10/dist-packages/sklearn/linear_model/_sag.py:350: ConvergenceWarning: The max_iter was reached which means the coef_ did not converge\n",
            "  warnings.warn(\n",
            "/usr/local/lib/python3.10/dist-packages/sklearn/linear_model/_sag.py:350: ConvergenceWarning: The max_iter was reached which means the coef_ did not converge\n",
            "  warnings.warn(\n",
            "/usr/local/lib/python3.10/dist-packages/sklearn/linear_model/_sag.py:350: ConvergenceWarning: The max_iter was reached which means the coef_ did not converge\n",
            "  warnings.warn(\n",
            "/usr/local/lib/python3.10/dist-packages/sklearn/linear_model/_sag.py:350: ConvergenceWarning: The max_iter was reached which means the coef_ did not converge\n",
            "  warnings.warn(\n",
            "/usr/local/lib/python3.10/dist-packages/sklearn/linear_model/_sag.py:350: ConvergenceWarning: The max_iter was reached which means the coef_ did not converge\n",
            "  warnings.warn(\n"
          ]
        },
        {
          "output_type": "stream",
          "name": "stdout",
          "text": [
            "Mejores parámetros encontrados: {'log_reg__solver': 'lbfgs', 'log_reg__penalty': None, 'log_reg__max_iter': 500, 'log_reg__class_weight': None}\n",
            "              precision    recall  f1-score   support\n",
            "\n",
            "           1       1.00      1.00      1.00       564\n",
            "           2       1.00      1.00      1.00       582\n",
            "           3       1.00      1.00      1.00       619\n",
            "           4       1.00      1.00      1.00       574\n",
            "           5       1.00      1.00      1.00       545\n",
            "           6       1.00      1.00      1.00       265\n",
            "           7       1.00      1.00      1.00       270\n",
            "\n",
            "    accuracy                           1.00      3419\n",
            "   macro avg       1.00      1.00      1.00      3419\n",
            "weighted avg       1.00      1.00      1.00      3419\n",
            "\n"
          ]
        },
        {
          "output_type": "execute_result",
          "data": {
            "text/plain": [
              "(1.0, 1.0, 1.0, 1.0)"
            ]
          },
          "metadata": {},
          "execution_count": 135
        }
      ]
    },
    {
      "cell_type": "code",
      "source": [
        "# definimos el modelo sin entrenarlo:\n",
        "KNN_clf_tuned = KNeighborsClassifier()\n",
        "\n",
        "\"\"\"\n",
        "Podemos ver todos los parametros que se pueden\n",
        "tunear para KNN de decision en:\n",
        "\n",
        "https://scikit-learn.org/stable/modules/generated/sklearn.neighbors.KNeighborsClassifier.html\n",
        "\"\"\"\n",
        "\n",
        "parametros = {\n",
        "    'n_neighbors': [1, 3, 5, 7, 9, 11],\n",
        "    'weights': ['uniform', 'distance'],\n",
        "    'algorithm' : ['auto', 'ball_tree', 'kd_tree', 'brute']\n",
        "}\n",
        "\n",
        "KNN_clf_tuned = optimo_grid_search(KNN_clf_tuned, parametros)\n",
        "print()\n",
        "calcular_rendimiento(KNN_clf_tuned, imprimir_reporte=True)"
      ],
      "metadata": {
        "id": "CVlBrsuLy27I"
      },
      "execution_count": null,
      "outputs": []
    },
    {
      "cell_type": "code",
      "source": [
        "# definimos el modelo sin entrenarlo:\n",
        "GNB_clf_tuned = GaussianNB().fit(X_train, y_train)\n",
        "\n",
        "\"\"\"\n",
        "Como podemos ver en:\n",
        "\n",
        "https://scikit-learn.org/stable/modules/generated/sklearn.naive_bayes.GaussianNB.html\n",
        "\n",
        "El algoritmo Naive Bayes no tiene parametros que nos interese tunear; por este motivo el modelo ya se encuentra con el mejor rendimiento\n",
        "\"\"\"\n",
        "\n",
        "calcular_rendimiento(GNB_clf_tuned, imprimir_reporte=True)"
      ],
      "metadata": {
        "colab": {
          "base_uri": "https://localhost:8080/"
        },
        "id": "830X-hyZy2xy",
        "outputId": "f13f126e-99a4-4c95-dd85-5422746650f3"
      },
      "execution_count": null,
      "outputs": [
        {
          "output_type": "stream",
          "name": "stdout",
          "text": [
            "              precision    recall  f1-score   support\n",
            "\n",
            "           1       0.96      1.00      0.98       564\n",
            "           2       0.98      0.96      0.97       582\n",
            "           3       0.96      0.98      0.97       619\n",
            "           4       1.00      0.96      0.98       574\n",
            "           5       0.97      1.00      0.98       545\n",
            "           6       0.96      0.93      0.95       265\n",
            "           7       1.00      0.97      0.98       270\n",
            "\n",
            "    accuracy                           0.97      3419\n",
            "   macro avg       0.98      0.97      0.97      3419\n",
            "weighted avg       0.98      0.97      0.97      3419\n",
            "\n"
          ]
        },
        {
          "output_type": "execute_result",
          "data": {
            "text/plain": [
              "(0.974846446329336, 0.976301089029746, 0.9707970143287177, 0.9732901671551015)"
            ]
          },
          "metadata": {},
          "execution_count": 95
        }
      ]
    },
    {
      "cell_type": "markdown",
      "source": [
        "## Ahora veremos cual de los modelos es el mejor"
      ],
      "metadata": {
        "id": "rAUc8u1nzKP7"
      }
    },
    {
      "cell_type": "code",
      "source": [
        "from sklearn.metrics import roc_curve, auc\n",
        "import matplotlib.pyplot as plt\n",
        "from sklearn.preprocessing import label_binarize\n",
        "from sklearn.multiclass import OneVsRestClassifier\n",
        "\n",
        "def area_bajo_curva(clfs, nombres): # lista de clasificadores a graficar\n",
        "  \"\"\"\n",
        "  Vamos a graficar el area bajo la curva (area under the curve - AUC) de la Característica Operativa del Receptor COR\n",
        "  mejor conocido como ROC en ingles.\n",
        "  la curva ROC nos permite ver el desempeño de la clasificacion de muestro modelo con diferentes umbrales de decision (por defecto se usa 0.5)\n",
        "  \"\"\"\n",
        "  fpr = dict()\n",
        "  tpr = dict()\n",
        "  roc_auc = dict()\n",
        "\n",
        "  plt.figure(figsize=(20,10))\n",
        "  lw = 2\n",
        "  plt.plot([0, 1], [0, 1], color='navy', lw=lw, linestyle='--', label='Base')\n",
        "  plt.xlim([0.0, 1.0])\n",
        "  plt.ylim([0.0, 1.05])\n",
        "  plt.xlabel('Proporcion de Falsos Positivos')\n",
        "  plt.ylabel('Proporcion de Verdaderos Positivos')\n",
        "  plt.title('ROC ejemplo')\n",
        "\n",
        "  for i, clf in enumerate(clfs):\n",
        "    # Binarize the output\n",
        "    y_test_bin = label_binarize(y_test, classes=np.unique(y_test))\n",
        "    n_classes = y_test_bin.shape[1]\n",
        "\n",
        "    if n_classes == 2:\n",
        "        y_score = clf.predict_proba(X_test)[:, 1]\n",
        "        fpr[i], tpr[i], th = roc_curve(y_test, y_score)\n",
        "    else:\n",
        "        classifier = OneVsRestClassifier(clf)\n",
        "        y_score = classifier.fit(X_train, y_train).predict_proba(X_test)\n",
        "\n",
        "        # Compute ROC curve and ROC area for each class\n",
        "        for j in range(n_classes):\n",
        "            fpr[j], tpr[j], _ = roc_curve(y_test_bin[:, j], y_score[:, j])\n",
        "            roc_auc[j] = auc(fpr[j], tpr[j])\n",
        "\n",
        "        # Compute micro-average ROC curve and ROC area\n",
        "        fpr[\"micro\"], tpr[\"micro\"], _ = roc_curve(y_test_bin.ravel(), y_score.ravel())\n",
        "        roc_auc[\"micro\"] = auc(fpr[\"micro\"], tpr[\"micro\"])\n",
        "\n",
        "        # Plot ROC curve for micro-average\n",
        "        plt.plot(fpr[\"micro\"], tpr[\"micro\"],\n",
        "                 label='micro-average ROC curve (area = {0:0.2f})'\n",
        "                       ''.format(roc_auc[\"micro\"]))\n",
        "\n",
        "    roc_auc[i] = auc(fpr[i], tpr[i])\n",
        "    plt.plot(fpr[i], tpr[i], label='ROC %s (area = %0.2f)' % (nombres[i], roc_auc[i]))\n",
        "\n",
        "  plt.legend(loc=\"lower right\")"
      ],
      "metadata": {
        "id": "QQ-oNms6M-GQ"
      },
      "execution_count": null,
      "outputs": []
    },
    {
      "cell_type": "code",
      "source": [
        "from sklearn.metrics import roc_curve, auc\n",
        "import matplotlib.pyplot as plt\n",
        "from sklearn.preprocessing import label_binarize\n",
        "from sklearn.multiclass import OneVsRestClassifier\n",
        "\n",
        "\n",
        "area_bajo_curva([DT_clf_tuned, LR_clf_tuned, KNN_clf_tuned, GNB_clf_tuned], ['DT', 'LR', 'KNN', 'GNB'])\n"
      ],
      "metadata": {
        "colab": {
          "base_uri": "https://localhost:8080/",
          "height": 757
        },
        "id": "vS67na2UzEF9",
        "outputId": "51721188-37b0-4256-e6e9-113e799ddcf2"
      },
      "execution_count": null,
      "outputs": [
        {
          "output_type": "display_data",
          "data": {
            "text/plain": [
              "<Figure size 2000x1000 with 1 Axes>"
            ],
            "image/png": "[encoded data removed]"
          },
          "metadata": {}
        }
      ]
    }
  ],
  "metadata": {
    "colab": {
      "provenance": [],
      "include_colab_link": true
    },
    "kernelspec": {
      "display_name": "Python 3",
      "name": "python3"
    },
    "language_info": {
      "name": "python"
    }
  },
  "nbformat": 4,
  "nbformat_minor": 0
}