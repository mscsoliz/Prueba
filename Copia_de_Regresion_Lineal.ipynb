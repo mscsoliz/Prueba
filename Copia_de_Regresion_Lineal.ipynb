{
  "nbformat": 4,
  "nbformat_minor": 0,
  "metadata": {
    "colab": {
      "provenance": [],
      "include_colab_link": true
    },
    "kernelspec": {
      "name": "python3",
      "display_name": "Python 3"
    }
  },
  "cells": [
    {
      "cell_type": "markdown",
      "metadata": {
        "id": "view-in-github",
        "colab_type": "text"
      },
      "source": [
        "<a href=\"https://colab.research.google.com/github/mscsoliz/Prueba/blob/main/Copia_de_Regresion_Lineal.ipynb\" target=\"_parent\"><img src=\"https://colab.research.google.com/assets/colab-badge.svg\" alt=\"Open In Colab\"/></a>"
      ]
    },
    {
      "cell_type": "markdown",
      "source": [
        "**La regresión lineal** es una técnica ampliamente utilizada en la vida real para modelar la relación entre una variable dependiente (respuesta) y una o más variables independientes (predictoras). Aquí te presento algunos casos comunes en los que se usa la regresión lineal:\n",
        "\n",
        "1. Predicción de precios de vivienda\n",
        "Descripción: Se utiliza la regresión lineal para predecir el precio de una casa en función de características como el tamaño, la ubicación, el número de habitaciones, etc.\n",
        "Aplicación: En el sector inmobiliario, para estimar el valor de las propiedades con base en sus características.\n",
        "2. Análisis de ventas\n",
        "Descripción: Se puede modelar la relación entre el gasto en publicidad y las ventas, para entender cómo un aumento en el presupuesto publicitario puede impactar las ventas de un producto.\n",
        "Aplicación: En marketing, para planificar campañas publicitarias y optimizar el retorno de la inversión.\n",
        "3. Pronóstico de ingresos\n",
        "Descripción: La regresión lineal puede predecir los ingresos de una empresa en función de variables como el crecimiento económico, las tendencias de mercado, y las estrategias de ventas.\n",
        "Aplicación: En finanzas, para hacer predicciones de ingresos y planificar presupuestos.\n",
        "4. Estudios médicos y epidemiológicos\n",
        "Descripción: En estudios de salud, se puede utilizar la regresión lineal para modelar la relación entre el consumo de tabaco y el riesgo de desarrollar enfermedades cardíacas.\n",
        "Aplicación: En medicina, para identificar y cuantificar factores de riesgo asociados con enfermedades.\n",
        "5. Economía\n",
        "Descripción: Los economistas utilizan la regresión lineal para modelar la relación entre variables como el desempleo y la inflación (curva de Phillips) o el PIB y la inversión.\n",
        "Aplicación: Para hacer previsiones económicas y analizar políticas gubernamentales.\n",
        "6. Evaluación del rendimiento de estudiantes\n",
        "Descripción: Se puede predecir el rendimiento académico de los estudiantes en función de variables como el tiempo dedicado al estudio, la asistencia a clases, y el rendimiento anterior.\n",
        "Aplicación: En educación, para identificar factores que afectan el rendimiento académico y desarrollar estrategias de mejora.\n",
        "7. Ingeniería\n",
        "Descripción: En ingeniería, la regresión lineal se puede usar para predecir el desgaste de materiales o el tiempo de vida útil de un producto en función de variables como la temperatura, la presión o el uso.\n",
        "Aplicación: Para el diseño y mantenimiento de sistemas y productos industriales.\n",
        "8. Análisis de riesgo en seguros\n",
        "Descripción: Las compañías de seguros usan la regresión lineal para modelar el riesgo de siniestros en función de variables como la edad del asegurado, su historial de conducción, entre otros.\n",
        "Aplicación: En la fijación de primas de seguros y la gestión de riesgos.\n",
        "9. Optimización de procesos de manufactura\n",
        "Descripción: Se puede usar para modelar la relación entre las condiciones del proceso (como la velocidad de una máquina o la temperatura) y la calidad del producto final.\n",
        "Aplicación: En la industria manufacturera, para mejorar la eficiencia y calidad del proceso.\n",
        "10. Análisis de mercado laboral\n",
        "Descripción: Se puede modelar la relación entre la experiencia laboral, la educación, y el salario para entender cómo influyen estos factores en los ingresos.\n",
        "Aplicación: En recursos humanos, para análisis de equidad salarial y planificación de carreras.\n",
        "La regresión lineal es una herramienta versátil y poderosa que se aplica en diversas disciplinas para hacer predicciones, identificar tendencias, y entender la relación entre variables."
      ],
      "metadata": {
        "id": "V9DoT4r0xsP7"
      }
    },
    {
      "cell_type": "code",
      "metadata": {
        "id": "YhBvrG0ux6A1"
      },
      "source": [
        "import numpy as np\n",
        "import pylab as pl\n",
        "from sklearn import linear_model\n",
        "# este es nuestro conjunto de prueba, es solo una línea recta con algun ruido gaussiano\n",
        "\n",
        "# X es una matriz de una sola fila\n",
        "# Y es un vector o un array\n",
        "xmin, xmax = -5, 5\n",
        "n_samples = 100\n",
        "X = [[i] for i in np.linspace(xmin, xmax, n_samples)]\n",
        "Y = 2 + 0.5 * np.linspace(xmin, xmax, n_samples) \\\n",
        "      + np.random.randn(n_samples, 1).ravel()\n",
        "\n",
        "\n"
      ],
      "execution_count": null,
      "outputs": []
    },
    {
      "cell_type": "code",
      "metadata": {
        "colab": {
          "base_uri": "https://localhost:8080/"
        },
        "id": "fdin8P-0_Pxe",
        "outputId": "a9055563-2502-446a-f013-724ca9b7c7a2"
      },
      "source": [
        "print(X)\n",
        "print(Y)"
      ],
      "execution_count": null,
      "outputs": [
        {
          "output_type": "stream",
          "name": "stdout",
          "text": [
            "[[-5.0], [-4.898989898989899], [-4.797979797979798], [-4.696969696969697], [-4.595959595959596], [-4.494949494949495], [-4.393939393939394], [-4.292929292929293], [-4.191919191919192], [-4.090909090909091], [-3.9898989898989896], [-3.888888888888889], [-3.787878787878788], [-3.686868686868687], [-3.5858585858585856], [-3.484848484848485], [-3.383838383838384], [-3.282828282828283], [-3.1818181818181817], [-3.080808080808081], [-2.9797979797979797], [-2.878787878787879], [-2.7777777777777777], [-2.676767676767677], [-2.5757575757575757], [-2.474747474747475], [-2.3737373737373737], [-2.272727272727273], [-2.1717171717171717], [-2.070707070707071], [-1.9696969696969697], [-1.868686868686869], [-1.7676767676767677], [-1.6666666666666665], [-1.5656565656565657], [-1.4646464646464645], [-1.3636363636363638], [-1.2626262626262625], [-1.1616161616161618], [-1.0606060606060606], [-0.9595959595959593], [-0.858585858585859], [-0.7575757575757578], [-0.6565656565656566], [-0.5555555555555554], [-0.45454545454545503], [-0.3535353535353538], [-0.2525252525252526], [-0.15151515151515138], [-0.050505050505050164], [0.050505050505050164], [0.15151515151515138], [0.2525252525252526], [0.3535353535353538], [0.45454545454545414], [0.5555555555555554], [0.6565656565656566], [0.7575757575757578], [0.8585858585858581], [0.9595959595959593], [1.0606060606060606], [1.1616161616161618], [1.262626262626262], [1.3636363636363633], [1.4646464646464645], [1.5656565656565657], [1.666666666666667], [1.7676767676767673], [1.8686868686868685], [1.9696969696969697], [2.070707070707071], [2.1717171717171713], [2.2727272727272725], [2.3737373737373737], [2.474747474747475], [2.5757575757575752], [2.6767676767676765], [2.7777777777777777], [2.878787878787879], [2.9797979797979792], [3.0808080808080813], [3.1818181818181817], [3.282828282828282], [3.383838383838384], [3.4848484848484844], [3.5858585858585865], [3.686868686868687], [3.787878787878787], [3.8888888888888893], [3.9898989898989896], [4.09090909090909], [4.191919191919192], [4.292929292929292], [4.3939393939393945], [4.494949494949495], [4.595959595959595], [4.696969696969697], [4.797979797979798], [4.8989898989899], [5.0]]\n",
            "[-2.53352384 -0.99750247 -1.82504161  0.72773172 -1.613853    0.27123425\n",
            "  1.06891735  0.48986151 -0.49536943  0.71849598 -0.12360176  0.40639946\n",
            " -0.96974138 -0.00662358  0.59467478  1.04962242  0.16951236 -0.96446867\n",
            "  0.9727313   3.07218133  0.75671422  1.98398528  0.89170515 -0.70699414\n",
            "  1.18753428 -0.06015382  2.22729814  1.77813789  0.51801739  1.17668908\n",
            "  1.55650589  2.07538458 -0.44513224  2.27176535  0.09727196  0.07204428\n",
            "  0.08841598  1.3805969   0.3221661   1.94286438  2.22827475 -0.04612735\n",
            "  3.34340392  2.6500248   1.77611092  1.5617675   0.49315102  2.11129735\n",
            "  2.04147353  2.1820273   3.01627506  0.20029217  2.04302555  4.1078668\n",
            "  2.06712541  1.67401487  3.79495892  1.69648536  2.87751668  3.07274936\n",
            "  1.5350875   2.13116111  2.47930893  4.36199274  1.91646284  2.2023407\n",
            "  1.28833707  1.7946454   3.56538515  2.53482002  4.43436979  2.82953415\n",
            "  3.69538481  3.1509923   3.09033267  2.68318426  3.81190936  3.80574886\n",
            "  2.61715014  3.76158431  3.9716065   3.69176582  4.25458976  2.9266562\n",
            "  3.34623932  4.98121288  5.53745906  4.44093428  4.350671    5.14365441\n",
            "  2.89997696  5.19234586  4.70967428  3.84758036  4.95501833  4.4683729\n",
            "  4.7110048   4.42198169  4.72709007  4.35939147]\n"
          ]
        }
      ]
    },
    {
      "cell_type": "code",
      "metadata": {
        "colab": {
          "base_uri": "https://localhost:8080/",
          "height": 406
        },
        "id": "IpQNlFsVBAsP",
        "outputId": "ace91614-b33f-4a5b-81e6-390b514a9855"
      },
      "source": [
        "# ejecuta el clasificador\n",
        "clf = linear_model.LinearRegression()\n",
        "clf.fit(X, Y)\n",
        "\n",
        "# plotea los resultados . Scatter es la dispersión\n",
        "pl.scatter(X, Y, color='black')\n",
        "pl.plot(X, clf.predict(X), color='blue', linewidth=3)\n",
        "pl.xticks(())\n",
        "pl.yticks(())\n",
        "pl.show()"
      ],
      "execution_count": null,
      "outputs": [
        {
          "output_type": "display_data",
          "data": {
            "text/plain": [
              "<Figure size 640x480 with 1 Axes>"
            ],
            "image/png": "[encoded data removed]"
          },
          "metadata": {}
        }
      ]
    },
    {
      "cell_type": "code",
      "metadata": {
        "colab": {
          "base_uri": "https://localhost:8080/"
        },
        "id": "2fbwyVxfyPF3",
        "outputId": "b0ccc66f-11f4-4c90-dbd3-d9b3524f7fac"
      },
      "source": [
        "# buscamos el modelo adecuado\n",
        "\n",
        "[clf.intercept_,clf.coef_]"
      ],
      "execution_count": null,
      "outputs": [
        {
          "output_type": "execute_result",
          "data": {
            "text/plain": [
              "[2.066451253616371, array([0.52820623])]"
            ]
          },
          "metadata": {},
          "execution_count": 4
        }
      ]
    },
    {
      "cell_type": "markdown",
      "metadata": {
        "id": "bKzvetP1yPrE"
      },
      "source": []
    },
    {
      "cell_type": "code",
      "metadata": {
        "colab": {
          "base_uri": "https://localhost:8080/"
        },
        "id": "wWZ_knR1yQmI",
        "outputId": "b45a4d3e-df21-4b7f-dbd0-0d8388658792"
      },
      "source": [
        "clf.predict(np.array([[100]]))\n"
      ],
      "execution_count": null,
      "outputs": [
        {
          "output_type": "execute_result",
          "data": {
            "text/plain": [
              "array([54.88707462])"
            ]
          },
          "metadata": {},
          "execution_count": 5
        }
      ]
    },
    {
      "cell_type": "code",
      "metadata": {
        "colab": {
          "base_uri": "https://localhost:8080/",
          "height": 421
        },
        "id": "LnxMRHzY9Vqv",
        "outputId": "9a3b69dd-b9cc-4795-d93e-37c5b878454e"
      },
      "source": [
        "# otro ejemplo\n",
        "# Code source: Jaques Grobler\n",
        "# License: BSD 3 clause\n",
        "\n",
        "\n",
        "import matplotlib.pyplot as plt\n",
        "import numpy as np\n",
        "from sklearn import datasets, linear_model\n",
        "from sklearn.metrics import mean_squared_error, r2_score\n",
        "\n",
        "# cargamos el dataset diabetes\n",
        "# return X y significa que devuelve en 2 variables una para X otra para y\n",
        "# diabetes_X variable independiente (real, -0.2 < x < 0.2)\n",
        "# diabetes_y varable dependiente objetivo (Targets integer 25 - 346)\n",
        "diabetes_X, diabetes_y = datasets.load_diabetes(return_X_y=True)\n",
        "# imprimimos la dimension de nuestos arrays\n",
        "\n",
        "\n",
        "print(diabetes_X.shape,diabetes_y.shape)\n",
        "\n",
        "# para este ejemplo solo usaremos una columna de las 10 que tenemos en las variables independientes X (la columna 2)\n",
        "# [:,np.newaxis,2] significa:\n",
        "#  : selecciona todas las filas\n",
        "#  np.newaxis crea una nueva dimension vacia,\n",
        "#  2 selecciona la columna 2\n",
        "#resultado es una matriz de 2 dimensiones\n",
        "diabetes_X = diabetes_X[:, np.newaxis, 2]\n",
        "print(diabetes_X.shape,diabetes_y.shape)\n",
        "\n",
        "# Dividimos los datos en dos grupos, train, test (entrenamiento y test) para las variables independientes X\n",
        "# para entrenamiento sacando  desde : hasta significa como no hay dato en desde es desde el principio\n",
        "#  y hasta como es negativo es antes de los ultimos 20\n",
        "# para test los ultimos 20 como esta vacio hasta el final\n",
        "diabetes_X_train = diabetes_X[:-20]\n",
        "diabetes_X_test = diabetes_X[-20:]\n",
        "\n",
        "# Tambien dividimos las variables dependientes Y\n",
        "# se dividen tanto dependientes como independientes para validar el modelo luego de entrenarlo\n",
        "diabetes_y_train = diabetes_y[:-20]\n",
        "diabetes_y_test = diabetes_y[-20:]\n",
        "\n",
        "# Creamos el objeto de regresion lineal\n",
        "regr = linear_model.LinearRegression()\n",
        "\n",
        "# .fit es la funcion que entrena el modelo con los datos(la mayoria de los algoritmos usa fit)\n",
        "# .fit encuentra los mejores valores de la regresion\n",
        "regr.fit(diabetes_X_train, diabetes_y_train)\n",
        "\n",
        "# Make predictions using the testing set\n",
        "diabetes_y_pred = regr.predict(diabetes_X_test)\n",
        "\n",
        "# The coefficients\n",
        "print(\"y=ax+b\")\n",
        "print('a=Coeficiente (pendiente)= \\n', regr.coef_)\n",
        "print('b=interseccion con eje y= \\n', regr.intercept_)\n",
        "# El error de minimos cuadrados, cuando es menor el modelo se ajusta mejor a los datos\n",
        "# Si el error es 0 el modelo se ajusta perfectamente a los datos\n",
        "print('Error de minimos cuadrados: %.2f'\n",
        "      % mean_squared_error(diabetes_y_test, diabetes_y_pred))\n",
        "# El coeficiente de determinacion es un valor entre 0 y 1\n",
        "# nos indica que tan bien se ajusta la linea a nuestros datos (1 perfecto, 0 malo)\n",
        "print('Coeficiente de determination: %.2f'\n",
        "      % r2_score(diabetes_y_test, diabetes_y_pred))\n",
        "\n",
        "# Plot outputs\n",
        "plt.scatter(diabetes_X_test, diabetes_y_test,  color='black')\n",
        "plt.plot(diabetes_X_test, diabetes_y_pred, color='blue', linewidth=3)\n",
        "\n",
        "plt.xticks()\n",
        "plt.yticks()\n",
        "\n",
        "plt.show()"
      ],
      "execution_count": null,
      "outputs": [
        {
          "output_type": "stream",
          "name": "stdout",
          "text": [
            "(442, 10) (442,)\n",
            "(442, 1) (442,)\n",
            "y=ax+b\n",
            "a=Coeficiente (pendiente)= \n",
            " [938.23786125]\n",
            "b=interseccion con eje y= \n",
            " 152.91886182616167\n",
            "Error de minimos cuadrados: 2548.07\n",
            "Coeficiente de determination: 0.47\n"
          ]
        },
        {
          "output_type": "display_data",
          "data": {
            "text/plain": [
              "<Figure size 432x288 with 1 Axes>"
            ],
            "image/png": "[encoded data removed]"
          },
          "metadata": {
            "needs_background": "light"
          }
        }
      ]
    },
    {
      "cell_type": "code",
      "metadata": {
        "colab": {
          "base_uri": "https://localhost:8080/"
        },
        "id": "M3Y5K7U3Mfwz",
        "outputId": "241bc8c8-9ccf-48b5-f285-a76a73980aee"
      },
      "source": [
        "regr.intercept_ + regr.coef_ * diabetes_X_test [:,0] == diabetes_y_pred"
      ],
      "execution_count": null,
      "outputs": [
        {
          "output_type": "execute_result",
          "data": {
            "text/plain": [
              "array([ True,  True,  True,  True,  True,  True,  True,  True,  True,\n",
              "        True,  True,  True,  True,  True,  True,  True,  True,  True,\n",
              "        True,  True])"
            ]
          },
          "metadata": {},
          "execution_count": 10
        }
      ]
    },
    {
      "cell_type": "code",
      "metadata": {
        "colab": {
          "base_uri": "https://localhost:8080/"
        },
        "id": "eQZcoxqpM5dc",
        "outputId": "ea6c7cfc-c9fb-4789-ccbe-8973cf6daa79"
      },
      "source": [
        "diabetes_X, diabetes_y = datasets.load_diabetes(return_X_y=True)\n",
        "regr_mv = linear_model.LinearRegression()\n",
        "\n",
        "diabetes_X_train = diabetes_X[:-20]\n",
        "diabetes_X_test = diabetes_X[-20:]\n",
        "\n",
        "diabetes_y_train = diabetes_y[:-20]\n",
        "diabetes_y_test = diabetes_y[-20:]\n",
        "\n",
        "regr_mv.fit(diabetes_X_train, diabetes_y_train)\n",
        "\n",
        "regr_mv.fit(diabetes_X_train, diabetes_y_train)\n",
        "\n",
        "# Make predictions using the testing set\n",
        "diabetes_y_pred = regr_mv.predict(diabetes_X_test)\n",
        "\n",
        "# The coefficients\n",
        "print(\"y=ax+b\")\n",
        "print('a=Coeficiente (pendiente)= \\n', regr_mv.coef_)\n",
        "print('b=interseccion con eje y= \\n', regr_mv.intercept_)\n",
        "# El error de minimos cuadrados, cuando es menor el modelo se ajusta mejor a los datos\n",
        "# Si el error es 0 el modelo se ajusta perfectamente a los datos\n",
        "print('Error de minimos cuadrados: %.2f'\n",
        "      % mean_squared_error(diabetes_y_test, diabetes_y_pred))\n",
        "# El coeficiente de determinacion es un valor entre 0 y 1\n",
        "# nos indica que tan bien se ajusta la linea a nuestros datos (1 perfecto, 0 malo)\n",
        "print('Coeficiente de determination: %.2f'\n",
        "      % r2_score(diabetes_y_test, diabetes_y_pred))"
      ],
      "execution_count": null,
      "outputs": [
        {
          "output_type": "stream",
          "name": "stdout",
          "text": [
            "y=ax+b\n",
            "a=Coeficiente (pendiente)= \n",
            " [ 3.03499549e-01 -2.37639315e+02  5.10530605e+02  3.27736980e+02\n",
            " -8.14131709e+02  4.92814588e+02  1.02848452e+02  1.84606489e+02\n",
            "  7.43519617e+02  7.60951722e+01]\n",
            "b=interseccion con eje y= \n",
            " 152.76430691633442\n",
            "Error de minimos cuadrados: 2004.57\n",
            "Coeficiente de determination: 0.59\n"
          ]
        }
      ]
    },
    {
      "cell_type": "code",
      "metadata": {
        "id": "j-wCHnBZEQy7"
      },
      "source": [],
      "execution_count": null,
      "outputs": []
    }
  ]
}